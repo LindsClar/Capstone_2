{
 "cells": [
  {
   "cell_type": "raw",
   "id": "331e8168-1424-4974-b65e-66b7b4cb5c9c",
   "metadata": {},
   "source": [
    "Housing Trends in the US : California VS Texas\n",
    "\n",
    "Properties are extremely desirable, whether as an investment for financial gain, a home for a family, or even for retirement. We observe how property values have increased over time across all states in the U.S. In particular, there has been a noticeable trend of people moving from California to Texas in recent years. In this project, we will analyze the increase in property values in both California and Texas from 2018 to 2024. We will also conclude which state is likely to offer buyers more financial gain in the future.\n",
    "\n",
    "With this we as future or present buys can make a more informed decision on where we would like to buy. We Ask Which state is more desireable and more profitable to purchase a home in? "
   ]
  },
  {
   "cell_type": "code",
   "execution_count": 134,
   "id": "3f069167-5102-46d6-989c-2ab5b8fa0609",
   "metadata": {},
   "outputs": [],
   "source": [
    "#Loading Libraries\n",
    "import pandas as pd\n",
    "import os\n",
    "\n",
    "#import plotting libraries\n",
    "import matplotlib.pyplot as plt\n",
    "import seaborn as sns\n",
    "import plotly.express as px\n",
    "\n",
    "from pathlib import Path #Why? This is to import the data as path\n",
    "from datetime import date #Why\n",
    "from pandas.tseries.offsets import MonthEnd #Why\n",
    "\n",
    "#import the Data\n",
    "stuff = Path('/Users/lindsaytruax/Desktop/SQL/Capstone_Projects/Capstone_2/USRealEstateTrends.csv')\n",
    "df = pd.read_csv(stuff)"
   ]
  },
  {
   "cell_type": "raw",
   "id": "b813626d-f6cc-4ece-b7a3-d87c5e2cbcbb",
   "metadata": {},
   "source": [
    "With the data Loaded from Zillow with all the US Estate Trends. Before I seperate the data to CA and TX. I'll be organizing the data and remove any missing data that is unneccesary.  "
   ]
  },
  {
   "cell_type": "code",
   "execution_count": 136,
   "id": "b38b579c-3d2b-4eb6-8f40-822a11fb1f1b",
   "metadata": {},
   "outputs": [
    {
     "data": {
      "text/plain": [
       "Index(['RegionID', 'SizeRank', 'RegionName', 'StateName', '2018-02-HomeValue',\n",
       "       '2018-02-DaysPending', '2018-02-CutRaw', '2018-03-HomeValue',\n",
       "       '2018-03-DaysPending', '2018-03-CutRaw',\n",
       "       ...\n",
       "       '2024-02-CutRaw', '2024-03-HomeValue', '2024-03-DaysPending',\n",
       "       '2024-03-CutRaw', '2024-04-HomeValue', '2024-04-DaysPending',\n",
       "       '2024-04-CutRaw', '2024-05-HomeValue', '2024-05-DaysPending',\n",
       "       '2024-05-CutRaw'],\n",
       "      dtype='object', length=232)"
      ]
     },
     "execution_count": 136,
     "metadata": {},
     "output_type": "execute_result"
    }
   ],
   "source": [
    "#identifying columns \n",
    "df.columns"
   ]
  },
  {
   "cell_type": "code",
   "execution_count": 138,
   "id": "5fa8d37a-2d08-4dca-b0e5-5062ae1d81ad",
   "metadata": {},
   "outputs": [
    {
     "data": {
      "text/html": [
       "<div>\n",
       "<style scoped>\n",
       "    .dataframe tbody tr th:only-of-type {\n",
       "        vertical-align: middle;\n",
       "    }\n",
       "\n",
       "    .dataframe tbody tr th {\n",
       "        vertical-align: top;\n",
       "    }\n",
       "\n",
       "    .dataframe thead th {\n",
       "        text-align: right;\n",
       "    }\n",
       "</style>\n",
       "<table border=\"1\" class=\"dataframe\">\n",
       "  <thead>\n",
       "    <tr style=\"text-align: right;\">\n",
       "      <th></th>\n",
       "      <th>RegionID</th>\n",
       "      <th>SizeRank</th>\n",
       "      <th>Location</th>\n",
       "      <th>State</th>\n",
       "      <th>Date_Measure</th>\n",
       "      <th>Value</th>\n",
       "    </tr>\n",
       "  </thead>\n",
       "  <tbody>\n",
       "    <tr>\n",
       "      <th>0</th>\n",
       "      <td>394913</td>\n",
       "      <td>1</td>\n",
       "      <td>New York, NY</td>\n",
       "      <td>NY</td>\n",
       "      <td>2018-02-HomeValue</td>\n",
       "      <td>468313.430126</td>\n",
       "    </tr>\n",
       "    <tr>\n",
       "      <th>1</th>\n",
       "      <td>753899</td>\n",
       "      <td>2</td>\n",
       "      <td>Los Angeles, CA</td>\n",
       "      <td>CA</td>\n",
       "      <td>2018-02-HomeValue</td>\n",
       "      <td>629019.165765</td>\n",
       "    </tr>\n",
       "    <tr>\n",
       "      <th>2</th>\n",
       "      <td>394463</td>\n",
       "      <td>3</td>\n",
       "      <td>Chicago, IL</td>\n",
       "      <td>IL</td>\n",
       "      <td>2018-02-HomeValue</td>\n",
       "      <td>229741.266973</td>\n",
       "    </tr>\n",
       "  </tbody>\n",
       "</table>\n",
       "</div>"
      ],
      "text/plain": [
       "   RegionID  SizeRank         Location State       Date_Measure          Value\n",
       "0    394913         1     New York, NY    NY  2018-02-HomeValue  468313.430126\n",
       "1    753899         2  Los Angeles, CA    CA  2018-02-HomeValue  629019.165765\n",
       "2    394463         3      Chicago, IL    IL  2018-02-HomeValue  229741.266973"
      ]
     },
     "execution_count": 138,
     "metadata": {},
     "output_type": "execute_result"
    }
   ],
   "source": [
    "#rename column name\n",
    "df.rename(index=str, columns={'RegionName' : 'Location', 'StateName':'State'}, inplace=True)\n",
    "\n",
    "#dropping the not needed \n",
    "df.dropna(inplace=True)\n",
    "\n",
    "#identifying missing values\n",
    "df.isna().sum()\n",
    "\n",
    "#melting data for graphing\n",
    "df_melted = pd.melt(df, id_vars=['RegionID', 'SizeRank','Location','State'],\n",
    "                    var_name='Date_Measure',\n",
    "                    value_name='Value')\n",
    "df_melted.head(3)"
   ]
  },
  {
   "cell_type": "code",
   "execution_count": 140,
   "id": "facfe200-cd90-45b0-ad01-73acb4639d33",
   "metadata": {},
   "outputs": [
    {
     "data": {
      "text/html": [
       "<div>\n",
       "<style scoped>\n",
       "    .dataframe tbody tr th:only-of-type {\n",
       "        vertical-align: middle;\n",
       "    }\n",
       "\n",
       "    .dataframe tbody tr th {\n",
       "        vertical-align: top;\n",
       "    }\n",
       "\n",
       "    .dataframe thead th {\n",
       "        text-align: right;\n",
       "    }\n",
       "</style>\n",
       "<table border=\"1\" class=\"dataframe\">\n",
       "  <thead>\n",
       "    <tr style=\"text-align: right;\">\n",
       "      <th></th>\n",
       "      <th>RegionID</th>\n",
       "      <th>SizeRank</th>\n",
       "      <th>Location</th>\n",
       "      <th>State</th>\n",
       "      <th>Value</th>\n",
       "      <th>Year</th>\n",
       "      <th>Month_Measure</th>\n",
       "    </tr>\n",
       "  </thead>\n",
       "  <tbody>\n",
       "    <tr>\n",
       "      <th>0</th>\n",
       "      <td>394913</td>\n",
       "      <td>1</td>\n",
       "      <td>New York, NY</td>\n",
       "      <td>NY</td>\n",
       "      <td>468313.430126</td>\n",
       "      <td>2018</td>\n",
       "      <td>02-HomeValue</td>\n",
       "    </tr>\n",
       "    <tr>\n",
       "      <th>1</th>\n",
       "      <td>753899</td>\n",
       "      <td>2</td>\n",
       "      <td>Los Angeles, CA</td>\n",
       "      <td>CA</td>\n",
       "      <td>629019.165765</td>\n",
       "      <td>2018</td>\n",
       "      <td>02-HomeValue</td>\n",
       "    </tr>\n",
       "    <tr>\n",
       "      <th>2</th>\n",
       "      <td>394463</td>\n",
       "      <td>3</td>\n",
       "      <td>Chicago, IL</td>\n",
       "      <td>IL</td>\n",
       "      <td>229741.266973</td>\n",
       "      <td>2018</td>\n",
       "      <td>02-HomeValue</td>\n",
       "    </tr>\n",
       "    <tr>\n",
       "      <th>3</th>\n",
       "      <td>394514</td>\n",
       "      <td>4</td>\n",
       "      <td>Dallas, TX</td>\n",
       "      <td>TX</td>\n",
       "      <td>241533.231800</td>\n",
       "      <td>2018</td>\n",
       "      <td>02-HomeValue</td>\n",
       "    </tr>\n",
       "    <tr>\n",
       "      <th>4</th>\n",
       "      <td>394692</td>\n",
       "      <td>5</td>\n",
       "      <td>Houston, TX</td>\n",
       "      <td>TX</td>\n",
       "      <td>208651.872272</td>\n",
       "      <td>2018</td>\n",
       "      <td>02-HomeValue</td>\n",
       "    </tr>\n",
       "  </tbody>\n",
       "</table>\n",
       "</div>"
      ],
      "text/plain": [
       "   RegionID  SizeRank         Location State          Value  Year  \\\n",
       "0    394913         1     New York, NY    NY  468313.430126  2018   \n",
       "1    753899         2  Los Angeles, CA    CA  629019.165765  2018   \n",
       "2    394463         3      Chicago, IL    IL  229741.266973  2018   \n",
       "3    394514         4       Dallas, TX    TX  241533.231800  2018   \n",
       "4    394692         5      Houston, TX    TX  208651.872272  2018   \n",
       "\n",
       "  Month_Measure  \n",
       "0  02-HomeValue  \n",
       "1  02-HomeValue  \n",
       "2  02-HomeValue  \n",
       "3  02-HomeValue  \n",
       "4  02-HomeValue  "
      ]
     },
     "execution_count": 140,
     "metadata": {},
     "output_type": "execute_result"
    }
   ],
   "source": [
    "#focusing Date_Measure for graphing purposes \n",
    "df_melted[['Year', 'Month_Measure']] = df_melted['Date_Measure'].str.split('-', expand=True, n=1)\n",
    "df_melted.drop(columns=['Date_Measure'], inplace=True)\n",
    "df_melted.head(5)"
   ]
  },
  {
   "cell_type": "code",
   "execution_count": 142,
   "id": "d359416c-ce15-4953-a354-5e6ee5034806",
   "metadata": {},
   "outputs": [
    {
     "data": {
      "text/html": [
       "<div>\n",
       "<style scoped>\n",
       "    .dataframe tbody tr th:only-of-type {\n",
       "        vertical-align: middle;\n",
       "    }\n",
       "\n",
       "    .dataframe tbody tr th {\n",
       "        vertical-align: top;\n",
       "    }\n",
       "\n",
       "    .dataframe thead th {\n",
       "        text-align: right;\n",
       "    }\n",
       "</style>\n",
       "<table border=\"1\" class=\"dataframe\">\n",
       "  <thead>\n",
       "    <tr style=\"text-align: right;\">\n",
       "      <th></th>\n",
       "      <th>RegionID</th>\n",
       "      <th>SizeRank</th>\n",
       "      <th>Location</th>\n",
       "      <th>State</th>\n",
       "      <th>Value</th>\n",
       "      <th>Year</th>\n",
       "      <th>Month</th>\n",
       "      <th>Measure</th>\n",
       "    </tr>\n",
       "  </thead>\n",
       "  <tbody>\n",
       "    <tr>\n",
       "      <th>0</th>\n",
       "      <td>394913</td>\n",
       "      <td>1</td>\n",
       "      <td>New York, NY</td>\n",
       "      <td>NY</td>\n",
       "      <td>468313.430126</td>\n",
       "      <td>2018</td>\n",
       "      <td>02</td>\n",
       "      <td>HomeValue</td>\n",
       "    </tr>\n",
       "    <tr>\n",
       "      <th>1</th>\n",
       "      <td>753899</td>\n",
       "      <td>2</td>\n",
       "      <td>Los Angeles, CA</td>\n",
       "      <td>CA</td>\n",
       "      <td>629019.165765</td>\n",
       "      <td>2018</td>\n",
       "      <td>02</td>\n",
       "      <td>HomeValue</td>\n",
       "    </tr>\n",
       "    <tr>\n",
       "      <th>2</th>\n",
       "      <td>394463</td>\n",
       "      <td>3</td>\n",
       "      <td>Chicago, IL</td>\n",
       "      <td>IL</td>\n",
       "      <td>229741.266973</td>\n",
       "      <td>2018</td>\n",
       "      <td>02</td>\n",
       "      <td>HomeValue</td>\n",
       "    </tr>\n",
       "    <tr>\n",
       "      <th>3</th>\n",
       "      <td>394514</td>\n",
       "      <td>4</td>\n",
       "      <td>Dallas, TX</td>\n",
       "      <td>TX</td>\n",
       "      <td>241533.231800</td>\n",
       "      <td>2018</td>\n",
       "      <td>02</td>\n",
       "      <td>HomeValue</td>\n",
       "    </tr>\n",
       "    <tr>\n",
       "      <th>4</th>\n",
       "      <td>394692</td>\n",
       "      <td>5</td>\n",
       "      <td>Houston, TX</td>\n",
       "      <td>TX</td>\n",
       "      <td>208651.872272</td>\n",
       "      <td>2018</td>\n",
       "      <td>02</td>\n",
       "      <td>HomeValue</td>\n",
       "    </tr>\n",
       "  </tbody>\n",
       "</table>\n",
       "</div>"
      ],
      "text/plain": [
       "   RegionID  SizeRank         Location State          Value  Year Month  \\\n",
       "0    394913         1     New York, NY    NY  468313.430126  2018    02   \n",
       "1    753899         2  Los Angeles, CA    CA  629019.165765  2018    02   \n",
       "2    394463         3      Chicago, IL    IL  229741.266973  2018    02   \n",
       "3    394514         4       Dallas, TX    TX  241533.231800  2018    02   \n",
       "4    394692         5      Houston, TX    TX  208651.872272  2018    02   \n",
       "\n",
       "     Measure  \n",
       "0  HomeValue  \n",
       "1  HomeValue  \n",
       "2  HomeValue  \n",
       "3  HomeValue  \n",
       "4  HomeValue  "
      ]
     },
     "execution_count": 142,
     "metadata": {},
     "output_type": "execute_result"
    }
   ],
   "source": [
    "#Sep. Month and Measure\n",
    "df_melted[['Month', 'Measure']] = df_melted['Month_Measure'].str.split('-', expand=True, n=1)\n",
    "df_melted.drop(columns=['Month_Measure'], inplace=True)\n",
    "df_melted.head(5)"
   ]
  },
  {
   "cell_type": "code",
   "execution_count": 144,
   "id": "526717be-b234-4233-b84e-143c58d01488",
   "metadata": {},
   "outputs": [],
   "source": [
    "#print([col for col in df.columns if '2018' in col])"
   ]
  },
  {
   "cell_type": "code",
   "execution_count": 146,
   "id": "c7ebca54-ed5f-44c2-91a9-8ee2406ad1dc",
   "metadata": {},
   "outputs": [
    {
     "data": {
      "text/html": [
       "<div>\n",
       "<style scoped>\n",
       "    .dataframe tbody tr th:only-of-type {\n",
       "        vertical-align: middle;\n",
       "    }\n",
       "\n",
       "    .dataframe tbody tr th {\n",
       "        vertical-align: top;\n",
       "    }\n",
       "\n",
       "    .dataframe thead th {\n",
       "        text-align: right;\n",
       "    }\n",
       "</style>\n",
       "<table border=\"1\" class=\"dataframe\">\n",
       "  <thead>\n",
       "    <tr style=\"text-align: right;\">\n",
       "      <th>Measure</th>\n",
       "      <th>RegionID</th>\n",
       "      <th>SizeRank</th>\n",
       "      <th>Location</th>\n",
       "      <th>State</th>\n",
       "      <th>Year</th>\n",
       "      <th>Month</th>\n",
       "      <th>CutRaw</th>\n",
       "      <th>DaysPending</th>\n",
       "      <th>HomeValue</th>\n",
       "    </tr>\n",
       "  </thead>\n",
       "  <tbody>\n",
       "    <tr>\n",
       "      <th>0</th>\n",
       "      <td>394308</td>\n",
       "      <td>64</td>\n",
       "      <td>Albany, NY</td>\n",
       "      <td>NY</td>\n",
       "      <td>2018</td>\n",
       "      <td>02</td>\n",
       "      <td>5100.0</td>\n",
       "      <td>64.0</td>\n",
       "      <td>218876.519605</td>\n",
       "    </tr>\n",
       "    <tr>\n",
       "      <th>1</th>\n",
       "      <td>394308</td>\n",
       "      <td>64</td>\n",
       "      <td>Albany, NY</td>\n",
       "      <td>NY</td>\n",
       "      <td>2018</td>\n",
       "      <td>03</td>\n",
       "      <td>7000.0</td>\n",
       "      <td>62.0</td>\n",
       "      <td>219792.863791</td>\n",
       "    </tr>\n",
       "    <tr>\n",
       "      <th>2</th>\n",
       "      <td>394308</td>\n",
       "      <td>64</td>\n",
       "      <td>Albany, NY</td>\n",
       "      <td>NY</td>\n",
       "      <td>2018</td>\n",
       "      <td>04</td>\n",
       "      <td>8000.0</td>\n",
       "      <td>54.0</td>\n",
       "      <td>220505.058669</td>\n",
       "    </tr>\n",
       "    <tr>\n",
       "      <th>3</th>\n",
       "      <td>394308</td>\n",
       "      <td>64</td>\n",
       "      <td>Albany, NY</td>\n",
       "      <td>NY</td>\n",
       "      <td>2018</td>\n",
       "      <td>05</td>\n",
       "      <td>9000.0</td>\n",
       "      <td>45.0</td>\n",
       "      <td>221526.705984</td>\n",
       "    </tr>\n",
       "    <tr>\n",
       "      <th>4</th>\n",
       "      <td>394308</td>\n",
       "      <td>64</td>\n",
       "      <td>Albany, NY</td>\n",
       "      <td>NY</td>\n",
       "      <td>2018</td>\n",
       "      <td>06</td>\n",
       "      <td>9100.0</td>\n",
       "      <td>47.0</td>\n",
       "      <td>222479.931387</td>\n",
       "    </tr>\n",
       "  </tbody>\n",
       "</table>\n",
       "</div>"
      ],
      "text/plain": [
       "Measure  RegionID  SizeRank    Location State  Year Month  CutRaw  \\\n",
       "0          394308        64  Albany, NY    NY  2018    02  5100.0   \n",
       "1          394308        64  Albany, NY    NY  2018    03  7000.0   \n",
       "2          394308        64  Albany, NY    NY  2018    04  8000.0   \n",
       "3          394308        64  Albany, NY    NY  2018    05  9000.0   \n",
       "4          394308        64  Albany, NY    NY  2018    06  9100.0   \n",
       "\n",
       "Measure  DaysPending      HomeValue  \n",
       "0               64.0  218876.519605  \n",
       "1               62.0  219792.863791  \n",
       "2               54.0  220505.058669  \n",
       "3               45.0  221526.705984  \n",
       "4               47.0  222479.931387  "
      ]
     },
     "execution_count": 146,
     "metadata": {},
     "output_type": "execute_result"
    }
   ],
   "source": [
    "# Pivot the DataFrame to have measures as columns\n",
    "df_reorganized = df_melted.pivot_table(index=['RegionID','SizeRank','Location','State','Year','Month'] \t,\n",
    "                                       columns='Measure', values='Value').reset_index()\n",
    "df_reorganized.head(5)"
   ]
  },
  {
   "cell_type": "raw",
   "id": "e8c68d6a-2691-4a38-9bee-2da92a120879",
   "metadata": {},
   "source": [
    "From Here we eliminated all the values and verfied that there were no  missing values. Since this analysis will only be looking at California or Texas. There needs to be a devision in the data set between each state. There will be CA_df and TX_df. "
   ]
  },
  {
   "cell_type": "code",
   "execution_count": 185,
   "id": "23d61d16-735a-42cc-88d0-2807feccaf82",
   "metadata": {},
   "outputs": [],
   "source": [
    "#Pull frame by State CA\n",
    "CA_df = df_reorganized.loc[df_reorganized['State'] == 'CA']\n",
    "#Now it's Texas\n",
    "TX_df = df_reorganized.loc[df_reorganized['State'] == 'TX']"
   ]
  },
  {
   "cell_type": "raw",
   "id": "9f498765-ff27-4db5-8725-e95cc3837f91",
   "metadata": {},
   "source": [
    "Now lets take a look at the overal view of the each states. We create a new column to the  "
   ]
  },
  {
   "cell_type": "code",
   "execution_count": 161,
   "id": "7fdd76aa-3e60-4472-9ea1-a4e1269b77f6",
   "metadata": {},
   "outputs": [
    {
     "name": "stdout",
     "output_type": "stream",
     "text": [
      "304    2018-02-01\n",
      "305    2018-03-01\n",
      "306    2018-04-01\n",
      "307    2018-05-01\n",
      "308    2018-06-01\n",
      "          ...    \n",
      "9267   2024-01-01\n",
      "9268   2024-02-01\n",
      "9269   2024-03-01\n",
      "9270   2024-04-01\n",
      "9271   2024-05-01\n",
      "Name: Date, Length: 836, dtype: datetime64[ns]\n",
      "532    2018-02-01\n",
      "533    2018-03-01\n",
      "534    2018-04-01\n",
      "535    2018-05-01\n",
      "536    2018-06-01\n",
      "          ...    \n",
      "8583   2024-01-01\n",
      "8584   2024-02-01\n",
      "8585   2024-03-01\n",
      "8586   2024-04-01\n",
      "8587   2024-05-01\n",
      "Name: Date, Length: 684, dtype: datetime64[ns]\n"
     ]
    },
    {
     "name": "stderr",
     "output_type": "stream",
     "text": [
      "/var/folders/k5/pw4j05rj6v5f9rxlvmxw5k580000gn/T/ipykernel_81940/3064266001.py:1: SettingWithCopyWarning:\n",
      "\n",
      "\n",
      "A value is trying to be set on a copy of a slice from a DataFrame.\n",
      "Try using .loc[row_indexer,col_indexer] = value instead\n",
      "\n",
      "See the caveats in the documentation: https://pandas.pydata.org/pandas-docs/stable/user_guide/indexing.html#returning-a-view-versus-a-copy\n",
      "\n",
      "/var/folders/k5/pw4j05rj6v5f9rxlvmxw5k580000gn/T/ipykernel_81940/3064266001.py:4: SettingWithCopyWarning:\n",
      "\n",
      "\n",
      "A value is trying to be set on a copy of a slice from a DataFrame.\n",
      "Try using .loc[row_indexer,col_indexer] = value instead\n",
      "\n",
      "See the caveats in the documentation: https://pandas.pydata.org/pandas-docs/stable/user_guide/indexing.html#returning-a-view-versus-a-copy\n",
      "\n"
     ]
    }
   ],
   "source": [
    "CA_df['Date'] = pd.to_datetime(CA_df['Year'].astype(str) + '-' + CA_df['Month'].astype(str))\n",
    "#print(CA_df['Date'])\n",
    "\n",
    "TX_df['Date'] = pd.to_datetime(TX_df['Year'].astype(str) + '-' + TX_df['Month'].astype(str))\n",
    "#print(TX_df['Date'])"
   ]
  },
  {
   "cell_type": "code",
   "execution_count": 159,
   "id": "4ae8d3e2-affb-4694-a6e0-99ae9ea48c3a",
   "metadata": {},
   "outputs": [
    {
     "name": "stderr",
     "output_type": "stream",
     "text": [
      "/opt/anaconda3/lib/python3.11/site-packages/_plotly_utils/basevalidators.py:106: FutureWarning:\n",
      "\n",
      "The behavior of DatetimeProperties.to_pydatetime is deprecated, in a future version this will return a Series containing python datetime objects instead of an ndarray. To retain the old behavior, call `np.array` on the result\n",
      "\n"
     ]
    },
    {
     "data": {
      "application/vnd.plotly.v1+json": {
       "config": {
        "plotlyServerURL": "https://plot.ly"
       },
       "data": [
        {
         "customdata": [
          [
           "Bakersfield, CA"
          ],
          [
           "Bakersfield, CA"
          ],
          [
           "Bakersfield, CA"
          ],
          [
           "Bakersfield, CA"
          ],
          [
           "Bakersfield, CA"
          ],
          [
           "Bakersfield, CA"
          ],
          [
           "Bakersfield, CA"
          ],
          [
           "Bakersfield, CA"
          ],
          [
           "Bakersfield, CA"
          ],
          [
           "Bakersfield, CA"
          ],
          [
           "Bakersfield, CA"
          ],
          [
           "Bakersfield, CA"
          ],
          [
           "Bakersfield, CA"
          ],
          [
           "Bakersfield, CA"
          ],
          [
           "Bakersfield, CA"
          ],
          [
           "Bakersfield, CA"
          ],
          [
           "Bakersfield, CA"
          ],
          [
           "Bakersfield, CA"
          ],
          [
           "Bakersfield, CA"
          ],
          [
           "Bakersfield, CA"
          ],
          [
           "Bakersfield, CA"
          ],
          [
           "Bakersfield, CA"
          ],
          [
           "Bakersfield, CA"
          ],
          [
           "Bakersfield, CA"
          ],
          [
           "Bakersfield, CA"
          ],
          [
           "Bakersfield, CA"
          ],
          [
           "Bakersfield, CA"
          ],
          [
           "Bakersfield, CA"
          ],
          [
           "Bakersfield, CA"
          ],
          [
           "Bakersfield, CA"
          ],
          [
           "Bakersfield, CA"
          ],
          [
           "Bakersfield, CA"
          ],
          [
           "Bakersfield, CA"
          ],
          [
           "Bakersfield, CA"
          ],
          [
           "Bakersfield, CA"
          ],
          [
           "Bakersfield, CA"
          ],
          [
           "Bakersfield, CA"
          ],
          [
           "Bakersfield, CA"
          ],
          [
           "Bakersfield, CA"
          ],
          [
           "Bakersfield, CA"
          ],
          [
           "Bakersfield, CA"
          ],
          [
           "Bakersfield, CA"
          ],
          [
           "Bakersfield, CA"
          ],
          [
           "Bakersfield, CA"
          ],
          [
           "Bakersfield, CA"
          ],
          [
           "Bakersfield, CA"
          ],
          [
           "Bakersfield, CA"
          ],
          [
           "Bakersfield, CA"
          ],
          [
           "Bakersfield, CA"
          ],
          [
           "Bakersfield, CA"
          ],
          [
           "Bakersfield, CA"
          ],
          [
           "Bakersfield, CA"
          ],
          [
           "Bakersfield, CA"
          ],
          [
           "Bakersfield, CA"
          ],
          [
           "Bakersfield, CA"
          ],
          [
           "Bakersfield, CA"
          ],
          [
           "Bakersfield, CA"
          ],
          [
           "Bakersfield, CA"
          ],
          [
           "Bakersfield, CA"
          ],
          [
           "Bakersfield, CA"
          ],
          [
           "Bakersfield, CA"
          ],
          [
           "Bakersfield, CA"
          ],
          [
           "Bakersfield, CA"
          ],
          [
           "Bakersfield, CA"
          ],
          [
           "Bakersfield, CA"
          ],
          [
           "Bakersfield, CA"
          ],
          [
           "Bakersfield, CA"
          ],
          [
           "Bakersfield, CA"
          ],
          [
           "Bakersfield, CA"
          ],
          [
           "Bakersfield, CA"
          ],
          [
           "Bakersfield, CA"
          ],
          [
           "Bakersfield, CA"
          ],
          [
           "Bakersfield, CA"
          ],
          [
           "Bakersfield, CA"
          ],
          [
           "Bakersfield, CA"
          ],
          [
           "Bakersfield, CA"
          ],
          [
           "Chico, CA"
          ],
          [
           "Chico, CA"
          ],
          [
           "Chico, CA"
          ],
          [
           "Chico, CA"
          ],
          [
           "Chico, CA"
          ],
          [
           "Chico, CA"
          ],
          [
           "Chico, CA"
          ],
          [
           "Chico, CA"
          ],
          [
           "Chico, CA"
          ],
          [
           "Chico, CA"
          ],
          [
           "Chico, CA"
          ],
          [
           "Chico, CA"
          ],
          [
           "Chico, CA"
          ],
          [
           "Chico, CA"
          ],
          [
           "Chico, CA"
          ],
          [
           "Chico, CA"
          ],
          [
           "Chico, CA"
          ],
          [
           "Chico, CA"
          ],
          [
           "Chico, CA"
          ],
          [
           "Chico, CA"
          ],
          [
           "Chico, CA"
          ],
          [
           "Chico, CA"
          ],
          [
           "Chico, CA"
          ],
          [
           "Chico, CA"
          ],
          [
           "Chico, CA"
          ],
          [
           "Chico, CA"
          ],
          [
           "Chico, CA"
          ],
          [
           "Chico, CA"
          ],
          [
           "Chico, CA"
          ],
          [
           "Chico, CA"
          ],
          [
           "Chico, CA"
          ],
          [
           "Chico, CA"
          ],
          [
           "Chico, CA"
          ],
          [
           "Chico, CA"
          ],
          [
           "Chico, CA"
          ],
          [
           "Chico, CA"
          ],
          [
           "Chico, CA"
          ],
          [
           "Chico, CA"
          ],
          [
           "Chico, CA"
          ],
          [
           "Chico, CA"
          ],
          [
           "Chico, CA"
          ],
          [
           "Chico, CA"
          ],
          [
           "Chico, CA"
          ],
          [
           "Chico, CA"
          ],
          [
           "Chico, CA"
          ],
          [
           "Chico, CA"
          ],
          [
           "Chico, CA"
          ],
          [
           "Chico, CA"
          ],
          [
           "Chico, CA"
          ],
          [
           "Chico, CA"
          ],
          [
           "Chico, CA"
          ],
          [
           "Chico, CA"
          ],
          [
           "Chico, CA"
          ],
          [
           "Chico, CA"
          ],
          [
           "Chico, CA"
          ],
          [
           "Chico, CA"
          ],
          [
           "Chico, CA"
          ],
          [
           "Chico, CA"
          ],
          [
           "Chico, CA"
          ],
          [
           "Chico, CA"
          ],
          [
           "Chico, CA"
          ],
          [
           "Chico, CA"
          ],
          [
           "Chico, CA"
          ],
          [
           "Chico, CA"
          ],
          [
           "Chico, CA"
          ],
          [
           "Chico, CA"
          ],
          [
           "Chico, CA"
          ],
          [
           "Chico, CA"
          ],
          [
           "Chico, CA"
          ],
          [
           "Chico, CA"
          ],
          [
           "Chico, CA"
          ],
          [
           "Chico, CA"
          ],
          [
           "Chico, CA"
          ],
          [
           "Chico, CA"
          ],
          [
           "Chico, CA"
          ],
          [
           "Chico, CA"
          ],
          [
           "Oxnard, CA"
          ],
          [
           "Oxnard, CA"
          ],
          [
           "Oxnard, CA"
          ],
          [
           "Oxnard, CA"
          ],
          [
           "Oxnard, CA"
          ],
          [
           "Oxnard, CA"
          ],
          [
           "Oxnard, CA"
          ],
          [
           "Oxnard, CA"
          ],
          [
           "Oxnard, CA"
          ],
          [
           "Oxnard, CA"
          ],
          [
           "Oxnard, CA"
          ],
          [
           "Oxnard, CA"
          ],
          [
           "Oxnard, CA"
          ],
          [
           "Oxnard, CA"
          ],
          [
           "Oxnard, CA"
          ],
          [
           "Oxnard, CA"
          ],
          [
           "Oxnard, CA"
          ],
          [
           "Oxnard, CA"
          ],
          [
           "Oxnard, CA"
          ],
          [
           "Oxnard, CA"
          ],
          [
           "Oxnard, CA"
          ],
          [
           "Oxnard, CA"
          ],
          [
           "Oxnard, CA"
          ],
          [
           "Oxnard, CA"
          ],
          [
           "Oxnard, CA"
          ],
          [
           "Oxnard, CA"
          ],
          [
           "Oxnard, CA"
          ],
          [
           "Oxnard, CA"
          ],
          [
           "Oxnard, CA"
          ],
          [
           "Oxnard, CA"
          ],
          [
           "Oxnard, CA"
          ],
          [
           "Oxnard, CA"
          ],
          [
           "Oxnard, CA"
          ],
          [
           "Oxnard, CA"
          ],
          [
           "Oxnard, CA"
          ],
          [
           "Oxnard, CA"
          ],
          [
           "Oxnard, CA"
          ],
          [
           "Oxnard, CA"
          ],
          [
           "Oxnard, CA"
          ],
          [
           "Oxnard, CA"
          ],
          [
           "Oxnard, CA"
          ],
          [
           "Oxnard, CA"
          ],
          [
           "Oxnard, CA"
          ],
          [
           "Oxnard, CA"
          ],
          [
           "Oxnard, CA"
          ],
          [
           "Oxnard, CA"
          ],
          [
           "Oxnard, CA"
          ],
          [
           "Oxnard, CA"
          ],
          [
           "Oxnard, CA"
          ],
          [
           "Oxnard, CA"
          ],
          [
           "Oxnard, CA"
          ],
          [
           "Oxnard, CA"
          ],
          [
           "Oxnard, CA"
          ],
          [
           "Oxnard, CA"
          ],
          [
           "Oxnard, CA"
          ],
          [
           "Oxnard, CA"
          ],
          [
           "Oxnard, CA"
          ],
          [
           "Oxnard, CA"
          ],
          [
           "Oxnard, CA"
          ],
          [
           "Oxnard, CA"
          ],
          [
           "Oxnard, CA"
          ],
          [
           "Oxnard, CA"
          ],
          [
           "Oxnard, CA"
          ],
          [
           "Oxnard, CA"
          ],
          [
           "Oxnard, CA"
          ],
          [
           "Oxnard, CA"
          ],
          [
           "Oxnard, CA"
          ],
          [
           "Oxnard, CA"
          ],
          [
           "Oxnard, CA"
          ],
          [
           "Oxnard, CA"
          ],
          [
           "Oxnard, CA"
          ],
          [
           "Oxnard, CA"
          ],
          [
           "Oxnard, CA"
          ],
          [
           "Oxnard, CA"
          ],
          [
           "Oxnard, CA"
          ],
          [
           "Oxnard, CA"
          ],
          [
           "Salinas, CA"
          ],
          [
           "Salinas, CA"
          ],
          [
           "Salinas, CA"
          ],
          [
           "Salinas, CA"
          ],
          [
           "Salinas, CA"
          ],
          [
           "Salinas, CA"
          ],
          [
           "Salinas, CA"
          ],
          [
           "Salinas, CA"
          ],
          [
           "Salinas, CA"
          ],
          [
           "Salinas, CA"
          ],
          [
           "Salinas, CA"
          ],
          [
           "Salinas, CA"
          ],
          [
           "Salinas, CA"
          ],
          [
           "Salinas, CA"
          ],
          [
           "Salinas, CA"
          ],
          [
           "Salinas, CA"
          ],
          [
           "Salinas, CA"
          ],
          [
           "Salinas, CA"
          ],
          [
           "Salinas, CA"
          ],
          [
           "Salinas, CA"
          ],
          [
           "Salinas, CA"
          ],
          [
           "Salinas, CA"
          ],
          [
           "Salinas, CA"
          ],
          [
           "Salinas, CA"
          ],
          [
           "Salinas, CA"
          ],
          [
           "Salinas, CA"
          ],
          [
           "Salinas, CA"
          ],
          [
           "Salinas, CA"
          ],
          [
           "Salinas, CA"
          ],
          [
           "Salinas, CA"
          ],
          [
           "Salinas, CA"
          ],
          [
           "Salinas, CA"
          ],
          [
           "Salinas, CA"
          ],
          [
           "Salinas, CA"
          ],
          [
           "Salinas, CA"
          ],
          [
           "Salinas, CA"
          ],
          [
           "Salinas, CA"
          ],
          [
           "Salinas, CA"
          ],
          [
           "Salinas, CA"
          ],
          [
           "Salinas, CA"
          ],
          [
           "Salinas, CA"
          ],
          [
           "Salinas, CA"
          ],
          [
           "Salinas, CA"
          ],
          [
           "Salinas, CA"
          ],
          [
           "Salinas, CA"
          ],
          [
           "Salinas, CA"
          ],
          [
           "Salinas, CA"
          ],
          [
           "Salinas, CA"
          ],
          [
           "Salinas, CA"
          ],
          [
           "Salinas, CA"
          ],
          [
           "Salinas, CA"
          ],
          [
           "Salinas, CA"
          ],
          [
           "Salinas, CA"
          ],
          [
           "Salinas, CA"
          ],
          [
           "Salinas, CA"
          ],
          [
           "Salinas, CA"
          ],
          [
           "Salinas, CA"
          ],
          [
           "Salinas, CA"
          ],
          [
           "Salinas, CA"
          ],
          [
           "Salinas, CA"
          ],
          [
           "Salinas, CA"
          ],
          [
           "Salinas, CA"
          ],
          [
           "Salinas, CA"
          ],
          [
           "Salinas, CA"
          ],
          [
           "Salinas, CA"
          ],
          [
           "Salinas, CA"
          ],
          [
           "Salinas, CA"
          ],
          [
           "Salinas, CA"
          ],
          [
           "Salinas, CA"
          ],
          [
           "Salinas, CA"
          ],
          [
           "Salinas, CA"
          ],
          [
           "Salinas, CA"
          ],
          [
           "Salinas, CA"
          ],
          [
           "Salinas, CA"
          ],
          [
           "Salinas, CA"
          ],
          [
           "Salinas, CA"
          ],
          [
           "San Diego, CA"
          ],
          [
           "San Diego, CA"
          ],
          [
           "San Diego, CA"
          ],
          [
           "San Diego, CA"
          ],
          [
           "San Diego, CA"
          ],
          [
           "San Diego, CA"
          ],
          [
           "San Diego, CA"
          ],
          [
           "San Diego, CA"
          ],
          [
           "San Diego, CA"
          ],
          [
           "San Diego, CA"
          ],
          [
           "San Diego, CA"
          ],
          [
           "San Diego, CA"
          ],
          [
           "San Diego, CA"
          ],
          [
           "San Diego, CA"
          ],
          [
           "San Diego, CA"
          ],
          [
           "San Diego, CA"
          ],
          [
           "San Diego, CA"
          ],
          [
           "San Diego, CA"
          ],
          [
           "San Diego, CA"
          ],
          [
           "San Diego, CA"
          ],
          [
           "San Diego, CA"
          ],
          [
           "San Diego, CA"
          ],
          [
           "San Diego, CA"
          ],
          [
           "San Diego, CA"
          ],
          [
           "San Diego, CA"
          ],
          [
           "San Diego, CA"
          ],
          [
           "San Diego, CA"
          ],
          [
           "San Diego, CA"
          ],
          [
           "San Diego, CA"
          ],
          [
           "San Diego, CA"
          ],
          [
           "San Diego, CA"
          ],
          [
           "San Diego, CA"
          ],
          [
           "San Diego, CA"
          ],
          [
           "San Diego, CA"
          ],
          [
           "San Diego, CA"
          ],
          [
           "San Diego, CA"
          ],
          [
           "San Diego, CA"
          ],
          [
           "San Diego, CA"
          ],
          [
           "San Diego, CA"
          ],
          [
           "San Diego, CA"
          ],
          [
           "San Diego, CA"
          ],
          [
           "San Diego, CA"
          ],
          [
           "San Diego, CA"
          ],
          [
           "San Diego, CA"
          ],
          [
           "San Diego, CA"
          ],
          [
           "San Diego, CA"
          ],
          [
           "San Diego, CA"
          ],
          [
           "San Diego, CA"
          ],
          [
           "San Diego, CA"
          ],
          [
           "San Diego, CA"
          ],
          [
           "San Diego, CA"
          ],
          [
           "San Diego, CA"
          ],
          [
           "San Diego, CA"
          ],
          [
           "San Diego, CA"
          ],
          [
           "San Diego, CA"
          ],
          [
           "San Diego, CA"
          ],
          [
           "San Diego, CA"
          ],
          [
           "San Diego, CA"
          ],
          [
           "San Diego, CA"
          ],
          [
           "San Diego, CA"
          ],
          [
           "San Diego, CA"
          ],
          [
           "San Diego, CA"
          ],
          [
           "San Diego, CA"
          ],
          [
           "San Diego, CA"
          ],
          [
           "San Diego, CA"
          ],
          [
           "San Diego, CA"
          ],
          [
           "San Diego, CA"
          ],
          [
           "San Diego, CA"
          ],
          [
           "San Diego, CA"
          ],
          [
           "San Diego, CA"
          ],
          [
           "San Diego, CA"
          ],
          [
           "San Diego, CA"
          ],
          [
           "San Diego, CA"
          ],
          [
           "San Diego, CA"
          ],
          [
           "San Diego, CA"
          ],
          [
           "San Diego, CA"
          ],
          [
           "San Francisco, CA"
          ],
          [
           "San Francisco, CA"
          ],
          [
           "San Francisco, CA"
          ],
          [
           "San Francisco, CA"
          ],
          [
           "San Francisco, CA"
          ],
          [
           "San Francisco, CA"
          ],
          [
           "San Francisco, CA"
          ],
          [
           "San Francisco, CA"
          ],
          [
           "San Francisco, CA"
          ],
          [
           "San Francisco, CA"
          ],
          [
           "San Francisco, CA"
          ],
          [
           "San Francisco, CA"
          ],
          [
           "San Francisco, CA"
          ],
          [
           "San Francisco, CA"
          ],
          [
           "San Francisco, CA"
          ],
          [
           "San Francisco, CA"
          ],
          [
           "San Francisco, CA"
          ],
          [
           "San Francisco, CA"
          ],
          [
           "San Francisco, CA"
          ],
          [
           "San Francisco, CA"
          ],
          [
           "San Francisco, CA"
          ],
          [
           "San Francisco, CA"
          ],
          [
           "San Francisco, CA"
          ],
          [
           "San Francisco, CA"
          ],
          [
           "San Francisco, CA"
          ],
          [
           "San Francisco, CA"
          ],
          [
           "San Francisco, CA"
          ],
          [
           "San Francisco, CA"
          ],
          [
           "San Francisco, CA"
          ],
          [
           "San Francisco, CA"
          ],
          [
           "San Francisco, CA"
          ],
          [
           "San Francisco, CA"
          ],
          [
           "San Francisco, CA"
          ],
          [
           "San Francisco, CA"
          ],
          [
           "San Francisco, CA"
          ],
          [
           "San Francisco, CA"
          ],
          [
           "San Francisco, CA"
          ],
          [
           "San Francisco, CA"
          ],
          [
           "San Francisco, CA"
          ],
          [
           "San Francisco, CA"
          ],
          [
           "San Francisco, CA"
          ],
          [
           "San Francisco, CA"
          ],
          [
           "San Francisco, CA"
          ],
          [
           "San Francisco, CA"
          ],
          [
           "San Francisco, CA"
          ],
          [
           "San Francisco, CA"
          ],
          [
           "San Francisco, CA"
          ],
          [
           "San Francisco, CA"
          ],
          [
           "San Francisco, CA"
          ],
          [
           "San Francisco, CA"
          ],
          [
           "San Francisco, CA"
          ],
          [
           "San Francisco, CA"
          ],
          [
           "San Francisco, CA"
          ],
          [
           "San Francisco, CA"
          ],
          [
           "San Francisco, CA"
          ],
          [
           "San Francisco, CA"
          ],
          [
           "San Francisco, CA"
          ],
          [
           "San Francisco, CA"
          ],
          [
           "San Francisco, CA"
          ],
          [
           "San Francisco, CA"
          ],
          [
           "San Francisco, CA"
          ],
          [
           "San Francisco, CA"
          ],
          [
           "San Francisco, CA"
          ],
          [
           "San Francisco, CA"
          ],
          [
           "San Francisco, CA"
          ],
          [
           "San Francisco, CA"
          ],
          [
           "San Francisco, CA"
          ],
          [
           "San Francisco, CA"
          ],
          [
           "San Francisco, CA"
          ],
          [
           "San Francisco, CA"
          ],
          [
           "San Francisco, CA"
          ],
          [
           "San Francisco, CA"
          ],
          [
           "San Francisco, CA"
          ],
          [
           "San Francisco, CA"
          ],
          [
           "San Francisco, CA"
          ],
          [
           "San Francisco, CA"
          ],
          [
           "Santa Rosa, CA"
          ],
          [
           "Santa Rosa, CA"
          ],
          [
           "Santa Rosa, CA"
          ],
          [
           "Santa Rosa, CA"
          ],
          [
           "Santa Rosa, CA"
          ],
          [
           "Santa Rosa, CA"
          ],
          [
           "Santa Rosa, CA"
          ],
          [
           "Santa Rosa, CA"
          ],
          [
           "Santa Rosa, CA"
          ],
          [
           "Santa Rosa, CA"
          ],
          [
           "Santa Rosa, CA"
          ],
          [
           "Santa Rosa, CA"
          ],
          [
           "Santa Rosa, CA"
          ],
          [
           "Santa Rosa, CA"
          ],
          [
           "Santa Rosa, CA"
          ],
          [
           "Santa Rosa, CA"
          ],
          [
           "Santa Rosa, CA"
          ],
          [
           "Santa Rosa, CA"
          ],
          [
           "Santa Rosa, CA"
          ],
          [
           "Santa Rosa, CA"
          ],
          [
           "Santa Rosa, CA"
          ],
          [
           "Santa Rosa, CA"
          ],
          [
           "Santa Rosa, CA"
          ],
          [
           "Santa Rosa, CA"
          ],
          [
           "Santa Rosa, CA"
          ],
          [
           "Santa Rosa, CA"
          ],
          [
           "Santa Rosa, CA"
          ],
          [
           "Santa Rosa, CA"
          ],
          [
           "Santa Rosa, CA"
          ],
          [
           "Santa Rosa, CA"
          ],
          [
           "Santa Rosa, CA"
          ],
          [
           "Santa Rosa, CA"
          ],
          [
           "Santa Rosa, CA"
          ],
          [
           "Santa Rosa, CA"
          ],
          [
           "Santa Rosa, CA"
          ],
          [
           "Santa Rosa, CA"
          ],
          [
           "Santa Rosa, CA"
          ],
          [
           "Santa Rosa, CA"
          ],
          [
           "Santa Rosa, CA"
          ],
          [
           "Santa Rosa, CA"
          ],
          [
           "Santa Rosa, CA"
          ],
          [
           "Santa Rosa, CA"
          ],
          [
           "Santa Rosa, CA"
          ],
          [
           "Santa Rosa, CA"
          ],
          [
           "Santa Rosa, CA"
          ],
          [
           "Santa Rosa, CA"
          ],
          [
           "Santa Rosa, CA"
          ],
          [
           "Santa Rosa, CA"
          ],
          [
           "Santa Rosa, CA"
          ],
          [
           "Santa Rosa, CA"
          ],
          [
           "Santa Rosa, CA"
          ],
          [
           "Santa Rosa, CA"
          ],
          [
           "Santa Rosa, CA"
          ],
          [
           "Santa Rosa, CA"
          ],
          [
           "Santa Rosa, CA"
          ],
          [
           "Santa Rosa, CA"
          ],
          [
           "Santa Rosa, CA"
          ],
          [
           "Santa Rosa, CA"
          ],
          [
           "Santa Rosa, CA"
          ],
          [
           "Santa Rosa, CA"
          ],
          [
           "Santa Rosa, CA"
          ],
          [
           "Santa Rosa, CA"
          ],
          [
           "Santa Rosa, CA"
          ],
          [
           "Santa Rosa, CA"
          ],
          [
           "Santa Rosa, CA"
          ],
          [
           "Santa Rosa, CA"
          ],
          [
           "Santa Rosa, CA"
          ],
          [
           "Santa Rosa, CA"
          ],
          [
           "Santa Rosa, CA"
          ],
          [
           "Santa Rosa, CA"
          ],
          [
           "Santa Rosa, CA"
          ],
          [
           "Santa Rosa, CA"
          ],
          [
           "Santa Rosa, CA"
          ],
          [
           "Santa Rosa, CA"
          ],
          [
           "Santa Rosa, CA"
          ],
          [
           "Santa Rosa, CA"
          ],
          [
           "Truckee, CA"
          ],
          [
           "Truckee, CA"
          ],
          [
           "Truckee, CA"
          ],
          [
           "Truckee, CA"
          ],
          [
           "Truckee, CA"
          ],
          [
           "Truckee, CA"
          ],
          [
           "Truckee, CA"
          ],
          [
           "Truckee, CA"
          ],
          [
           "Truckee, CA"
          ],
          [
           "Truckee, CA"
          ],
          [
           "Truckee, CA"
          ],
          [
           "Truckee, CA"
          ],
          [
           "Truckee, CA"
          ],
          [
           "Truckee, CA"
          ],
          [
           "Truckee, CA"
          ],
          [
           "Truckee, CA"
          ],
          [
           "Truckee, CA"
          ],
          [
           "Truckee, CA"
          ],
          [
           "Truckee, CA"
          ],
          [
           "Truckee, CA"
          ],
          [
           "Truckee, CA"
          ],
          [
           "Truckee, CA"
          ],
          [
           "Truckee, CA"
          ],
          [
           "Truckee, CA"
          ],
          [
           "Truckee, CA"
          ],
          [
           "Truckee, CA"
          ],
          [
           "Truckee, CA"
          ],
          [
           "Truckee, CA"
          ],
          [
           "Truckee, CA"
          ],
          [
           "Truckee, CA"
          ],
          [
           "Truckee, CA"
          ],
          [
           "Truckee, CA"
          ],
          [
           "Truckee, CA"
          ],
          [
           "Truckee, CA"
          ],
          [
           "Truckee, CA"
          ],
          [
           "Truckee, CA"
          ],
          [
           "Truckee, CA"
          ],
          [
           "Truckee, CA"
          ],
          [
           "Truckee, CA"
          ],
          [
           "Truckee, CA"
          ],
          [
           "Truckee, CA"
          ],
          [
           "Truckee, CA"
          ],
          [
           "Truckee, CA"
          ],
          [
           "Truckee, CA"
          ],
          [
           "Truckee, CA"
          ],
          [
           "Truckee, CA"
          ],
          [
           "Truckee, CA"
          ],
          [
           "Truckee, CA"
          ],
          [
           "Truckee, CA"
          ],
          [
           "Truckee, CA"
          ],
          [
           "Truckee, CA"
          ],
          [
           "Truckee, CA"
          ],
          [
           "Truckee, CA"
          ],
          [
           "Truckee, CA"
          ],
          [
           "Truckee, CA"
          ],
          [
           "Truckee, CA"
          ],
          [
           "Truckee, CA"
          ],
          [
           "Truckee, CA"
          ],
          [
           "Truckee, CA"
          ],
          [
           "Truckee, CA"
          ],
          [
           "Truckee, CA"
          ],
          [
           "Truckee, CA"
          ],
          [
           "Truckee, CA"
          ],
          [
           "Truckee, CA"
          ],
          [
           "Truckee, CA"
          ],
          [
           "Truckee, CA"
          ],
          [
           "Truckee, CA"
          ],
          [
           "Truckee, CA"
          ],
          [
           "Truckee, CA"
          ],
          [
           "Truckee, CA"
          ],
          [
           "Truckee, CA"
          ],
          [
           "Truckee, CA"
          ],
          [
           "Truckee, CA"
          ],
          [
           "Truckee, CA"
          ],
          [
           "Truckee, CA"
          ],
          [
           "Truckee, CA"
          ],
          [
           "Visalia, CA"
          ],
          [
           "Visalia, CA"
          ],
          [
           "Visalia, CA"
          ],
          [
           "Visalia, CA"
          ],
          [
           "Visalia, CA"
          ],
          [
           "Visalia, CA"
          ],
          [
           "Visalia, CA"
          ],
          [
           "Visalia, CA"
          ],
          [
           "Visalia, CA"
          ],
          [
           "Visalia, CA"
          ],
          [
           "Visalia, CA"
          ],
          [
           "Visalia, CA"
          ],
          [
           "Visalia, CA"
          ],
          [
           "Visalia, CA"
          ],
          [
           "Visalia, CA"
          ],
          [
           "Visalia, CA"
          ],
          [
           "Visalia, CA"
          ],
          [
           "Visalia, CA"
          ],
          [
           "Visalia, CA"
          ],
          [
           "Visalia, CA"
          ],
          [
           "Visalia, CA"
          ],
          [
           "Visalia, CA"
          ],
          [
           "Visalia, CA"
          ],
          [
           "Visalia, CA"
          ],
          [
           "Visalia, CA"
          ],
          [
           "Visalia, CA"
          ],
          [
           "Visalia, CA"
          ],
          [
           "Visalia, CA"
          ],
          [
           "Visalia, CA"
          ],
          [
           "Visalia, CA"
          ],
          [
           "Visalia, CA"
          ],
          [
           "Visalia, CA"
          ],
          [
           "Visalia, CA"
          ],
          [
           "Visalia, CA"
          ],
          [
           "Visalia, CA"
          ],
          [
           "Visalia, CA"
          ],
          [
           "Visalia, CA"
          ],
          [
           "Visalia, CA"
          ],
          [
           "Visalia, CA"
          ],
          [
           "Visalia, CA"
          ],
          [
           "Visalia, CA"
          ],
          [
           "Visalia, CA"
          ],
          [
           "Visalia, CA"
          ],
          [
           "Visalia, CA"
          ],
          [
           "Visalia, CA"
          ],
          [
           "Visalia, CA"
          ],
          [
           "Visalia, CA"
          ],
          [
           "Visalia, CA"
          ],
          [
           "Visalia, CA"
          ],
          [
           "Visalia, CA"
          ],
          [
           "Visalia, CA"
          ],
          [
           "Visalia, CA"
          ],
          [
           "Visalia, CA"
          ],
          [
           "Visalia, CA"
          ],
          [
           "Visalia, CA"
          ],
          [
           "Visalia, CA"
          ],
          [
           "Visalia, CA"
          ],
          [
           "Visalia, CA"
          ],
          [
           "Visalia, CA"
          ],
          [
           "Visalia, CA"
          ],
          [
           "Visalia, CA"
          ],
          [
           "Visalia, CA"
          ],
          [
           "Visalia, CA"
          ],
          [
           "Visalia, CA"
          ],
          [
           "Visalia, CA"
          ],
          [
           "Visalia, CA"
          ],
          [
           "Visalia, CA"
          ],
          [
           "Visalia, CA"
          ],
          [
           "Visalia, CA"
          ],
          [
           "Visalia, CA"
          ],
          [
           "Visalia, CA"
          ],
          [
           "Visalia, CA"
          ],
          [
           "Visalia, CA"
          ],
          [
           "Visalia, CA"
          ],
          [
           "Visalia, CA"
          ],
          [
           "Visalia, CA"
          ],
          [
           "Los Angeles, CA"
          ],
          [
           "Los Angeles, CA"
          ],
          [
           "Los Angeles, CA"
          ],
          [
           "Los Angeles, CA"
          ],
          [
           "Los Angeles, CA"
          ],
          [
           "Los Angeles, CA"
          ],
          [
           "Los Angeles, CA"
          ],
          [
           "Los Angeles, CA"
          ],
          [
           "Los Angeles, CA"
          ],
          [
           "Los Angeles, CA"
          ],
          [
           "Los Angeles, CA"
          ],
          [
           "Los Angeles, CA"
          ],
          [
           "Los Angeles, CA"
          ],
          [
           "Los Angeles, CA"
          ],
          [
           "Los Angeles, CA"
          ],
          [
           "Los Angeles, CA"
          ],
          [
           "Los Angeles, CA"
          ],
          [
           "Los Angeles, CA"
          ],
          [
           "Los Angeles, CA"
          ],
          [
           "Los Angeles, CA"
          ],
          [
           "Los Angeles, CA"
          ],
          [
           "Los Angeles, CA"
          ],
          [
           "Los Angeles, CA"
          ],
          [
           "Los Angeles, CA"
          ],
          [
           "Los Angeles, CA"
          ],
          [
           "Los Angeles, CA"
          ],
          [
           "Los Angeles, CA"
          ],
          [
           "Los Angeles, CA"
          ],
          [
           "Los Angeles, CA"
          ],
          [
           "Los Angeles, CA"
          ],
          [
           "Los Angeles, CA"
          ],
          [
           "Los Angeles, CA"
          ],
          [
           "Los Angeles, CA"
          ],
          [
           "Los Angeles, CA"
          ],
          [
           "Los Angeles, CA"
          ],
          [
           "Los Angeles, CA"
          ],
          [
           "Los Angeles, CA"
          ],
          [
           "Los Angeles, CA"
          ],
          [
           "Los Angeles, CA"
          ],
          [
           "Los Angeles, CA"
          ],
          [
           "Los Angeles, CA"
          ],
          [
           "Los Angeles, CA"
          ],
          [
           "Los Angeles, CA"
          ],
          [
           "Los Angeles, CA"
          ],
          [
           "Los Angeles, CA"
          ],
          [
           "Los Angeles, CA"
          ],
          [
           "Los Angeles, CA"
          ],
          [
           "Los Angeles, CA"
          ],
          [
           "Los Angeles, CA"
          ],
          [
           "Los Angeles, CA"
          ],
          [
           "Los Angeles, CA"
          ],
          [
           "Los Angeles, CA"
          ],
          [
           "Los Angeles, CA"
          ],
          [
           "Los Angeles, CA"
          ],
          [
           "Los Angeles, CA"
          ],
          [
           "Los Angeles, CA"
          ],
          [
           "Los Angeles, CA"
          ],
          [
           "Los Angeles, CA"
          ],
          [
           "Los Angeles, CA"
          ],
          [
           "Los Angeles, CA"
          ],
          [
           "Los Angeles, CA"
          ],
          [
           "Los Angeles, CA"
          ],
          [
           "Los Angeles, CA"
          ],
          [
           "Los Angeles, CA"
          ],
          [
           "Los Angeles, CA"
          ],
          [
           "Los Angeles, CA"
          ],
          [
           "Los Angeles, CA"
          ],
          [
           "Los Angeles, CA"
          ],
          [
           "Los Angeles, CA"
          ],
          [
           "Los Angeles, CA"
          ],
          [
           "Los Angeles, CA"
          ],
          [
           "Los Angeles, CA"
          ],
          [
           "Los Angeles, CA"
          ],
          [
           "Los Angeles, CA"
          ],
          [
           "Los Angeles, CA"
          ],
          [
           "Los Angeles, CA"
          ],
          [
           "Sonora, CA"
          ],
          [
           "Sonora, CA"
          ],
          [
           "Sonora, CA"
          ],
          [
           "Sonora, CA"
          ],
          [
           "Sonora, CA"
          ],
          [
           "Sonora, CA"
          ],
          [
           "Sonora, CA"
          ],
          [
           "Sonora, CA"
          ],
          [
           "Sonora, CA"
          ],
          [
           "Sonora, CA"
          ],
          [
           "Sonora, CA"
          ],
          [
           "Sonora, CA"
          ],
          [
           "Sonora, CA"
          ],
          [
           "Sonora, CA"
          ],
          [
           "Sonora, CA"
          ],
          [
           "Sonora, CA"
          ],
          [
           "Sonora, CA"
          ],
          [
           "Sonora, CA"
          ],
          [
           "Sonora, CA"
          ],
          [
           "Sonora, CA"
          ],
          [
           "Sonora, CA"
          ],
          [
           "Sonora, CA"
          ],
          [
           "Sonora, CA"
          ],
          [
           "Sonora, CA"
          ],
          [
           "Sonora, CA"
          ],
          [
           "Sonora, CA"
          ],
          [
           "Sonora, CA"
          ],
          [
           "Sonora, CA"
          ],
          [
           "Sonora, CA"
          ],
          [
           "Sonora, CA"
          ],
          [
           "Sonora, CA"
          ],
          [
           "Sonora, CA"
          ],
          [
           "Sonora, CA"
          ],
          [
           "Sonora, CA"
          ],
          [
           "Sonora, CA"
          ],
          [
           "Sonora, CA"
          ],
          [
           "Sonora, CA"
          ],
          [
           "Sonora, CA"
          ],
          [
           "Sonora, CA"
          ],
          [
           "Sonora, CA"
          ],
          [
           "Sonora, CA"
          ],
          [
           "Sonora, CA"
          ],
          [
           "Sonora, CA"
          ],
          [
           "Sonora, CA"
          ],
          [
           "Sonora, CA"
          ],
          [
           "Sonora, CA"
          ],
          [
           "Sonora, CA"
          ],
          [
           "Sonora, CA"
          ],
          [
           "Sonora, CA"
          ],
          [
           "Sonora, CA"
          ],
          [
           "Sonora, CA"
          ],
          [
           "Sonora, CA"
          ],
          [
           "Sonora, CA"
          ],
          [
           "Sonora, CA"
          ],
          [
           "Sonora, CA"
          ],
          [
           "Sonora, CA"
          ],
          [
           "Sonora, CA"
          ],
          [
           "Sonora, CA"
          ],
          [
           "Sonora, CA"
          ],
          [
           "Sonora, CA"
          ],
          [
           "Sonora, CA"
          ],
          [
           "Sonora, CA"
          ],
          [
           "Sonora, CA"
          ],
          [
           "Sonora, CA"
          ],
          [
           "Sonora, CA"
          ],
          [
           "Sonora, CA"
          ],
          [
           "Sonora, CA"
          ],
          [
           "Sonora, CA"
          ],
          [
           "Sonora, CA"
          ],
          [
           "Sonora, CA"
          ],
          [
           "Sonora, CA"
          ],
          [
           "Sonora, CA"
          ],
          [
           "Sonora, CA"
          ],
          [
           "Sonora, CA"
          ],
          [
           "Sonora, CA"
          ],
          [
           "Sonora, CA"
          ]
         ],
         "hovertemplate": "Date=%{x}<br>HomeValue=%{y}<br>Location=%{customdata[0]}<extra></extra>",
         "legendgroup": "",
         "marker": {
          "color": "#636efa",
          "symbol": "circle"
         },
         "mode": "markers",
         "name": "",
         "orientation": "v",
         "showlegend": false,
         "type": "scatter",
         "x": [
          "2018-02-01T00:00:00",
          "2018-03-01T00:00:00",
          "2018-04-01T00:00:00",
          "2018-05-01T00:00:00",
          "2018-06-01T00:00:00",
          "2018-07-01T00:00:00",
          "2018-08-01T00:00:00",
          "2018-09-01T00:00:00",
          "2018-10-01T00:00:00",
          "2018-11-01T00:00:00",
          "2018-12-01T00:00:00",
          "2019-01-01T00:00:00",
          "2019-02-01T00:00:00",
          "2019-03-01T00:00:00",
          "2019-04-01T00:00:00",
          "2019-05-01T00:00:00",
          "2019-06-01T00:00:00",
          "2019-07-01T00:00:00",
          "2019-08-01T00:00:00",
          "2019-09-01T00:00:00",
          "2019-10-01T00:00:00",
          "2019-11-01T00:00:00",
          "2019-12-01T00:00:00",
          "2020-01-01T00:00:00",
          "2020-02-01T00:00:00",
          "2020-03-01T00:00:00",
          "2020-04-01T00:00:00",
          "2020-05-01T00:00:00",
          "2020-06-01T00:00:00",
          "2020-07-01T00:00:00",
          "2020-08-01T00:00:00",
          "2020-09-01T00:00:00",
          "2020-10-01T00:00:00",
          "2020-11-01T00:00:00",
          "2020-12-01T00:00:00",
          "2021-01-01T00:00:00",
          "2021-02-01T00:00:00",
          "2021-03-01T00:00:00",
          "2021-04-01T00:00:00",
          "2021-05-01T00:00:00",
          "2021-06-01T00:00:00",
          "2021-07-01T00:00:00",
          "2021-08-01T00:00:00",
          "2021-09-01T00:00:00",
          "2021-10-01T00:00:00",
          "2021-11-01T00:00:00",
          "2021-12-01T00:00:00",
          "2022-01-01T00:00:00",
          "2022-02-01T00:00:00",
          "2022-03-01T00:00:00",
          "2022-04-01T00:00:00",
          "2022-05-01T00:00:00",
          "2022-06-01T00:00:00",
          "2022-07-01T00:00:00",
          "2022-08-01T00:00:00",
          "2022-09-01T00:00:00",
          "2022-10-01T00:00:00",
          "2022-11-01T00:00:00",
          "2022-12-01T00:00:00",
          "2023-01-01T00:00:00",
          "2023-02-01T00:00:00",
          "2023-03-01T00:00:00",
          "2023-04-01T00:00:00",
          "2023-05-01T00:00:00",
          "2023-06-01T00:00:00",
          "2023-07-01T00:00:00",
          "2023-08-01T00:00:00",
          "2023-09-01T00:00:00",
          "2023-10-01T00:00:00",
          "2023-11-01T00:00:00",
          "2023-12-01T00:00:00",
          "2024-01-01T00:00:00",
          "2024-02-01T00:00:00",
          "2024-03-01T00:00:00",
          "2024-04-01T00:00:00",
          "2024-05-01T00:00:00",
          "2018-02-01T00:00:00",
          "2018-03-01T00:00:00",
          "2018-04-01T00:00:00",
          "2018-05-01T00:00:00",
          "2018-06-01T00:00:00",
          "2018-07-01T00:00:00",
          "2018-08-01T00:00:00",
          "2018-09-01T00:00:00",
          "2018-10-01T00:00:00",
          "2018-11-01T00:00:00",
          "2018-12-01T00:00:00",
          "2019-01-01T00:00:00",
          "2019-02-01T00:00:00",
          "2019-03-01T00:00:00",
          "2019-04-01T00:00:00",
          "2019-05-01T00:00:00",
          "2019-06-01T00:00:00",
          "2019-07-01T00:00:00",
          "2019-08-01T00:00:00",
          "2019-09-01T00:00:00",
          "2019-10-01T00:00:00",
          "2019-11-01T00:00:00",
          "2019-12-01T00:00:00",
          "2020-01-01T00:00:00",
          "2020-02-01T00:00:00",
          "2020-03-01T00:00:00",
          "2020-04-01T00:00:00",
          "2020-05-01T00:00:00",
          "2020-06-01T00:00:00",
          "2020-07-01T00:00:00",
          "2020-08-01T00:00:00",
          "2020-09-01T00:00:00",
          "2020-10-01T00:00:00",
          "2020-11-01T00:00:00",
          "2020-12-01T00:00:00",
          "2021-01-01T00:00:00",
          "2021-02-01T00:00:00",
          "2021-03-01T00:00:00",
          "2021-04-01T00:00:00",
          "2021-05-01T00:00:00",
          "2021-06-01T00:00:00",
          "2021-07-01T00:00:00",
          "2021-08-01T00:00:00",
          "2021-09-01T00:00:00",
          "2021-10-01T00:00:00",
          "2021-11-01T00:00:00",
          "2021-12-01T00:00:00",
          "2022-01-01T00:00:00",
          "2022-02-01T00:00:00",
          "2022-03-01T00:00:00",
          "2022-04-01T00:00:00",
          "2022-05-01T00:00:00",
          "2022-06-01T00:00:00",
          "2022-07-01T00:00:00",
          "2022-08-01T00:00:00",
          "2022-09-01T00:00:00",
          "2022-10-01T00:00:00",
          "2022-11-01T00:00:00",
          "2022-12-01T00:00:00",
          "2023-01-01T00:00:00",
          "2023-02-01T00:00:00",
          "2023-03-01T00:00:00",
          "2023-04-01T00:00:00",
          "2023-05-01T00:00:00",
          "2023-06-01T00:00:00",
          "2023-07-01T00:00:00",
          "2023-08-01T00:00:00",
          "2023-09-01T00:00:00",
          "2023-10-01T00:00:00",
          "2023-11-01T00:00:00",
          "2023-12-01T00:00:00",
          "2024-01-01T00:00:00",
          "2024-02-01T00:00:00",
          "2024-03-01T00:00:00",
          "2024-04-01T00:00:00",
          "2024-05-01T00:00:00",
          "2018-02-01T00:00:00",
          "2018-03-01T00:00:00",
          "2018-04-01T00:00:00",
          "2018-05-01T00:00:00",
          "2018-06-01T00:00:00",
          "2018-07-01T00:00:00",
          "2018-08-01T00:00:00",
          "2018-09-01T00:00:00",
          "2018-10-01T00:00:00",
          "2018-11-01T00:00:00",
          "2018-12-01T00:00:00",
          "2019-01-01T00:00:00",
          "2019-02-01T00:00:00",
          "2019-03-01T00:00:00",
          "2019-04-01T00:00:00",
          "2019-05-01T00:00:00",
          "2019-06-01T00:00:00",
          "2019-07-01T00:00:00",
          "2019-08-01T00:00:00",
          "2019-09-01T00:00:00",
          "2019-10-01T00:00:00",
          "2019-11-01T00:00:00",
          "2019-12-01T00:00:00",
          "2020-01-01T00:00:00",
          "2020-02-01T00:00:00",
          "2020-03-01T00:00:00",
          "2020-04-01T00:00:00",
          "2020-05-01T00:00:00",
          "2020-06-01T00:00:00",
          "2020-07-01T00:00:00",
          "2020-08-01T00:00:00",
          "2020-09-01T00:00:00",
          "2020-10-01T00:00:00",
          "2020-11-01T00:00:00",
          "2020-12-01T00:00:00",
          "2021-01-01T00:00:00",
          "2021-02-01T00:00:00",
          "2021-03-01T00:00:00",
          "2021-04-01T00:00:00",
          "2021-05-01T00:00:00",
          "2021-06-01T00:00:00",
          "2021-07-01T00:00:00",
          "2021-08-01T00:00:00",
          "2021-09-01T00:00:00",
          "2021-10-01T00:00:00",
          "2021-11-01T00:00:00",
          "2021-12-01T00:00:00",
          "2022-01-01T00:00:00",
          "2022-02-01T00:00:00",
          "2022-03-01T00:00:00",
          "2022-04-01T00:00:00",
          "2022-05-01T00:00:00",
          "2022-06-01T00:00:00",
          "2022-07-01T00:00:00",
          "2022-08-01T00:00:00",
          "2022-09-01T00:00:00",
          "2022-10-01T00:00:00",
          "2022-11-01T00:00:00",
          "2022-12-01T00:00:00",
          "2023-01-01T00:00:00",
          "2023-02-01T00:00:00",
          "2023-03-01T00:00:00",
          "2023-04-01T00:00:00",
          "2023-05-01T00:00:00",
          "2023-06-01T00:00:00",
          "2023-07-01T00:00:00",
          "2023-08-01T00:00:00",
          "2023-09-01T00:00:00",
          "2023-10-01T00:00:00",
          "2023-11-01T00:00:00",
          "2023-12-01T00:00:00",
          "2024-01-01T00:00:00",
          "2024-02-01T00:00:00",
          "2024-03-01T00:00:00",
          "2024-04-01T00:00:00",
          "2024-05-01T00:00:00",
          "2018-02-01T00:00:00",
          "2018-03-01T00:00:00",
          "2018-04-01T00:00:00",
          "2018-05-01T00:00:00",
          "2018-06-01T00:00:00",
          "2018-07-01T00:00:00",
          "2018-08-01T00:00:00",
          "2018-09-01T00:00:00",
          "2018-10-01T00:00:00",
          "2018-11-01T00:00:00",
          "2018-12-01T00:00:00",
          "2019-01-01T00:00:00",
          "2019-02-01T00:00:00",
          "2019-03-01T00:00:00",
          "2019-04-01T00:00:00",
          "2019-05-01T00:00:00",
          "2019-06-01T00:00:00",
          "2019-07-01T00:00:00",
          "2019-08-01T00:00:00",
          "2019-09-01T00:00:00",
          "2019-10-01T00:00:00",
          "2019-11-01T00:00:00",
          "2019-12-01T00:00:00",
          "2020-01-01T00:00:00",
          "2020-02-01T00:00:00",
          "2020-03-01T00:00:00",
          "2020-04-01T00:00:00",
          "2020-05-01T00:00:00",
          "2020-06-01T00:00:00",
          "2020-07-01T00:00:00",
          "2020-08-01T00:00:00",
          "2020-09-01T00:00:00",
          "2020-10-01T00:00:00",
          "2020-11-01T00:00:00",
          "2020-12-01T00:00:00",
          "2021-01-01T00:00:00",
          "2021-02-01T00:00:00",
          "2021-03-01T00:00:00",
          "2021-04-01T00:00:00",
          "2021-05-01T00:00:00",
          "2021-06-01T00:00:00",
          "2021-07-01T00:00:00",
          "2021-08-01T00:00:00",
          "2021-09-01T00:00:00",
          "2021-10-01T00:00:00",
          "2021-11-01T00:00:00",
          "2021-12-01T00:00:00",
          "2022-01-01T00:00:00",
          "2022-02-01T00:00:00",
          "2022-03-01T00:00:00",
          "2022-04-01T00:00:00",
          "2022-05-01T00:00:00",
          "2022-06-01T00:00:00",
          "2022-07-01T00:00:00",
          "2022-08-01T00:00:00",
          "2022-09-01T00:00:00",
          "2022-10-01T00:00:00",
          "2022-11-01T00:00:00",
          "2022-12-01T00:00:00",
          "2023-01-01T00:00:00",
          "2023-02-01T00:00:00",
          "2023-03-01T00:00:00",
          "2023-04-01T00:00:00",
          "2023-05-01T00:00:00",
          "2023-06-01T00:00:00",
          "2023-07-01T00:00:00",
          "2023-08-01T00:00:00",
          "2023-09-01T00:00:00",
          "2023-10-01T00:00:00",
          "2023-11-01T00:00:00",
          "2023-12-01T00:00:00",
          "2024-01-01T00:00:00",
          "2024-02-01T00:00:00",
          "2024-03-01T00:00:00",
          "2024-04-01T00:00:00",
          "2024-05-01T00:00:00",
          "2018-02-01T00:00:00",
          "2018-03-01T00:00:00",
          "2018-04-01T00:00:00",
          "2018-05-01T00:00:00",
          "2018-06-01T00:00:00",
          "2018-07-01T00:00:00",
          "2018-08-01T00:00:00",
          "2018-09-01T00:00:00",
          "2018-10-01T00:00:00",
          "2018-11-01T00:00:00",
          "2018-12-01T00:00:00",
          "2019-01-01T00:00:00",
          "2019-02-01T00:00:00",
          "2019-03-01T00:00:00",
          "2019-04-01T00:00:00",
          "2019-05-01T00:00:00",
          "2019-06-01T00:00:00",
          "2019-07-01T00:00:00",
          "2019-08-01T00:00:00",
          "2019-09-01T00:00:00",
          "2019-10-01T00:00:00",
          "2019-11-01T00:00:00",
          "2019-12-01T00:00:00",
          "2020-01-01T00:00:00",
          "2020-02-01T00:00:00",
          "2020-03-01T00:00:00",
          "2020-04-01T00:00:00",
          "2020-05-01T00:00:00",
          "2020-06-01T00:00:00",
          "2020-07-01T00:00:00",
          "2020-08-01T00:00:00",
          "2020-09-01T00:00:00",
          "2020-10-01T00:00:00",
          "2020-11-01T00:00:00",
          "2020-12-01T00:00:00",
          "2021-01-01T00:00:00",
          "2021-02-01T00:00:00",
          "2021-03-01T00:00:00",
          "2021-04-01T00:00:00",
          "2021-05-01T00:00:00",
          "2021-06-01T00:00:00",
          "2021-07-01T00:00:00",
          "2021-08-01T00:00:00",
          "2021-09-01T00:00:00",
          "2021-10-01T00:00:00",
          "2021-11-01T00:00:00",
          "2021-12-01T00:00:00",
          "2022-01-01T00:00:00",
          "2022-02-01T00:00:00",
          "2022-03-01T00:00:00",
          "2022-04-01T00:00:00",
          "2022-05-01T00:00:00",
          "2022-06-01T00:00:00",
          "2022-07-01T00:00:00",
          "2022-08-01T00:00:00",
          "2022-09-01T00:00:00",
          "2022-10-01T00:00:00",
          "2022-11-01T00:00:00",
          "2022-12-01T00:00:00",
          "2023-01-01T00:00:00",
          "2023-02-01T00:00:00",
          "2023-03-01T00:00:00",
          "2023-04-01T00:00:00",
          "2023-05-01T00:00:00",
          "2023-06-01T00:00:00",
          "2023-07-01T00:00:00",
          "2023-08-01T00:00:00",
          "2023-09-01T00:00:00",
          "2023-10-01T00:00:00",
          "2023-11-01T00:00:00",
          "2023-12-01T00:00:00",
          "2024-01-01T00:00:00",
          "2024-02-01T00:00:00",
          "2024-03-01T00:00:00",
          "2024-04-01T00:00:00",
          "2024-05-01T00:00:00",
          "2018-02-01T00:00:00",
          "2018-03-01T00:00:00",
          "2018-04-01T00:00:00",
          "2018-05-01T00:00:00",
          "2018-06-01T00:00:00",
          "2018-07-01T00:00:00",
          "2018-08-01T00:00:00",
          "2018-09-01T00:00:00",
          "2018-10-01T00:00:00",
          "2018-11-01T00:00:00",
          "2018-12-01T00:00:00",
          "2019-01-01T00:00:00",
          "2019-02-01T00:00:00",
          "2019-03-01T00:00:00",
          "2019-04-01T00:00:00",
          "2019-05-01T00:00:00",
          "2019-06-01T00:00:00",
          "2019-07-01T00:00:00",
          "2019-08-01T00:00:00",
          "2019-09-01T00:00:00",
          "2019-10-01T00:00:00",
          "2019-11-01T00:00:00",
          "2019-12-01T00:00:00",
          "2020-01-01T00:00:00",
          "2020-02-01T00:00:00",
          "2020-03-01T00:00:00",
          "2020-04-01T00:00:00",
          "2020-05-01T00:00:00",
          "2020-06-01T00:00:00",
          "2020-07-01T00:00:00",
          "2020-08-01T00:00:00",
          "2020-09-01T00:00:00",
          "2020-10-01T00:00:00",
          "2020-11-01T00:00:00",
          "2020-12-01T00:00:00",
          "2021-01-01T00:00:00",
          "2021-02-01T00:00:00",
          "2021-03-01T00:00:00",
          "2021-04-01T00:00:00",
          "2021-05-01T00:00:00",
          "2021-06-01T00:00:00",
          "2021-07-01T00:00:00",
          "2021-08-01T00:00:00",
          "2021-09-01T00:00:00",
          "2021-10-01T00:00:00",
          "2021-11-01T00:00:00",
          "2021-12-01T00:00:00",
          "2022-01-01T00:00:00",
          "2022-02-01T00:00:00",
          "2022-03-01T00:00:00",
          "2022-04-01T00:00:00",
          "2022-05-01T00:00:00",
          "2022-06-01T00:00:00",
          "2022-07-01T00:00:00",
          "2022-08-01T00:00:00",
          "2022-09-01T00:00:00",
          "2022-10-01T00:00:00",
          "2022-11-01T00:00:00",
          "2022-12-01T00:00:00",
          "2023-01-01T00:00:00",
          "2023-02-01T00:00:00",
          "2023-03-01T00:00:00",
          "2023-04-01T00:00:00",
          "2023-05-01T00:00:00",
          "2023-06-01T00:00:00",
          "2023-07-01T00:00:00",
          "2023-08-01T00:00:00",
          "2023-09-01T00:00:00",
          "2023-10-01T00:00:00",
          "2023-11-01T00:00:00",
          "2023-12-01T00:00:00",
          "2024-01-01T00:00:00",
          "2024-02-01T00:00:00",
          "2024-03-01T00:00:00",
          "2024-04-01T00:00:00",
          "2024-05-01T00:00:00",
          "2018-02-01T00:00:00",
          "2018-03-01T00:00:00",
          "2018-04-01T00:00:00",
          "2018-05-01T00:00:00",
          "2018-06-01T00:00:00",
          "2018-07-01T00:00:00",
          "2018-08-01T00:00:00",
          "2018-09-01T00:00:00",
          "2018-10-01T00:00:00",
          "2018-11-01T00:00:00",
          "2018-12-01T00:00:00",
          "2019-01-01T00:00:00",
          "2019-02-01T00:00:00",
          "2019-03-01T00:00:00",
          "2019-04-01T00:00:00",
          "2019-05-01T00:00:00",
          "2019-06-01T00:00:00",
          "2019-07-01T00:00:00",
          "2019-08-01T00:00:00",
          "2019-09-01T00:00:00",
          "2019-10-01T00:00:00",
          "2019-11-01T00:00:00",
          "2019-12-01T00:00:00",
          "2020-01-01T00:00:00",
          "2020-02-01T00:00:00",
          "2020-03-01T00:00:00",
          "2020-04-01T00:00:00",
          "2020-05-01T00:00:00",
          "2020-06-01T00:00:00",
          "2020-07-01T00:00:00",
          "2020-08-01T00:00:00",
          "2020-09-01T00:00:00",
          "2020-10-01T00:00:00",
          "2020-11-01T00:00:00",
          "2020-12-01T00:00:00",
          "2021-01-01T00:00:00",
          "2021-02-01T00:00:00",
          "2021-03-01T00:00:00",
          "2021-04-01T00:00:00",
          "2021-05-01T00:00:00",
          "2021-06-01T00:00:00",
          "2021-07-01T00:00:00",
          "2021-08-01T00:00:00",
          "2021-09-01T00:00:00",
          "2021-10-01T00:00:00",
          "2021-11-01T00:00:00",
          "2021-12-01T00:00:00",
          "2022-01-01T00:00:00",
          "2022-02-01T00:00:00",
          "2022-03-01T00:00:00",
          "2022-04-01T00:00:00",
          "2022-05-01T00:00:00",
          "2022-06-01T00:00:00",
          "2022-07-01T00:00:00",
          "2022-08-01T00:00:00",
          "2022-09-01T00:00:00",
          "2022-10-01T00:00:00",
          "2022-11-01T00:00:00",
          "2022-12-01T00:00:00",
          "2023-01-01T00:00:00",
          "2023-02-01T00:00:00",
          "2023-03-01T00:00:00",
          "2023-04-01T00:00:00",
          "2023-05-01T00:00:00",
          "2023-06-01T00:00:00",
          "2023-07-01T00:00:00",
          "2023-08-01T00:00:00",
          "2023-09-01T00:00:00",
          "2023-10-01T00:00:00",
          "2023-11-01T00:00:00",
          "2023-12-01T00:00:00",
          "2024-01-01T00:00:00",
          "2024-02-01T00:00:00",
          "2024-03-01T00:00:00",
          "2024-04-01T00:00:00",
          "2024-05-01T00:00:00",
          "2018-02-01T00:00:00",
          "2018-03-01T00:00:00",
          "2018-04-01T00:00:00",
          "2018-05-01T00:00:00",
          "2018-06-01T00:00:00",
          "2018-07-01T00:00:00",
          "2018-08-01T00:00:00",
          "2018-09-01T00:00:00",
          "2018-10-01T00:00:00",
          "2018-11-01T00:00:00",
          "2018-12-01T00:00:00",
          "2019-01-01T00:00:00",
          "2019-02-01T00:00:00",
          "2019-03-01T00:00:00",
          "2019-04-01T00:00:00",
          "2019-05-01T00:00:00",
          "2019-06-01T00:00:00",
          "2019-07-01T00:00:00",
          "2019-08-01T00:00:00",
          "2019-09-01T00:00:00",
          "2019-10-01T00:00:00",
          "2019-11-01T00:00:00",
          "2019-12-01T00:00:00",
          "2020-01-01T00:00:00",
          "2020-02-01T00:00:00",
          "2020-03-01T00:00:00",
          "2020-04-01T00:00:00",
          "2020-05-01T00:00:00",
          "2020-06-01T00:00:00",
          "2020-07-01T00:00:00",
          "2020-08-01T00:00:00",
          "2020-09-01T00:00:00",
          "2020-10-01T00:00:00",
          "2020-11-01T00:00:00",
          "2020-12-01T00:00:00",
          "2021-01-01T00:00:00",
          "2021-02-01T00:00:00",
          "2021-03-01T00:00:00",
          "2021-04-01T00:00:00",
          "2021-05-01T00:00:00",
          "2021-06-01T00:00:00",
          "2021-07-01T00:00:00",
          "2021-08-01T00:00:00",
          "2021-09-01T00:00:00",
          "2021-10-01T00:00:00",
          "2021-11-01T00:00:00",
          "2021-12-01T00:00:00",
          "2022-01-01T00:00:00",
          "2022-02-01T00:00:00",
          "2022-03-01T00:00:00",
          "2022-04-01T00:00:00",
          "2022-05-01T00:00:00",
          "2022-06-01T00:00:00",
          "2022-07-01T00:00:00",
          "2022-08-01T00:00:00",
          "2022-09-01T00:00:00",
          "2022-10-01T00:00:00",
          "2022-11-01T00:00:00",
          "2022-12-01T00:00:00",
          "2023-01-01T00:00:00",
          "2023-02-01T00:00:00",
          "2023-03-01T00:00:00",
          "2023-04-01T00:00:00",
          "2023-05-01T00:00:00",
          "2023-06-01T00:00:00",
          "2023-07-01T00:00:00",
          "2023-08-01T00:00:00",
          "2023-09-01T00:00:00",
          "2023-10-01T00:00:00",
          "2023-11-01T00:00:00",
          "2023-12-01T00:00:00",
          "2024-01-01T00:00:00",
          "2024-02-01T00:00:00",
          "2024-03-01T00:00:00",
          "2024-04-01T00:00:00",
          "2024-05-01T00:00:00",
          "2018-02-01T00:00:00",
          "2018-03-01T00:00:00",
          "2018-04-01T00:00:00",
          "2018-05-01T00:00:00",
          "2018-06-01T00:00:00",
          "2018-07-01T00:00:00",
          "2018-08-01T00:00:00",
          "2018-09-01T00:00:00",
          "2018-10-01T00:00:00",
          "2018-11-01T00:00:00",
          "2018-12-01T00:00:00",
          "2019-01-01T00:00:00",
          "2019-02-01T00:00:00",
          "2019-03-01T00:00:00",
          "2019-04-01T00:00:00",
          "2019-05-01T00:00:00",
          "2019-06-01T00:00:00",
          "2019-07-01T00:00:00",
          "2019-08-01T00:00:00",
          "2019-09-01T00:00:00",
          "2019-10-01T00:00:00",
          "2019-11-01T00:00:00",
          "2019-12-01T00:00:00",
          "2020-01-01T00:00:00",
          "2020-02-01T00:00:00",
          "2020-03-01T00:00:00",
          "2020-04-01T00:00:00",
          "2020-05-01T00:00:00",
          "2020-06-01T00:00:00",
          "2020-07-01T00:00:00",
          "2020-08-01T00:00:00",
          "2020-09-01T00:00:00",
          "2020-10-01T00:00:00",
          "2020-11-01T00:00:00",
          "2020-12-01T00:00:00",
          "2021-01-01T00:00:00",
          "2021-02-01T00:00:00",
          "2021-03-01T00:00:00",
          "2021-04-01T00:00:00",
          "2021-05-01T00:00:00",
          "2021-06-01T00:00:00",
          "2021-07-01T00:00:00",
          "2021-08-01T00:00:00",
          "2021-09-01T00:00:00",
          "2021-10-01T00:00:00",
          "2021-11-01T00:00:00",
          "2021-12-01T00:00:00",
          "2022-01-01T00:00:00",
          "2022-02-01T00:00:00",
          "2022-03-01T00:00:00",
          "2022-04-01T00:00:00",
          "2022-05-01T00:00:00",
          "2022-06-01T00:00:00",
          "2022-07-01T00:00:00",
          "2022-08-01T00:00:00",
          "2022-09-01T00:00:00",
          "2022-10-01T00:00:00",
          "2022-11-01T00:00:00",
          "2022-12-01T00:00:00",
          "2023-01-01T00:00:00",
          "2023-02-01T00:00:00",
          "2023-03-01T00:00:00",
          "2023-04-01T00:00:00",
          "2023-05-01T00:00:00",
          "2023-06-01T00:00:00",
          "2023-07-01T00:00:00",
          "2023-08-01T00:00:00",
          "2023-09-01T00:00:00",
          "2023-10-01T00:00:00",
          "2023-11-01T00:00:00",
          "2023-12-01T00:00:00",
          "2024-01-01T00:00:00",
          "2024-02-01T00:00:00",
          "2024-03-01T00:00:00",
          "2024-04-01T00:00:00",
          "2024-05-01T00:00:00",
          "2018-02-01T00:00:00",
          "2018-03-01T00:00:00",
          "2018-04-01T00:00:00",
          "2018-05-01T00:00:00",
          "2018-06-01T00:00:00",
          "2018-07-01T00:00:00",
          "2018-08-01T00:00:00",
          "2018-09-01T00:00:00",
          "2018-10-01T00:00:00",
          "2018-11-01T00:00:00",
          "2018-12-01T00:00:00",
          "2019-01-01T00:00:00",
          "2019-02-01T00:00:00",
          "2019-03-01T00:00:00",
          "2019-04-01T00:00:00",
          "2019-05-01T00:00:00",
          "2019-06-01T00:00:00",
          "2019-07-01T00:00:00",
          "2019-08-01T00:00:00",
          "2019-09-01T00:00:00",
          "2019-10-01T00:00:00",
          "2019-11-01T00:00:00",
          "2019-12-01T00:00:00",
          "2020-01-01T00:00:00",
          "2020-02-01T00:00:00",
          "2020-03-01T00:00:00",
          "2020-04-01T00:00:00",
          "2020-05-01T00:00:00",
          "2020-06-01T00:00:00",
          "2020-07-01T00:00:00",
          "2020-08-01T00:00:00",
          "2020-09-01T00:00:00",
          "2020-10-01T00:00:00",
          "2020-11-01T00:00:00",
          "2020-12-01T00:00:00",
          "2021-01-01T00:00:00",
          "2021-02-01T00:00:00",
          "2021-03-01T00:00:00",
          "2021-04-01T00:00:00",
          "2021-05-01T00:00:00",
          "2021-06-01T00:00:00",
          "2021-07-01T00:00:00",
          "2021-08-01T00:00:00",
          "2021-09-01T00:00:00",
          "2021-10-01T00:00:00",
          "2021-11-01T00:00:00",
          "2021-12-01T00:00:00",
          "2022-01-01T00:00:00",
          "2022-02-01T00:00:00",
          "2022-03-01T00:00:00",
          "2022-04-01T00:00:00",
          "2022-05-01T00:00:00",
          "2022-06-01T00:00:00",
          "2022-07-01T00:00:00",
          "2022-08-01T00:00:00",
          "2022-09-01T00:00:00",
          "2022-10-01T00:00:00",
          "2022-11-01T00:00:00",
          "2022-12-01T00:00:00",
          "2023-01-01T00:00:00",
          "2023-02-01T00:00:00",
          "2023-03-01T00:00:00",
          "2023-04-01T00:00:00",
          "2023-05-01T00:00:00",
          "2023-06-01T00:00:00",
          "2023-07-01T00:00:00",
          "2023-08-01T00:00:00",
          "2023-09-01T00:00:00",
          "2023-10-01T00:00:00",
          "2023-11-01T00:00:00",
          "2023-12-01T00:00:00",
          "2024-01-01T00:00:00",
          "2024-02-01T00:00:00",
          "2024-03-01T00:00:00",
          "2024-04-01T00:00:00",
          "2024-05-01T00:00:00",
          "2018-02-01T00:00:00",
          "2018-03-01T00:00:00",
          "2018-04-01T00:00:00",
          "2018-05-01T00:00:00",
          "2018-06-01T00:00:00",
          "2018-07-01T00:00:00",
          "2018-08-01T00:00:00",
          "2018-09-01T00:00:00",
          "2018-10-01T00:00:00",
          "2018-11-01T00:00:00",
          "2018-12-01T00:00:00",
          "2019-01-01T00:00:00",
          "2019-02-01T00:00:00",
          "2019-03-01T00:00:00",
          "2019-04-01T00:00:00",
          "2019-05-01T00:00:00",
          "2019-06-01T00:00:00",
          "2019-07-01T00:00:00",
          "2019-08-01T00:00:00",
          "2019-09-01T00:00:00",
          "2019-10-01T00:00:00",
          "2019-11-01T00:00:00",
          "2019-12-01T00:00:00",
          "2020-01-01T00:00:00",
          "2020-02-01T00:00:00",
          "2020-03-01T00:00:00",
          "2020-04-01T00:00:00",
          "2020-05-01T00:00:00",
          "2020-06-01T00:00:00",
          "2020-07-01T00:00:00",
          "2020-08-01T00:00:00",
          "2020-09-01T00:00:00",
          "2020-10-01T00:00:00",
          "2020-11-01T00:00:00",
          "2020-12-01T00:00:00",
          "2021-01-01T00:00:00",
          "2021-02-01T00:00:00",
          "2021-03-01T00:00:00",
          "2021-04-01T00:00:00",
          "2021-05-01T00:00:00",
          "2021-06-01T00:00:00",
          "2021-07-01T00:00:00",
          "2021-08-01T00:00:00",
          "2021-09-01T00:00:00",
          "2021-10-01T00:00:00",
          "2021-11-01T00:00:00",
          "2021-12-01T00:00:00",
          "2022-01-01T00:00:00",
          "2022-02-01T00:00:00",
          "2022-03-01T00:00:00",
          "2022-04-01T00:00:00",
          "2022-05-01T00:00:00",
          "2022-06-01T00:00:00",
          "2022-07-01T00:00:00",
          "2022-08-01T00:00:00",
          "2022-09-01T00:00:00",
          "2022-10-01T00:00:00",
          "2022-11-01T00:00:00",
          "2022-12-01T00:00:00",
          "2023-01-01T00:00:00",
          "2023-02-01T00:00:00",
          "2023-03-01T00:00:00",
          "2023-04-01T00:00:00",
          "2023-05-01T00:00:00",
          "2023-06-01T00:00:00",
          "2023-07-01T00:00:00",
          "2023-08-01T00:00:00",
          "2023-09-01T00:00:00",
          "2023-10-01T00:00:00",
          "2023-11-01T00:00:00",
          "2023-12-01T00:00:00",
          "2024-01-01T00:00:00",
          "2024-02-01T00:00:00",
          "2024-03-01T00:00:00",
          "2024-04-01T00:00:00",
          "2024-05-01T00:00:00"
         ],
         "xaxis": "x",
         "y": [
          212531.6669496079,
          213905.2607661849,
          214996.1092539536,
          216057.81420929937,
          217117.25612513215,
          218313.50475442884,
          219157.89924644024,
          219819.31739744404,
          220428.6809931004,
          221224.00514792383,
          222256.91327131752,
          223449.7423907416,
          224805.01380638892,
          226087.94185520287,
          227213.44876628875,
          228128.66327484883,
          229048.58729557612,
          229693.0006736364,
          230429.25960331075,
          230977.9415007032,
          231835.8695351122,
          232889.97612012652,
          234068.61782881303,
          235516.9057682204,
          236856.4984413764,
          238449.221248966,
          239777.0480995426,
          240522.8202518217,
          241241.4978737788,
          242431.85012739315,
          244486.59813266984,
          247207.5555629419,
          250304.43939849595,
          254069.28527016696,
          257920.5328585791,
          261755.1155339068,
          265426.63875816803,
          269270.0709197922,
          273379.2241231078,
          277985.8689333388,
          282924.4200537315,
          287707.27426237747,
          291811.4649833383,
          295053.9210229525,
          298102.69165446324,
          301413.2313848134,
          305069.3324035036,
          309313.0125874364,
          314209.51585311955,
          319949.12752566603,
          325981.7155536133,
          331413.0729704642,
          335820.97361697047,
          338325.0442636329,
          338808.3800511624,
          337575.1038710626,
          335982.6114621482,
          334374.5688095953,
          332814.2512146091,
          330653.4751837566,
          328905.28103864315,
          328181.5772645408,
          328871.70814275485,
          330717.13769673207,
          333282.45589452,
          336204.294731577,
          339011.06096275616,
          341029.9429175021,
          342336.7710082522,
          343390.67629175185,
          344530.53610880143,
          345869.1033936872,
          347344.168924798,
          349146.6499865324,
          351345.79866218084,
          353595.1080747117,
          296135.4189544011,
          298724.051779338,
          300495.5178709961,
          301790.67790591327,
          302763.6715014807,
          303632.94148480723,
          304623.7322268865,
          305479.7127028688,
          306093.5094550792,
          306371.3864696689,
          307447.0868045655,
          310553.04994134937,
          315950.2040869817,
          322493.7135851975,
          328860.36556454777,
          333758.98447490414,
          337452.36069791,
          339920.21853419306,
          341871.3854667737,
          343375.0788715744,
          344955.3676337665,
          346553.73725308327,
          347295.37402774964,
          347754.0115774961,
          347963.74944851774,
          348893.8329920637,
          349199.84809486405,
          347965.4319682647,
          346370.63504591206,
          346099.4610803008,
          348653.7747263945,
          353164.6192449879,
          358583.43574203114,
          364396.26871130615,
          370153.7475276613,
          375464.6388002781,
          380056.6100368921,
          383937.0685520947,
          387540.08530325576,
          391848.84236168535,
          396030.0152226653,
          399783.0831163207,
          402056.7707760301,
          403180.3352223212,
          404090.132983988,
          405810.2817460445,
          408563.6178172272,
          413084.01031954976,
          418317.2771086205,
          424460.19350766967,
          429934.9616124,
          434396.4927218606,
          436911.0682386295,
          436616.3657707349,
          433969.2211870696,
          430004.9578018352,
          426683.8462566596,
          423156.5616258546,
          419068.5462179195,
          413860.60355424485,
          409195.1888095485,
          405923.4090767941,
          405035.3122232584,
          405506.7579721781,
          406837.3587634605,
          407200.0838100527,
          407047.4044774079,
          405614.1590870111,
          403529.43847923697,
          401527.633774565,
          400414.3866128628,
          400177.337538414,
          400159.0878322602,
          400914.8170164519,
          401821.4186384883,
          402802.6354837127,
          603755.9444170798,
          606107.6159158674,
          607453.929140578,
          609161.0368975165,
          610663.9206562453,
          611079.6117115605,
          611214.5328668299,
          610966.7544064663,
          612526.6827974502,
          613637.7654622635,
          614448.2058989598,
          615054.9845979051,
          615903.401050641,
          617575.3489703013,
          618508.626508556,
          618899.4318375554,
          618358.8923776351,
          617804.2681264332,
          617164.3600327126,
          617033.4790129955,
          617727.4956959697,
          619248.179522578,
          621161.3797868338,
          623523.0294750963,
          626937.4342749139,
          631777.2623481379,
          635313.3928793807,
          636481.740403398,
          635202.52625169,
          635058.973740154,
          637937.3422432868,
          644931.7540806589,
          654272.0661011863,
          665550.1430821307,
          676693.4040101453,
          687109.0245976001,
          696854.2211691485,
          705876.6361002751,
          716010.1717684228,
          727535.9982278417,
          739973.8390212021,
          750610.1646434171,
          756427.7361798566,
          759095.3191888947,
          761188.2932729162,
          765359.5873746253,
          770933.7574540566,
          780843.9219247802,
          796361.3637826525,
          816721.3780399989,
          835622.1347325565,
          849152.4319539089,
          855856.8848141278,
          855311.8850150052,
          849097.4972952554,
          840396.4693082975,
          832593.7183326534,
          825723.3892738214,
          818790.1448670974,
          810836.9983669232,
          804899.8108982426,
          803178.1426823954,
          806266.939263478,
          811741.2115972089,
          818241.5532362126,
          825752.047471405,
          833913.0405712901,
          841403.4202612616,
          846884.7795582175,
          850297.7879923222,
          852251.3050339678,
          853519.831351561,
          855587.9212769642,
          859740.5147190812,
          866615.1943387464,
          873490.0722820539,
          544138.4652619179,
          546488.8290948421,
          548834.5165352562,
          551297.6186480791,
          553836.9414854603,
          555657.6878062336,
          557218.064237307,
          558979.4554078408,
          562416.6229485208,
          565269.5694443702,
          568026.7961289139,
          569744.848942334,
          571806.5840841475,
          574104.5831599334,
          576256.7412885214,
          577642.4896237896,
          578975.0552621622,
          579902.8209134418,
          581052.47827911,
          581877.7271054689,
          583397.6760908007,
          585391.6544766458,
          587956.4304410894,
          590279.2295995057,
          594010.9532052712,
          598290.6263125063,
          603414.0755106028,
          606188.6992600798,
          607774.9403563164,
          608872.6343419241,
          612888.2702970015,
          619930.4936746033,
          629273.8739736675,
          639684.4962389127,
          650771.5391334984,
          660859.887862966,
          671088.5660880613,
          680979.5401856875,
          693001.1586621985,
          706426.2446314171,
          719799.1028009444,
          730600.9396254538,
          737379.537952254,
          741572.5589589757,
          745947.5481582362,
          751522.526382676,
          757227.1044471534,
          766649.2007928472,
          780390.0971353427,
          798809.780545298,
          815031.9280141168,
          826154.4207783072,
          831467.1142890295,
          829844.7148451158,
          822622.4969048338,
          812574.6354118063,
          804816.6358633833,
          799117.8590016261,
          794547.310582409,
          788587.8033945869,
          784285.7750044664,
          783001.9844024334,
          785891.4797428992,
          791001.7612209177,
          796521.9690633045,
          803325.8451640792,
          810557.1134982296,
          817168.8319728241,
          822126.8300852397,
          825470.1335687279,
          827398.2046163165,
          827265.6380322207,
          826914.7551236387,
          829758.53370988,
          835351.3544600205,
          841606.0605092034,
          586462.8071586208,
          588610.3532010346,
          590435.0980015282,
          592740.4309999594,
          594557.697065563,
          596199.4178777543,
          597553.342620598,
          598818.5287467818,
          600110.4571925103,
          600751.1407421314,
          600541.9492736281,
          600086.2952170871,
          599867.723346807,
          600846.0986522124,
          602199.8396290437,
          602957.8376019747,
          603474.6954472711,
          603482.7355536954,
          604225.3024834609,
          604679.6819476985,
          605836.6509644223,
          607986.7470561177,
          611261.4038342861,
          615080.1537275491,
          619348.1227924732,
          624018.9186741642,
          628820.5905149471,
          631241.2136395004,
          631501.1662276773,
          631306.4844907615,
          633844.288623301,
          640413.893698732,
          649607.5398939485,
          661274.4102815688,
          673365.5862162138,
          685113.8373321391,
          696203.5118201781,
          707884.0249019642,
          721659.7353257373,
          737641.9996366575,
          753878.8369874465,
          766989.765201609,
          774158.9607431357,
          776878.7117423677,
          779274.4691681886,
          784549.7092405966,
          792972.8651956279,
          808323.1087199171,
          830505.6790093336,
          858408.6324524096,
          883858.3016557436,
          902567.0276485896,
          912821.8548327052,
          913153.0368693726,
          904947.7474401584,
          891490.618975476,
          879394.0821375349,
          870207.2668549317,
          863423.8632649517,
          856145.4979950059,
          850919.1283666358,
          849092.6047247296,
          852290.1370055042,
          859129.8475609632,
          868705.2268305864,
          880205.9167054129,
          892236.6559881266,
          903860.6989255002,
          913397.4410983352,
          919960.6128617655,
          923423.7237747991,
          925747.4073424104,
          930391.0911167932,
          938799.0306088962,
          949289.6564371582,
          958266.0324589834,
          915915.8345852384,
          925972.9551075645,
          934634.3785275088,
          943903.7061636196,
          951793.232969732,
          955832.8798241616,
          957624.4003699484,
          958600.7029336536,
          960909.3293303052,
          962057.5610501898,
          961150.513569299,
          958640.162971404,
          954611.8499135344,
          951176.1145242774,
          948790.3676525832,
          947313.918277272,
          947359.0962729892,
          948459.983776262,
          950904.7610012656,
          952791.5014595088,
          954178.795142574,
          956163.3532997835,
          958749.3695074412,
          962209.8193516104,
          966759.6220971816,
          972896.6919112745,
          978170.0150145562,
          977916.4400700736,
          973304.0609569618,
          969642.696692668,
          972323.5557912532,
          981406.2175224996,
          993419.7109261132,
          1007732.5433507035,
          1021884.4737987014,
          1035441.040387382,
          1048222.829099708,
          1062399.5491594912,
          1079726.8932435692,
          1099454.2981021672,
          1119337.4736608649,
          1135613.7705454412,
          1144073.6544853442,
          1146721.5879086948,
          1148587.9764647062,
          1154522.2328337298,
          1163584.450521683,
          1180635.6084267537,
          1206720.776395301,
          1239721.8275108354,
          1266709.5153191464,
          1281861.306884025,
          1282796.6560201007,
          1269702.3515910292,
          1245208.516700227,
          1216411.0503428355,
          1193047.9235916934,
          1176066.2674432404,
          1163317.8828443135,
          1148591.865996563,
          1136062.7572091937,
          1126944.0259233492,
          1125076.4213155005,
          1127332.8834782308,
          1132392.6045773197,
          1139479.5643317683,
          1147581.7976436054,
          1155319.1565831455,
          1160690.5676104191,
          1162183.7211332675,
          1160127.4875983654,
          1155572.3869272626,
          1153074.1141554443,
          1158459.060012513,
          1170445.52201007,
          1183271.653900385,
          645360.6036590219,
          653768.4507180955,
          660983.3612106814,
          668224.6633660286,
          673641.4668070455,
          676209.363822383,
          676869.9242748347,
          675798.711515421,
          675009.3220594615,
          672453.54853684,
          669327.3586982792,
          666287.2084852745,
          664204.649399836,
          663431.7625106121,
          663059.1654439381,
          663041.2132867455,
          662929.7345533421,
          662269.5117300212,
          661885.0976419497,
          661801.461423545,
          661940.4407243282,
          662291.1335063237,
          662554.0678813198,
          663785.3849542742,
          666529.3420293975,
          669983.3879992678,
          672571.032650265,
          670907.7298756292,
          667420.8780774771,
          664215.0311733135,
          665096.4647606196,
          669537.9292588852,
          676312.4964545624,
          684047.2002087291,
          691923.7640431966,
          699365.6336115332,
          707510.1431830893,
          716579.7377050571,
          727410.0752279988,
          738929.4684231429,
          748663.6961524831,
          755935.6657441022,
          758123.9175038576,
          757494.8413168779,
          755802.6699558636,
          755871.7261451263,
          758313.3017477737,
          765369.3334935103,
          776883.0098848599,
          792589.7727764557,
          805955.8312267935,
          815434.1414631009,
          818115.4051202169,
          814924.612779508,
          807709.0404611155,
          799898.8218113339,
          795395.8755509522,
          792136.7018963294,
          789338.281205803,
          785057.5360655874,
          782146.3481359798,
          781842.9675541801,
          784198.8351061015,
          788740.7815739528,
          793592.4533398965,
          798648.4153868445,
          802396.1937104386,
          804662.4088592551,
          806171.6437170297,
          805553.0385800138,
          804248.2042536266,
          802299.0380623596,
          802429.0570418421,
          805090.1601574415,
          810103.4426703997,
          814233.5764947605,
          465370.4690628109,
          467680.66058478254,
          470584.0465145613,
          473970.5151814314,
          476765.31680570176,
          478629.13888748985,
          480345.2483779122,
          482290.3763125339,
          484217.17908987176,
          485675.630608075,
          486273.8338190137,
          486231.6101068807,
          485748.1044660784,
          485675.42231272015,
          486100.0608141956,
          486346.08383142535,
          486148.7771729519,
          485763.09932903247,
          486043.03614271386,
          486334.5487243072,
          486693.5261925586,
          486771.5464860259,
          486653.8948881102,
          488097.40300909424,
          490514.9882732954,
          493850.0784960005,
          495376.8695826922,
          494366.7416324255,
          492603.8096568165,
          492622.1632687938,
          496197.3785527108,
          503470.0064673838,
          513094.4927978604,
          524804.6281448676,
          536569.7758306832,
          548040.529523895,
          560227.5365844048,
          573299.1395321861,
          588714.8448349385,
          604335.8230044873,
          618560.5260639451,
          627966.272894671,
          632578.6590089891,
          633461.0006036254,
          633695.0426235785,
          634479.2538940066,
          636698.1104077689,
          643183.8515881983,
          653063.7104376394,
          666489.764437673,
          677483.835503797,
          685350.8179946622,
          687197.2484008813,
          683776.3455668432,
          675339.4041689568,
          665830.2651980966,
          657047.3288385354,
          649394.8160148704,
          641493.9068292865,
          633463.433764078,
          627030.5429514195,
          622976.3983346605,
          622880.8493325483,
          625043.5133155676,
          628456.0211302448,
          630615.1720214088,
          631413.2988920634,
          630976.3102322643,
          629908.3168823775,
          627656.3595922071,
          625236.9610036771,
          622688.467117007,
          623028.0024283034,
          624738.5436748522,
          627343.6449307898,
          629003.380727168,
          218052.4540440268,
          219503.11005301867,
          220393.5641557847,
          221145.6580660763,
          221547.68251106865,
          222362.93435048257,
          223190.71815848345,
          224033.0731008565,
          224891.27008161956,
          225685.0415122624,
          226790.7258175806,
          228147.4410018111,
          229749.8957734564,
          231337.60299119249,
          232524.1500941627,
          233334.44257829108,
          233923.6959564069,
          234299.35633973533,
          234844.64881346945,
          235430.3863397253,
          236695.97793872163,
          238409.54809071848,
          240265.8820241343,
          241652.1655318857,
          242338.1072156669,
          242830.26965551195,
          243318.89137041228,
          243719.55171708064,
          244146.43100231225,
          245027.629632841,
          247208.57269989685,
          250534.8307106704,
          254626.76359728296,
          259258.7795916745,
          263812.4087492915,
          268132.96342352073,
          271987.0844018943,
          275802.520433198,
          279785.37643220654,
          284158.0720812173,
          289084.2848219637,
          294090.95103276905,
          298463.611790228,
          301413.9260083978,
          303796.8767386968,
          306495.3568104069,
          310116.2708206609,
          314531.4144530012,
          319287.427935017,
          324307.74169418385,
          329271.64353961725,
          333634.59134117834,
          337346.4420574976,
          339703.9320565785,
          340650.10307584173,
          340094.6279024333,
          339207.1615688249,
          337846.42608857393,
          336299.77673373185,
          333690.03628152603,
          331587.27895629575,
          330446.0505316026,
          330510.22495658044,
          331267.507060173,
          332535.0899106486,
          334464.0944327605,
          336626.851617193,
          338295.52732425387,
          339397.4302780032,
          339915.981946646,
          340429.6895916766,
          341095.6118976103,
          342131.1812365765,
          343669.1833165782,
          345361.63720224705,
          347233.00076915533,
          629019.1657649679,
          636850.1394173973,
          642812.8911353037,
          647593.3998145718,
          651181.0449616335,
          654935.3975989725,
          660584.0651847305,
          668122.6196979311,
          676129.5308356608,
          681798.6896950613,
          684820.2776547413,
          682313.9324648896,
          675778.9242467087,
          667819.448300528,
          662745.9320117171,
          660162.0404002541,
          658853.6272258769,
          659709.3530696438,
          663616.0461440712,
          670037.6028700791,
          676911.9987229748,
          683175.9615859563,
          688859.9280334449,
          692199.5076754364,
          693787.5453700791,
          694582.4035120703,
          695583.0431992188,
          694608.4697539861,
          691677.1529459627,
          691349.1644685417,
          696578.4323182431,
          707788.6147575841,
          721208.455914631,
          736069.8605339831,
          750248.1366202995,
          759796.8437466758,
          765753.9781674274,
          769064.7389487611,
          776129.4491570311,
          786145.7526089043,
          798523.2681220121,
          810683.8293737847,
          819987.9723640601,
          827198.7803668544,
          834164.9002265151,
          842825.1053687086,
          853230.4371547704,
          865739.7050546538,
          880538.2084557483,
          897171.5765693368,
          912259.1308390662,
          924119.5123995872,
          930805.9862155966,
          932703.0622922007,
          929511.8934442968,
          923635.447690096,
          918171.7650415928,
          914286.336499032,
          911043.7679903164,
          902437.4467807832,
          891127.6159243407,
          880997.3018952942,
          878531.6461211595,
          882455.5563329385,
          890542.6656615548,
          902168.2917164864,
          916234.2963194688,
          930436.6728298888,
          942253.1695750048,
          951145.7358358916,
          956729.8382475036,
          956889.213357563,
          953824.65568082,
          952665.578913095,
          956266.6879261564,
          962388.4914247744,
          304615.38561468484,
          306409.2302564908,
          307677.16643561545,
          309161.9765597191,
          309961.02535257,
          311060.3855983131,
          312490.86225580267,
          314176.27593694464,
          315395.81486635347,
          315724.4216069884,
          315635.5730231255,
          315881.33287347405,
          316718.1666130252,
          318062.0949962595,
          318816.49777405086,
          319409.0934224504,
          319507.6267896425,
          319457.146970215,
          319492.7830670119,
          320243.2900687197,
          320873.4956507596,
          320970.5519146719,
          319943.0300150853,
          318908.56844138046,
          317563.85311129404,
          316356.5693952947,
          315370.4565695501,
          314100.5362634841,
          313325.1798346389,
          312994.0727417213,
          314956.72143727913,
          318690.1028790705,
          323967.3066462709,
          329170.6819902656,
          334155.38676713035,
          338433.14665830083,
          342824.44867215777,
          347540.2527985687,
          353727.0408114718,
          361647.4395172596,
          369842.7335761344,
          377602.946456067,
          383566.9802752868,
          388051.6444780534,
          391392.0983320803,
          394893.9820355932,
          398299.667512218,
          402383.7594961777,
          406077.9680161543,
          411805.742032768,
          417905.2632601389,
          423982.3870915782,
          427642.6996870008,
          428241.15369576256,
          425910.7542453282,
          422080.07695203513,
          418877.2674809133,
          415824.0294695343,
          411762.8336197485,
          407601.44859623833,
          404745.0991789797,
          404383.0575293627,
          404743.7398141897,
          405181.059889396,
          405111.9858751224,
          404833.1089471239,
          404495.491533845,
          404477.37375644967,
          403962.9109838386,
          402174.4346594443,
          399699.542368374,
          397722.47696304414,
          398115.87438068,
          399551.0228109244,
          400993.970353875,
          401768.9459758956
         ],
         "yaxis": "y"
        }
       ],
       "layout": {
        "autosize": true,
        "legend": {
         "tracegroupgap": 0
        },
        "template": {
         "data": {
          "bar": [
           {
            "error_x": {
             "color": "#2a3f5f"
            },
            "error_y": {
             "color": "#2a3f5f"
            },
            "marker": {
             "line": {
              "color": "#E5ECF6",
              "width": 0.5
             },
             "pattern": {
              "fillmode": "overlay",
              "size": 10,
              "solidity": 0.2
             }
            },
            "type": "bar"
           }
          ],
          "barpolar": [
           {
            "marker": {
             "line": {
              "color": "#E5ECF6",
              "width": 0.5
             },
             "pattern": {
              "fillmode": "overlay",
              "size": 10,
              "solidity": 0.2
             }
            },
            "type": "barpolar"
           }
          ],
          "carpet": [
           {
            "aaxis": {
             "endlinecolor": "#2a3f5f",
             "gridcolor": "white",
             "linecolor": "white",
             "minorgridcolor": "white",
             "startlinecolor": "#2a3f5f"
            },
            "baxis": {
             "endlinecolor": "#2a3f5f",
             "gridcolor": "white",
             "linecolor": "white",
             "minorgridcolor": "white",
             "startlinecolor": "#2a3f5f"
            },
            "type": "carpet"
           }
          ],
          "choropleth": [
           {
            "colorbar": {
             "outlinewidth": 0,
             "ticks": ""
            },
            "type": "choropleth"
           }
          ],
          "contour": [
           {
            "colorbar": {
             "outlinewidth": 0,
             "ticks": ""
            },
            "colorscale": [
             [
              0,
              "#0d0887"
             ],
             [
              0.1111111111111111,
              "#46039f"
             ],
             [
              0.2222222222222222,
              "#7201a8"
             ],
             [
              0.3333333333333333,
              "#9c179e"
             ],
             [
              0.4444444444444444,
              "#bd3786"
             ],
             [
              0.5555555555555556,
              "#d8576b"
             ],
             [
              0.6666666666666666,
              "#ed7953"
             ],
             [
              0.7777777777777778,
              "#fb9f3a"
             ],
             [
              0.8888888888888888,
              "#fdca26"
             ],
             [
              1,
              "#f0f921"
             ]
            ],
            "type": "contour"
           }
          ],
          "contourcarpet": [
           {
            "colorbar": {
             "outlinewidth": 0,
             "ticks": ""
            },
            "type": "contourcarpet"
           }
          ],
          "heatmap": [
           {
            "colorbar": {
             "outlinewidth": 0,
             "ticks": ""
            },
            "colorscale": [
             [
              0,
              "#0d0887"
             ],
             [
              0.1111111111111111,
              "#46039f"
             ],
             [
              0.2222222222222222,
              "#7201a8"
             ],
             [
              0.3333333333333333,
              "#9c179e"
             ],
             [
              0.4444444444444444,
              "#bd3786"
             ],
             [
              0.5555555555555556,
              "#d8576b"
             ],
             [
              0.6666666666666666,
              "#ed7953"
             ],
             [
              0.7777777777777778,
              "#fb9f3a"
             ],
             [
              0.8888888888888888,
              "#fdca26"
             ],
             [
              1,
              "#f0f921"
             ]
            ],
            "type": "heatmap"
           }
          ],
          "heatmapgl": [
           {
            "colorbar": {
             "outlinewidth": 0,
             "ticks": ""
            },
            "colorscale": [
             [
              0,
              "#0d0887"
             ],
             [
              0.1111111111111111,
              "#46039f"
             ],
             [
              0.2222222222222222,
              "#7201a8"
             ],
             [
              0.3333333333333333,
              "#9c179e"
             ],
             [
              0.4444444444444444,
              "#bd3786"
             ],
             [
              0.5555555555555556,
              "#d8576b"
             ],
             [
              0.6666666666666666,
              "#ed7953"
             ],
             [
              0.7777777777777778,
              "#fb9f3a"
             ],
             [
              0.8888888888888888,
              "#fdca26"
             ],
             [
              1,
              "#f0f921"
             ]
            ],
            "type": "heatmapgl"
           }
          ],
          "histogram": [
           {
            "marker": {
             "pattern": {
              "fillmode": "overlay",
              "size": 10,
              "solidity": 0.2
             }
            },
            "type": "histogram"
           }
          ],
          "histogram2d": [
           {
            "colorbar": {
             "outlinewidth": 0,
             "ticks": ""
            },
            "colorscale": [
             [
              0,
              "#0d0887"
             ],
             [
              0.1111111111111111,
              "#46039f"
             ],
             [
              0.2222222222222222,
              "#7201a8"
             ],
             [
              0.3333333333333333,
              "#9c179e"
             ],
             [
              0.4444444444444444,
              "#bd3786"
             ],
             [
              0.5555555555555556,
              "#d8576b"
             ],
             [
              0.6666666666666666,
              "#ed7953"
             ],
             [
              0.7777777777777778,
              "#fb9f3a"
             ],
             [
              0.8888888888888888,
              "#fdca26"
             ],
             [
              1,
              "#f0f921"
             ]
            ],
            "type": "histogram2d"
           }
          ],
          "histogram2dcontour": [
           {
            "colorbar": {
             "outlinewidth": 0,
             "ticks": ""
            },
            "colorscale": [
             [
              0,
              "#0d0887"
             ],
             [
              0.1111111111111111,
              "#46039f"
             ],
             [
              0.2222222222222222,
              "#7201a8"
             ],
             [
              0.3333333333333333,
              "#9c179e"
             ],
             [
              0.4444444444444444,
              "#bd3786"
             ],
             [
              0.5555555555555556,
              "#d8576b"
             ],
             [
              0.6666666666666666,
              "#ed7953"
             ],
             [
              0.7777777777777778,
              "#fb9f3a"
             ],
             [
              0.8888888888888888,
              "#fdca26"
             ],
             [
              1,
              "#f0f921"
             ]
            ],
            "type": "histogram2dcontour"
           }
          ],
          "mesh3d": [
           {
            "colorbar": {
             "outlinewidth": 0,
             "ticks": ""
            },
            "type": "mesh3d"
           }
          ],
          "parcoords": [
           {
            "line": {
             "colorbar": {
              "outlinewidth": 0,
              "ticks": ""
             }
            },
            "type": "parcoords"
           }
          ],
          "pie": [
           {
            "automargin": true,
            "type": "pie"
           }
          ],
          "scatter": [
           {
            "fillpattern": {
             "fillmode": "overlay",
             "size": 10,
             "solidity": 0.2
            },
            "type": "scatter"
           }
          ],
          "scatter3d": [
           {
            "line": {
             "colorbar": {
              "outlinewidth": 0,
              "ticks": ""
             }
            },
            "marker": {
             "colorbar": {
              "outlinewidth": 0,
              "ticks": ""
             }
            },
            "type": "scatter3d"
           }
          ],
          "scattercarpet": [
           {
            "marker": {
             "colorbar": {
              "outlinewidth": 0,
              "ticks": ""
             }
            },
            "type": "scattercarpet"
           }
          ],
          "scattergeo": [
           {
            "marker": {
             "colorbar": {
              "outlinewidth": 0,
              "ticks": ""
             }
            },
            "type": "scattergeo"
           }
          ],
          "scattergl": [
           {
            "marker": {
             "colorbar": {
              "outlinewidth": 0,
              "ticks": ""
             }
            },
            "type": "scattergl"
           }
          ],
          "scattermapbox": [
           {
            "marker": {
             "colorbar": {
              "outlinewidth": 0,
              "ticks": ""
             }
            },
            "type": "scattermapbox"
           }
          ],
          "scatterpolar": [
           {
            "marker": {
             "colorbar": {
              "outlinewidth": 0,
              "ticks": ""
             }
            },
            "type": "scatterpolar"
           }
          ],
          "scatterpolargl": [
           {
            "marker": {
             "colorbar": {
              "outlinewidth": 0,
              "ticks": ""
             }
            },
            "type": "scatterpolargl"
           }
          ],
          "scatterternary": [
           {
            "marker": {
             "colorbar": {
              "outlinewidth": 0,
              "ticks": ""
             }
            },
            "type": "scatterternary"
           }
          ],
          "surface": [
           {
            "colorbar": {
             "outlinewidth": 0,
             "ticks": ""
            },
            "colorscale": [
             [
              0,
              "#0d0887"
             ],
             [
              0.1111111111111111,
              "#46039f"
             ],
             [
              0.2222222222222222,
              "#7201a8"
             ],
             [
              0.3333333333333333,
              "#9c179e"
             ],
             [
              0.4444444444444444,
              "#bd3786"
             ],
             [
              0.5555555555555556,
              "#d8576b"
             ],
             [
              0.6666666666666666,
              "#ed7953"
             ],
             [
              0.7777777777777778,
              "#fb9f3a"
             ],
             [
              0.8888888888888888,
              "#fdca26"
             ],
             [
              1,
              "#f0f921"
             ]
            ],
            "type": "surface"
           }
          ],
          "table": [
           {
            "cells": {
             "fill": {
              "color": "#EBF0F8"
             },
             "line": {
              "color": "white"
             }
            },
            "header": {
             "fill": {
              "color": "#C8D4E3"
             },
             "line": {
              "color": "white"
             }
            },
            "type": "table"
           }
          ]
         },
         "layout": {
          "annotationdefaults": {
           "arrowcolor": "#2a3f5f",
           "arrowhead": 0,
           "arrowwidth": 1
          },
          "autotypenumbers": "strict",
          "coloraxis": {
           "colorbar": {
            "outlinewidth": 0,
            "ticks": ""
           }
          },
          "colorscale": {
           "diverging": [
            [
             0,
             "#8e0152"
            ],
            [
             0.1,
             "#c51b7d"
            ],
            [
             0.2,
             "#de77ae"
            ],
            [
             0.3,
             "#f1b6da"
            ],
            [
             0.4,
             "#fde0ef"
            ],
            [
             0.5,
             "#f7f7f7"
            ],
            [
             0.6,
             "#e6f5d0"
            ],
            [
             0.7,
             "#b8e186"
            ],
            [
             0.8,
             "#7fbc41"
            ],
            [
             0.9,
             "#4d9221"
            ],
            [
             1,
             "#276419"
            ]
           ],
           "sequential": [
            [
             0,
             "#0d0887"
            ],
            [
             0.1111111111111111,
             "#46039f"
            ],
            [
             0.2222222222222222,
             "#7201a8"
            ],
            [
             0.3333333333333333,
             "#9c179e"
            ],
            [
             0.4444444444444444,
             "#bd3786"
            ],
            [
             0.5555555555555556,
             "#d8576b"
            ],
            [
             0.6666666666666666,
             "#ed7953"
            ],
            [
             0.7777777777777778,
             "#fb9f3a"
            ],
            [
             0.8888888888888888,
             "#fdca26"
            ],
            [
             1,
             "#f0f921"
            ]
           ],
           "sequentialminus": [
            [
             0,
             "#0d0887"
            ],
            [
             0.1111111111111111,
             "#46039f"
            ],
            [
             0.2222222222222222,
             "#7201a8"
            ],
            [
             0.3333333333333333,
             "#9c179e"
            ],
            [
             0.4444444444444444,
             "#bd3786"
            ],
            [
             0.5555555555555556,
             "#d8576b"
            ],
            [
             0.6666666666666666,
             "#ed7953"
            ],
            [
             0.7777777777777778,
             "#fb9f3a"
            ],
            [
             0.8888888888888888,
             "#fdca26"
            ],
            [
             1,
             "#f0f921"
            ]
           ]
          },
          "colorway": [
           "#636efa",
           "#EF553B",
           "#00cc96",
           "#ab63fa",
           "#FFA15A",
           "#19d3f3",
           "#FF6692",
           "#B6E880",
           "#FF97FF",
           "#FECB52"
          ],
          "font": {
           "color": "#2a3f5f"
          },
          "geo": {
           "bgcolor": "white",
           "lakecolor": "white",
           "landcolor": "#E5ECF6",
           "showlakes": true,
           "showland": true,
           "subunitcolor": "white"
          },
          "hoverlabel": {
           "align": "left"
          },
          "hovermode": "closest",
          "mapbox": {
           "style": "light"
          },
          "paper_bgcolor": "white",
          "plot_bgcolor": "#E5ECF6",
          "polar": {
           "angularaxis": {
            "gridcolor": "white",
            "linecolor": "white",
            "ticks": ""
           },
           "bgcolor": "#E5ECF6",
           "radialaxis": {
            "gridcolor": "white",
            "linecolor": "white",
            "ticks": ""
           }
          },
          "scene": {
           "xaxis": {
            "backgroundcolor": "#E5ECF6",
            "gridcolor": "white",
            "gridwidth": 2,
            "linecolor": "white",
            "showbackground": true,
            "ticks": "",
            "zerolinecolor": "white"
           },
           "yaxis": {
            "backgroundcolor": "#E5ECF6",
            "gridcolor": "white",
            "gridwidth": 2,
            "linecolor": "white",
            "showbackground": true,
            "ticks": "",
            "zerolinecolor": "white"
           },
           "zaxis": {
            "backgroundcolor": "#E5ECF6",
            "gridcolor": "white",
            "gridwidth": 2,
            "linecolor": "white",
            "showbackground": true,
            "ticks": "",
            "zerolinecolor": "white"
           }
          },
          "shapedefaults": {
           "line": {
            "color": "#2a3f5f"
           }
          },
          "ternary": {
           "aaxis": {
            "gridcolor": "white",
            "linecolor": "white",
            "ticks": ""
           },
           "baxis": {
            "gridcolor": "white",
            "linecolor": "white",
            "ticks": ""
           },
           "bgcolor": "#E5ECF6",
           "caxis": {
            "gridcolor": "white",
            "linecolor": "white",
            "ticks": ""
           }
          },
          "title": {
           "x": 0.05
          },
          "xaxis": {
           "automargin": true,
           "gridcolor": "white",
           "linecolor": "white",
           "ticks": "",
           "title": {
            "standoff": 15
           },
           "zerolinecolor": "white",
           "zerolinewidth": 2
          },
          "yaxis": {
           "automargin": true,
           "gridcolor": "white",
           "linecolor": "white",
           "ticks": "",
           "title": {
            "standoff": 15
           },
           "zerolinecolor": "white",
           "zerolinewidth": 2
          }
         }
        },
        "title": {
         "text": "HomeValue vs. Date"
        },
        "xaxis": {
         "anchor": "y",
         "autorange": true,
         "domain": [
          0,
          1
         ],
         "range": [
          "2017-09-10 05:39:55.4814",
          "2024-09-21 18:20:04.5186"
         ],
         "showgrid": true,
         "tickformat": "%Y-%m",
         "title": {
          "text": "HomeValue"
         },
         "type": "date"
        },
        "yaxis": {
         "anchor": "x",
         "autorange": true,
         "domain": [
          0,
          1
         ],
         "range": [
          124208.82804573228,
          1371119.4949239762
         ],
         "showgrid": true,
         "title": {
          "text": "Date"
         },
         "type": "linear"
        }
       }
      },
      "image/png": "[encoded data removed]",
      "text/html": [
       "<div>                            <div id=\"e794867c-ec95-4b02-839d-4d958efbceac\" class=\"plotly-graph-div\" style=\"height:525px; width:100%;\"></div>            <script type=\"text/javascript\">                require([\"plotly\"], function(Plotly) {                    window.PLOTLYENV=window.PLOTLYENV || {};                                    if (document.getElementById(\"e794867c-ec95-4b02-839d-4d958efbceac\")) {                    Plotly.newPlot(                        \"e794867c-ec95-4b02-839d-4d958efbceac\",                        [{\"customdata\":[[\"Bakersfield, CA\"],[\"Bakersfield, CA\"],[\"Bakersfield, CA\"],[\"Bakersfield, CA\"],[\"Bakersfield, CA\"],[\"Bakersfield, CA\"],[\"Bakersfield, CA\"],[\"Bakersfield, CA\"],[\"Bakersfield, CA\"],[\"Bakersfield, CA\"],[\"Bakersfield, CA\"],[\"Bakersfield, CA\"],[\"Bakersfield, CA\"],[\"Bakersfield, CA\"],[\"Bakersfield, CA\"],[\"Bakersfield, CA\"],[\"Bakersfield, CA\"],[\"Bakersfield, CA\"],[\"Bakersfield, CA\"],[\"Bakersfield, CA\"],[\"Bakersfield, CA\"],[\"Bakersfield, CA\"],[\"Bakersfield, CA\"],[\"Bakersfield, CA\"],[\"Bakersfield, CA\"],[\"Bakersfield, CA\"],[\"Bakersfield, CA\"],[\"Bakersfield, CA\"],[\"Bakersfield, CA\"],[\"Bakersfield, CA\"],[\"Bakersfield, CA\"],[\"Bakersfield, CA\"],[\"Bakersfield, CA\"],[\"Bakersfield, CA\"],[\"Bakersfield, CA\"],[\"Bakersfield, CA\"],[\"Bakersfield, CA\"],[\"Bakersfield, CA\"],[\"Bakersfield, CA\"],[\"Bakersfield, CA\"],[\"Bakersfield, CA\"],[\"Bakersfield, CA\"],[\"Bakersfield, CA\"],[\"Bakersfield, CA\"],[\"Bakersfield, CA\"],[\"Bakersfield, CA\"],[\"Bakersfield, CA\"],[\"Bakersfield, CA\"],[\"Bakersfield, CA\"],[\"Bakersfield, CA\"],[\"Bakersfield, CA\"],[\"Bakersfield, CA\"],[\"Bakersfield, CA\"],[\"Bakersfield, CA\"],[\"Bakersfield, CA\"],[\"Bakersfield, CA\"],[\"Bakersfield, CA\"],[\"Bakersfield, CA\"],[\"Bakersfield, CA\"],[\"Bakersfield, CA\"],[\"Bakersfield, CA\"],[\"Bakersfield, CA\"],[\"Bakersfield, CA\"],[\"Bakersfield, CA\"],[\"Bakersfield, CA\"],[\"Bakersfield, CA\"],[\"Bakersfield, CA\"],[\"Bakersfield, CA\"],[\"Bakersfield, CA\"],[\"Bakersfield, CA\"],[\"Bakersfield, CA\"],[\"Bakersfield, CA\"],[\"Bakersfield, CA\"],[\"Bakersfield, CA\"],[\"Bakersfield, CA\"],[\"Bakersfield, CA\"],[\"Chico, CA\"],[\"Chico, CA\"],[\"Chico, CA\"],[\"Chico, CA\"],[\"Chico, CA\"],[\"Chico, CA\"],[\"Chico, CA\"],[\"Chico, CA\"],[\"Chico, CA\"],[\"Chico, CA\"],[\"Chico, CA\"],[\"Chico, CA\"],[\"Chico, CA\"],[\"Chico, CA\"],[\"Chico, CA\"],[\"Chico, CA\"],[\"Chico, CA\"],[\"Chico, CA\"],[\"Chico, CA\"],[\"Chico, CA\"],[\"Chico, CA\"],[\"Chico, CA\"],[\"Chico, CA\"],[\"Chico, CA\"],[\"Chico, CA\"],[\"Chico, CA\"],[\"Chico, CA\"],[\"Chico, CA\"],[\"Chico, CA\"],[\"Chico, CA\"],[\"Chico, CA\"],[\"Chico, CA\"],[\"Chico, CA\"],[\"Chico, CA\"],[\"Chico, CA\"],[\"Chico, CA\"],[\"Chico, CA\"],[\"Chico, CA\"],[\"Chico, CA\"],[\"Chico, CA\"],[\"Chico, CA\"],[\"Chico, CA\"],[\"Chico, CA\"],[\"Chico, CA\"],[\"Chico, CA\"],[\"Chico, CA\"],[\"Chico, CA\"],[\"Chico, CA\"],[\"Chico, CA\"],[\"Chico, CA\"],[\"Chico, CA\"],[\"Chico, CA\"],[\"Chico, CA\"],[\"Chico, CA\"],[\"Chico, CA\"],[\"Chico, CA\"],[\"Chico, CA\"],[\"Chico, CA\"],[\"Chico, CA\"],[\"Chico, CA\"],[\"Chico, CA\"],[\"Chico, CA\"],[\"Chico, CA\"],[\"Chico, CA\"],[\"Chico, CA\"],[\"Chico, CA\"],[\"Chico, CA\"],[\"Chico, CA\"],[\"Chico, CA\"],[\"Chico, CA\"],[\"Chico, CA\"],[\"Chico, CA\"],[\"Chico, CA\"],[\"Chico, CA\"],[\"Chico, CA\"],[\"Chico, CA\"],[\"Oxnard, CA\"],[\"Oxnard, CA\"],[\"Oxnard, CA\"],[\"Oxnard, CA\"],[\"Oxnard, CA\"],[\"Oxnard, CA\"],[\"Oxnard, CA\"],[\"Oxnard, CA\"],[\"Oxnard, CA\"],[\"Oxnard, CA\"],[\"Oxnard, CA\"],[\"Oxnard, CA\"],[\"Oxnard, CA\"],[\"Oxnard, CA\"],[\"Oxnard, CA\"],[\"Oxnard, CA\"],[\"Oxnard, CA\"],[\"Oxnard, CA\"],[\"Oxnard, CA\"],[\"Oxnard, CA\"],[\"Oxnard, CA\"],[\"Oxnard, CA\"],[\"Oxnard, CA\"],[\"Oxnard, CA\"],[\"Oxnard, CA\"],[\"Oxnard, CA\"],[\"Oxnard, CA\"],[\"Oxnard, CA\"],[\"Oxnard, CA\"],[\"Oxnard, CA\"],[\"Oxnard, CA\"],[\"Oxnard, CA\"],[\"Oxnard, CA\"],[\"Oxnard, CA\"],[\"Oxnard, CA\"],[\"Oxnard, CA\"],[\"Oxnard, CA\"],[\"Oxnard, CA\"],[\"Oxnard, CA\"],[\"Oxnard, CA\"],[\"Oxnard, CA\"],[\"Oxnard, CA\"],[\"Oxnard, CA\"],[\"Oxnard, CA\"],[\"Oxnard, CA\"],[\"Oxnard, CA\"],[\"Oxnard, CA\"],[\"Oxnard, CA\"],[\"Oxnard, CA\"],[\"Oxnard, CA\"],[\"Oxnard, CA\"],[\"Oxnard, CA\"],[\"Oxnard, CA\"],[\"Oxnard, CA\"],[\"Oxnard, CA\"],[\"Oxnard, CA\"],[\"Oxnard, CA\"],[\"Oxnard, CA\"],[\"Oxnard, CA\"],[\"Oxnard, CA\"],[\"Oxnard, CA\"],[\"Oxnard, CA\"],[\"Oxnard, CA\"],[\"Oxnard, CA\"],[\"Oxnard, CA\"],[\"Oxnard, CA\"],[\"Oxnard, CA\"],[\"Oxnard, CA\"],[\"Oxnard, CA\"],[\"Oxnard, CA\"],[\"Oxnard, CA\"],[\"Oxnard, CA\"],[\"Oxnard, CA\"],[\"Oxnard, CA\"],[\"Oxnard, CA\"],[\"Oxnard, CA\"],[\"Salinas, CA\"],[\"Salinas, CA\"],[\"Salinas, CA\"],[\"Salinas, CA\"],[\"Salinas, CA\"],[\"Salinas, CA\"],[\"Salinas, CA\"],[\"Salinas, CA\"],[\"Salinas, CA\"],[\"Salinas, CA\"],[\"Salinas, CA\"],[\"Salinas, CA\"],[\"Salinas, CA\"],[\"Salinas, CA\"],[\"Salinas, CA\"],[\"Salinas, CA\"],[\"Salinas, CA\"],[\"Salinas, CA\"],[\"Salinas, CA\"],[\"Salinas, CA\"],[\"Salinas, CA\"],[\"Salinas, CA\"],[\"Salinas, CA\"],[\"Salinas, CA\"],[\"Salinas, CA\"],[\"Salinas, CA\"],[\"Salinas, CA\"],[\"Salinas, CA\"],[\"Salinas, CA\"],[\"Salinas, CA\"],[\"Salinas, CA\"],[\"Salinas, CA\"],[\"Salinas, CA\"],[\"Salinas, CA\"],[\"Salinas, CA\"],[\"Salinas, CA\"],[\"Salinas, CA\"],[\"Salinas, CA\"],[\"Salinas, CA\"],[\"Salinas, CA\"],[\"Salinas, CA\"],[\"Salinas, CA\"],[\"Salinas, CA\"],[\"Salinas, CA\"],[\"Salinas, CA\"],[\"Salinas, CA\"],[\"Salinas, CA\"],[\"Salinas, CA\"],[\"Salinas, CA\"],[\"Salinas, CA\"],[\"Salinas, CA\"],[\"Salinas, CA\"],[\"Salinas, CA\"],[\"Salinas, CA\"],[\"Salinas, CA\"],[\"Salinas, CA\"],[\"Salinas, CA\"],[\"Salinas, CA\"],[\"Salinas, CA\"],[\"Salinas, CA\"],[\"Salinas, CA\"],[\"Salinas, CA\"],[\"Salinas, CA\"],[\"Salinas, CA\"],[\"Salinas, CA\"],[\"Salinas, CA\"],[\"Salinas, CA\"],[\"Salinas, CA\"],[\"Salinas, CA\"],[\"Salinas, CA\"],[\"Salinas, CA\"],[\"Salinas, CA\"],[\"Salinas, CA\"],[\"Salinas, CA\"],[\"Salinas, CA\"],[\"Salinas, CA\"],[\"San Diego, CA\"],[\"San Diego, CA\"],[\"San Diego, CA\"],[\"San Diego, CA\"],[\"San Diego, CA\"],[\"San Diego, CA\"],[\"San Diego, CA\"],[\"San Diego, CA\"],[\"San Diego, CA\"],[\"San Diego, CA\"],[\"San Diego, CA\"],[\"San Diego, CA\"],[\"San Diego, CA\"],[\"San Diego, CA\"],[\"San Diego, CA\"],[\"San Diego, CA\"],[\"San Diego, CA\"],[\"San Diego, CA\"],[\"San Diego, CA\"],[\"San Diego, CA\"],[\"San Diego, CA\"],[\"San Diego, CA\"],[\"San Diego, CA\"],[\"San Diego, CA\"],[\"San Diego, CA\"],[\"San Diego, CA\"],[\"San Diego, CA\"],[\"San Diego, CA\"],[\"San Diego, CA\"],[\"San Diego, CA\"],[\"San Diego, CA\"],[\"San Diego, CA\"],[\"San Diego, CA\"],[\"San Diego, CA\"],[\"San Diego, CA\"],[\"San Diego, CA\"],[\"San Diego, CA\"],[\"San Diego, CA\"],[\"San Diego, CA\"],[\"San Diego, CA\"],[\"San Diego, CA\"],[\"San Diego, CA\"],[\"San Diego, CA\"],[\"San Diego, CA\"],[\"San Diego, CA\"],[\"San Diego, CA\"],[\"San Diego, CA\"],[\"San Diego, CA\"],[\"San Diego, CA\"],[\"San Diego, CA\"],[\"San Diego, CA\"],[\"San Diego, CA\"],[\"San Diego, CA\"],[\"San Diego, CA\"],[\"San Diego, CA\"],[\"San Diego, CA\"],[\"San Diego, CA\"],[\"San Diego, CA\"],[\"San Diego, CA\"],[\"San Diego, CA\"],[\"San Diego, CA\"],[\"San Diego, CA\"],[\"San Diego, CA\"],[\"San Diego, CA\"],[\"San Diego, CA\"],[\"San Diego, CA\"],[\"San Diego, CA\"],[\"San Diego, CA\"],[\"San Diego, CA\"],[\"San Diego, CA\"],[\"San Diego, CA\"],[\"San Diego, CA\"],[\"San Diego, CA\"],[\"San Diego, CA\"],[\"San Diego, CA\"],[\"San Diego, CA\"],[\"San Francisco, CA\"],[\"San Francisco, CA\"],[\"San Francisco, CA\"],[\"San Francisco, CA\"],[\"San Francisco, CA\"],[\"San Francisco, CA\"],[\"San Francisco, CA\"],[\"San Francisco, CA\"],[\"San Francisco, CA\"],[\"San Francisco, CA\"],[\"San Francisco, CA\"],[\"San Francisco, CA\"],[\"San Francisco, CA\"],[\"San Francisco, CA\"],[\"San Francisco, CA\"],[\"San Francisco, CA\"],[\"San Francisco, CA\"],[\"San Francisco, CA\"],[\"San Francisco, CA\"],[\"San Francisco, CA\"],[\"San Francisco, CA\"],[\"San Francisco, CA\"],[\"San Francisco, CA\"],[\"San Francisco, CA\"],[\"San Francisco, CA\"],[\"San Francisco, CA\"],[\"San Francisco, CA\"],[\"San Francisco, CA\"],[\"San Francisco, CA\"],[\"San Francisco, CA\"],[\"San Francisco, CA\"],[\"San Francisco, CA\"],[\"San Francisco, CA\"],[\"San Francisco, CA\"],[\"San Francisco, CA\"],[\"San Francisco, CA\"],[\"San Francisco, CA\"],[\"San Francisco, CA\"],[\"San Francisco, CA\"],[\"San Francisco, CA\"],[\"San Francisco, CA\"],[\"San Francisco, CA\"],[\"San Francisco, CA\"],[\"San Francisco, CA\"],[\"San Francisco, CA\"],[\"San Francisco, CA\"],[\"San Francisco, CA\"],[\"San Francisco, CA\"],[\"San Francisco, CA\"],[\"San Francisco, CA\"],[\"San Francisco, CA\"],[\"San Francisco, CA\"],[\"San Francisco, CA\"],[\"San Francisco, CA\"],[\"San Francisco, CA\"],[\"San Francisco, CA\"],[\"San Francisco, CA\"],[\"San Francisco, CA\"],[\"San Francisco, CA\"],[\"San Francisco, CA\"],[\"San Francisco, CA\"],[\"San Francisco, CA\"],[\"San Francisco, CA\"],[\"San Francisco, CA\"],[\"San Francisco, CA\"],[\"San Francisco, CA\"],[\"San Francisco, CA\"],[\"San Francisco, CA\"],[\"San Francisco, CA\"],[\"San Francisco, CA\"],[\"San Francisco, CA\"],[\"San Francisco, CA\"],[\"San Francisco, CA\"],[\"San Francisco, CA\"],[\"San Francisco, CA\"],[\"San Francisco, CA\"],[\"Santa Rosa, CA\"],[\"Santa Rosa, CA\"],[\"Santa Rosa, CA\"],[\"Santa Rosa, CA\"],[\"Santa Rosa, CA\"],[\"Santa Rosa, CA\"],[\"Santa Rosa, CA\"],[\"Santa Rosa, CA\"],[\"Santa Rosa, CA\"],[\"Santa Rosa, CA\"],[\"Santa Rosa, CA\"],[\"Santa Rosa, CA\"],[\"Santa Rosa, CA\"],[\"Santa Rosa, CA\"],[\"Santa Rosa, CA\"],[\"Santa Rosa, CA\"],[\"Santa Rosa, CA\"],[\"Santa Rosa, CA\"],[\"Santa Rosa, CA\"],[\"Santa Rosa, CA\"],[\"Santa Rosa, CA\"],[\"Santa Rosa, CA\"],[\"Santa Rosa, CA\"],[\"Santa Rosa, CA\"],[\"Santa Rosa, CA\"],[\"Santa Rosa, CA\"],[\"Santa Rosa, CA\"],[\"Santa Rosa, CA\"],[\"Santa Rosa, CA\"],[\"Santa Rosa, CA\"],[\"Santa Rosa, CA\"],[\"Santa Rosa, CA\"],[\"Santa Rosa, CA\"],[\"Santa Rosa, CA\"],[\"Santa Rosa, CA\"],[\"Santa Rosa, CA\"],[\"Santa Rosa, CA\"],[\"Santa Rosa, CA\"],[\"Santa Rosa, CA\"],[\"Santa Rosa, CA\"],[\"Santa Rosa, CA\"],[\"Santa Rosa, CA\"],[\"Santa Rosa, CA\"],[\"Santa Rosa, CA\"],[\"Santa Rosa, CA\"],[\"Santa Rosa, CA\"],[\"Santa Rosa, CA\"],[\"Santa Rosa, CA\"],[\"Santa Rosa, CA\"],[\"Santa Rosa, CA\"],[\"Santa Rosa, CA\"],[\"Santa Rosa, CA\"],[\"Santa Rosa, CA\"],[\"Santa Rosa, CA\"],[\"Santa Rosa, CA\"],[\"Santa Rosa, CA\"],[\"Santa Rosa, CA\"],[\"Santa Rosa, CA\"],[\"Santa Rosa, CA\"],[\"Santa Rosa, CA\"],[\"Santa Rosa, CA\"],[\"Santa Rosa, CA\"],[\"Santa Rosa, CA\"],[\"Santa Rosa, CA\"],[\"Santa Rosa, CA\"],[\"Santa Rosa, CA\"],[\"Santa Rosa, CA\"],[\"Santa Rosa, CA\"],[\"Santa Rosa, CA\"],[\"Santa Rosa, CA\"],[\"Santa Rosa, CA\"],[\"Santa Rosa, CA\"],[\"Santa Rosa, CA\"],[\"Santa Rosa, CA\"],[\"Santa Rosa, CA\"],[\"Santa Rosa, CA\"],[\"Truckee, CA\"],[\"Truckee, CA\"],[\"Truckee, CA\"],[\"Truckee, CA\"],[\"Truckee, CA\"],[\"Truckee, CA\"],[\"Truckee, CA\"],[\"Truckee, CA\"],[\"Truckee, CA\"],[\"Truckee, CA\"],[\"Truckee, CA\"],[\"Truckee, CA\"],[\"Truckee, CA\"],[\"Truckee, CA\"],[\"Truckee, CA\"],[\"Truckee, CA\"],[\"Truckee, CA\"],[\"Truckee, CA\"],[\"Truckee, CA\"],[\"Truckee, CA\"],[\"Truckee, CA\"],[\"Truckee, CA\"],[\"Truckee, CA\"],[\"Truckee, CA\"],[\"Truckee, CA\"],[\"Truckee, CA\"],[\"Truckee, CA\"],[\"Truckee, CA\"],[\"Truckee, CA\"],[\"Truckee, CA\"],[\"Truckee, CA\"],[\"Truckee, CA\"],[\"Truckee, CA\"],[\"Truckee, CA\"],[\"Truckee, CA\"],[\"Truckee, CA\"],[\"Truckee, CA\"],[\"Truckee, CA\"],[\"Truckee, CA\"],[\"Truckee, CA\"],[\"Truckee, CA\"],[\"Truckee, CA\"],[\"Truckee, CA\"],[\"Truckee, CA\"],[\"Truckee, CA\"],[\"Truckee, CA\"],[\"Truckee, CA\"],[\"Truckee, CA\"],[\"Truckee, CA\"],[\"Truckee, CA\"],[\"Truckee, CA\"],[\"Truckee, CA\"],[\"Truckee, CA\"],[\"Truckee, CA\"],[\"Truckee, CA\"],[\"Truckee, CA\"],[\"Truckee, CA\"],[\"Truckee, CA\"],[\"Truckee, CA\"],[\"Truckee, CA\"],[\"Truckee, CA\"],[\"Truckee, CA\"],[\"Truckee, CA\"],[\"Truckee, CA\"],[\"Truckee, CA\"],[\"Truckee, CA\"],[\"Truckee, CA\"],[\"Truckee, CA\"],[\"Truckee, CA\"],[\"Truckee, CA\"],[\"Truckee, CA\"],[\"Truckee, CA\"],[\"Truckee, CA\"],[\"Truckee, CA\"],[\"Truckee, CA\"],[\"Truckee, CA\"],[\"Visalia, CA\"],[\"Visalia, CA\"],[\"Visalia, CA\"],[\"Visalia, CA\"],[\"Visalia, CA\"],[\"Visalia, CA\"],[\"Visalia, CA\"],[\"Visalia, CA\"],[\"Visalia, CA\"],[\"Visalia, CA\"],[\"Visalia, CA\"],[\"Visalia, CA\"],[\"Visalia, CA\"],[\"Visalia, CA\"],[\"Visalia, CA\"],[\"Visalia, CA\"],[\"Visalia, CA\"],[\"Visalia, CA\"],[\"Visalia, CA\"],[\"Visalia, CA\"],[\"Visalia, CA\"],[\"Visalia, CA\"],[\"Visalia, CA\"],[\"Visalia, CA\"],[\"Visalia, CA\"],[\"Visalia, CA\"],[\"Visalia, CA\"],[\"Visalia, CA\"],[\"Visalia, CA\"],[\"Visalia, CA\"],[\"Visalia, CA\"],[\"Visalia, CA\"],[\"Visalia, CA\"],[\"Visalia, CA\"],[\"Visalia, CA\"],[\"Visalia, CA\"],[\"Visalia, CA\"],[\"Visalia, CA\"],[\"Visalia, CA\"],[\"Visalia, CA\"],[\"Visalia, CA\"],[\"Visalia, CA\"],[\"Visalia, CA\"],[\"Visalia, CA\"],[\"Visalia, CA\"],[\"Visalia, CA\"],[\"Visalia, CA\"],[\"Visalia, CA\"],[\"Visalia, CA\"],[\"Visalia, CA\"],[\"Visalia, CA\"],[\"Visalia, CA\"],[\"Visalia, CA\"],[\"Visalia, CA\"],[\"Visalia, CA\"],[\"Visalia, CA\"],[\"Visalia, CA\"],[\"Visalia, CA\"],[\"Visalia, CA\"],[\"Visalia, CA\"],[\"Visalia, CA\"],[\"Visalia, CA\"],[\"Visalia, CA\"],[\"Visalia, CA\"],[\"Visalia, CA\"],[\"Visalia, CA\"],[\"Visalia, CA\"],[\"Visalia, CA\"],[\"Visalia, CA\"],[\"Visalia, CA\"],[\"Visalia, CA\"],[\"Visalia, CA\"],[\"Visalia, CA\"],[\"Visalia, CA\"],[\"Visalia, CA\"],[\"Visalia, CA\"],[\"Los Angeles, CA\"],[\"Los Angeles, CA\"],[\"Los Angeles, CA\"],[\"Los Angeles, CA\"],[\"Los Angeles, CA\"],[\"Los Angeles, CA\"],[\"Los Angeles, CA\"],[\"Los Angeles, CA\"],[\"Los Angeles, CA\"],[\"Los Angeles, CA\"],[\"Los Angeles, CA\"],[\"Los Angeles, CA\"],[\"Los Angeles, CA\"],[\"Los Angeles, CA\"],[\"Los Angeles, CA\"],[\"Los Angeles, CA\"],[\"Los Angeles, CA\"],[\"Los Angeles, CA\"],[\"Los Angeles, CA\"],[\"Los Angeles, CA\"],[\"Los Angeles, CA\"],[\"Los Angeles, CA\"],[\"Los Angeles, CA\"],[\"Los Angeles, CA\"],[\"Los Angeles, CA\"],[\"Los Angeles, CA\"],[\"Los Angeles, CA\"],[\"Los Angeles, CA\"],[\"Los Angeles, CA\"],[\"Los Angeles, CA\"],[\"Los Angeles, CA\"],[\"Los Angeles, CA\"],[\"Los Angeles, CA\"],[\"Los Angeles, CA\"],[\"Los Angeles, CA\"],[\"Los Angeles, CA\"],[\"Los Angeles, CA\"],[\"Los Angeles, CA\"],[\"Los Angeles, CA\"],[\"Los Angeles, CA\"],[\"Los Angeles, CA\"],[\"Los Angeles, CA\"],[\"Los Angeles, CA\"],[\"Los Angeles, CA\"],[\"Los Angeles, CA\"],[\"Los Angeles, CA\"],[\"Los Angeles, CA\"],[\"Los Angeles, CA\"],[\"Los Angeles, CA\"],[\"Los Angeles, CA\"],[\"Los Angeles, CA\"],[\"Los Angeles, CA\"],[\"Los Angeles, CA\"],[\"Los Angeles, CA\"],[\"Los Angeles, CA\"],[\"Los Angeles, CA\"],[\"Los Angeles, CA\"],[\"Los Angeles, CA\"],[\"Los Angeles, CA\"],[\"Los Angeles, CA\"],[\"Los Angeles, CA\"],[\"Los Angeles, CA\"],[\"Los Angeles, CA\"],[\"Los Angeles, CA\"],[\"Los Angeles, CA\"],[\"Los Angeles, CA\"],[\"Los Angeles, CA\"],[\"Los Angeles, CA\"],[\"Los Angeles, CA\"],[\"Los Angeles, CA\"],[\"Los Angeles, CA\"],[\"Los Angeles, CA\"],[\"Los Angeles, CA\"],[\"Los Angeles, CA\"],[\"Los Angeles, CA\"],[\"Los Angeles, CA\"],[\"Sonora, CA\"],[\"Sonora, CA\"],[\"Sonora, CA\"],[\"Sonora, CA\"],[\"Sonora, CA\"],[\"Sonora, CA\"],[\"Sonora, CA\"],[\"Sonora, CA\"],[\"Sonora, CA\"],[\"Sonora, CA\"],[\"Sonora, CA\"],[\"Sonora, CA\"],[\"Sonora, CA\"],[\"Sonora, CA\"],[\"Sonora, CA\"],[\"Sonora, CA\"],[\"Sonora, CA\"],[\"Sonora, CA\"],[\"Sonora, CA\"],[\"Sonora, CA\"],[\"Sonora, CA\"],[\"Sonora, CA\"],[\"Sonora, CA\"],[\"Sonora, CA\"],[\"Sonora, CA\"],[\"Sonora, CA\"],[\"Sonora, CA\"],[\"Sonora, CA\"],[\"Sonora, CA\"],[\"Sonora, CA\"],[\"Sonora, CA\"],[\"Sonora, CA\"],[\"Sonora, CA\"],[\"Sonora, CA\"],[\"Sonora, CA\"],[\"Sonora, CA\"],[\"Sonora, CA\"],[\"Sonora, CA\"],[\"Sonora, CA\"],[\"Sonora, CA\"],[\"Sonora, CA\"],[\"Sonora, CA\"],[\"Sonora, CA\"],[\"Sonora, CA\"],[\"Sonora, CA\"],[\"Sonora, CA\"],[\"Sonora, CA\"],[\"Sonora, CA\"],[\"Sonora, CA\"],[\"Sonora, CA\"],[\"Sonora, CA\"],[\"Sonora, CA\"],[\"Sonora, CA\"],[\"Sonora, CA\"],[\"Sonora, CA\"],[\"Sonora, CA\"],[\"Sonora, CA\"],[\"Sonora, CA\"],[\"Sonora, CA\"],[\"Sonora, CA\"],[\"Sonora, CA\"],[\"Sonora, CA\"],[\"Sonora, CA\"],[\"Sonora, CA\"],[\"Sonora, CA\"],[\"Sonora, CA\"],[\"Sonora, CA\"],[\"Sonora, CA\"],[\"Sonora, CA\"],[\"Sonora, CA\"],[\"Sonora, CA\"],[\"Sonora, CA\"],[\"Sonora, CA\"],[\"Sonora, CA\"],[\"Sonora, CA\"],[\"Sonora, CA\"]],\"hovertemplate\":\"Date=%{x}<br>HomeValue=%{y}<br>Location=%{customdata[0]}<extra></extra>\",\"legendgroup\":\"\",\"marker\":{\"color\":\"#636efa\",\"symbol\":\"circle\"},\"mode\":\"markers\",\"name\":\"\",\"orientation\":\"v\",\"showlegend\":false,\"x\":[\"2018-02-01T00:00:00\",\"2018-03-01T00:00:00\",\"2018-04-01T00:00:00\",\"2018-05-01T00:00:00\",\"2018-06-01T00:00:00\",\"2018-07-01T00:00:00\",\"2018-08-01T00:00:00\",\"2018-09-01T00:00:00\",\"2018-10-01T00:00:00\",\"2018-11-01T00:00:00\",\"2018-12-01T00:00:00\",\"2019-01-01T00:00:00\",\"2019-02-01T00:00:00\",\"2019-03-01T00:00:00\",\"2019-04-01T00:00:00\",\"2019-05-01T00:00:00\",\"2019-06-01T00:00:00\",\"2019-07-01T00:00:00\",\"2019-08-01T00:00:00\",\"2019-09-01T00:00:00\",\"2019-10-01T00:00:00\",\"2019-11-01T00:00:00\",\"2019-12-01T00:00:00\",\"2020-01-01T00:00:00\",\"2020-02-01T00:00:00\",\"2020-03-01T00:00:00\",\"2020-04-01T00:00:00\",\"2020-05-01T00:00:00\",\"2020-06-01T00:00:00\",\"2020-07-01T00:00:00\",\"2020-08-01T00:00:00\",\"2020-09-01T00:00:00\",\"2020-10-01T00:00:00\",\"2020-11-01T00:00:00\",\"2020-12-01T00:00:00\",\"2021-01-01T00:00:00\",\"2021-02-01T00:00:00\",\"2021-03-01T00:00:00\",\"2021-04-01T00:00:00\",\"2021-05-01T00:00:00\",\"2021-06-01T00:00:00\",\"2021-07-01T00:00:00\",\"2021-08-01T00:00:00\",\"2021-09-01T00:00:00\",\"2021-10-01T00:00:00\",\"2021-11-01T00:00:00\",\"2021-12-01T00:00:00\",\"2022-01-01T00:00:00\",\"2022-02-01T00:00:00\",\"2022-03-01T00:00:00\",\"2022-04-01T00:00:00\",\"2022-05-01T00:00:00\",\"2022-06-01T00:00:00\",\"2022-07-01T00:00:00\",\"2022-08-01T00:00:00\",\"2022-09-01T00:00:00\",\"2022-10-01T00:00:00\",\"2022-11-01T00:00:00\",\"2022-12-01T00:00:00\",\"2023-01-01T00:00:00\",\"2023-02-01T00:00:00\",\"2023-03-01T00:00:00\",\"2023-04-01T00:00:00\",\"2023-05-01T00:00:00\",\"2023-06-01T00:00:00\",\"2023-07-01T00:00:00\",\"2023-08-01T00:00:00\",\"2023-09-01T00:00:00\",\"2023-10-01T00:00:00\",\"2023-11-01T00:00:00\",\"2023-12-01T00:00:00\",\"2024-01-01T00:00:00\",\"2024-02-01T00:00:00\",\"2024-03-01T00:00:00\",\"2024-04-01T00:00:00\",\"2024-05-01T00:00:00\",\"2018-02-01T00:00:00\",\"2018-03-01T00:00:00\",\"2018-04-01T00:00:00\",\"2018-05-01T00:00:00\",\"2018-06-01T00:00:00\",\"2018-07-01T00:00:00\",\"2018-08-01T00:00:00\",\"2018-09-01T00:00:00\",\"2018-10-01T00:00:00\",\"2018-11-01T00:00:00\",\"2018-12-01T00:00:00\",\"2019-01-01T00:00:00\",\"2019-02-01T00:00:00\",\"2019-03-01T00:00:00\",\"2019-04-01T00:00:00\",\"2019-05-01T00:00:00\",\"2019-06-01T00:00:00\",\"2019-07-01T00:00:00\",\"2019-08-01T00:00:00\",\"2019-09-01T00:00:00\",\"2019-10-01T00:00:00\",\"2019-11-01T00:00:00\",\"2019-12-01T00:00:00\",\"2020-01-01T00:00:00\",\"2020-02-01T00:00:00\",\"2020-03-01T00:00:00\",\"2020-04-01T00:00:00\",\"2020-05-01T00:00:00\",\"2020-06-01T00:00:00\",\"2020-07-01T00:00:00\",\"2020-08-01T00:00:00\",\"2020-09-01T00:00:00\",\"2020-10-01T00:00:00\",\"2020-11-01T00:00:00\",\"2020-12-01T00:00:00\",\"2021-01-01T00:00:00\",\"2021-02-01T00:00:00\",\"2021-03-01T00:00:00\",\"2021-04-01T00:00:00\",\"2021-05-01T00:00:00\",\"2021-06-01T00:00:00\",\"2021-07-01T00:00:00\",\"2021-08-01T00:00:00\",\"2021-09-01T00:00:00\",\"2021-10-01T00:00:00\",\"2021-11-01T00:00:00\",\"2021-12-01T00:00:00\",\"2022-01-01T00:00:00\",\"2022-02-01T00:00:00\",\"2022-03-01T00:00:00\",\"2022-04-01T00:00:00\",\"2022-05-01T00:00:00\",\"2022-06-01T00:00:00\",\"2022-07-01T00:00:00\",\"2022-08-01T00:00:00\",\"2022-09-01T00:00:00\",\"2022-10-01T00:00:00\",\"2022-11-01T00:00:00\",\"2022-12-01T00:00:00\",\"2023-01-01T00:00:00\",\"2023-02-01T00:00:00\",\"2023-03-01T00:00:00\",\"2023-04-01T00:00:00\",\"2023-05-01T00:00:00\",\"2023-06-01T00:00:00\",\"2023-07-01T00:00:00\",\"2023-08-01T00:00:00\",\"2023-09-01T00:00:00\",\"2023-10-01T00:00:00\",\"2023-11-01T00:00:00\",\"2023-12-01T00:00:00\",\"2024-01-01T00:00:00\",\"2024-02-01T00:00:00\",\"2024-03-01T00:00:00\",\"2024-04-01T00:00:00\",\"2024-05-01T00:00:00\",\"2018-02-01T00:00:00\",\"2018-03-01T00:00:00\",\"2018-04-01T00:00:00\",\"2018-05-01T00:00:00\",\"2018-06-01T00:00:00\",\"2018-07-01T00:00:00\",\"2018-08-01T00:00:00\",\"2018-09-01T00:00:00\",\"2018-10-01T00:00:00\",\"2018-11-01T00:00:00\",\"2018-12-01T00:00:00\",\"2019-01-01T00:00:00\",\"2019-02-01T00:00:00\",\"2019-03-01T00:00:00\",\"2019-04-01T00:00:00\",\"2019-05-01T00:00:00\",\"2019-06-01T00:00:00\",\"2019-07-01T00:00:00\",\"2019-08-01T00:00:00\",\"2019-09-01T00:00:00\",\"2019-10-01T00:00:00\",\"2019-11-01T00:00:00\",\"2019-12-01T00:00:00\",\"2020-01-01T00:00:00\",\"2020-02-01T00:00:00\",\"2020-03-01T00:00:00\",\"2020-04-01T00:00:00\",\"2020-05-01T00:00:00\",\"2020-06-01T00:00:00\",\"2020-07-01T00:00:00\",\"2020-08-01T00:00:00\",\"2020-09-01T00:00:00\",\"2020-10-01T00:00:00\",\"2020-11-01T00:00:00\",\"2020-12-01T00:00:00\",\"2021-01-01T00:00:00\",\"2021-02-01T00:00:00\",\"2021-03-01T00:00:00\",\"2021-04-01T00:00:00\",\"2021-05-01T00:00:00\",\"2021-06-01T00:00:00\",\"2021-07-01T00:00:00\",\"2021-08-01T00:00:00\",\"2021-09-01T00:00:00\",\"2021-10-01T00:00:00\",\"2021-11-01T00:00:00\",\"2021-12-01T00:00:00\",\"2022-01-01T00:00:00\",\"2022-02-01T00:00:00\",\"2022-03-01T00:00:00\",\"2022-04-01T00:00:00\",\"2022-05-01T00:00:00\",\"2022-06-01T00:00:00\",\"2022-07-01T00:00:00\",\"2022-08-01T00:00:00\",\"2022-09-01T00:00:00\",\"2022-10-01T00:00:00\",\"2022-11-01T00:00:00\",\"2022-12-01T00:00:00\",\"2023-01-01T00:00:00\",\"2023-02-01T00:00:00\",\"2023-03-01T00:00:00\",\"2023-04-01T00:00:00\",\"2023-05-01T00:00:00\",\"2023-06-01T00:00:00\",\"2023-07-01T00:00:00\",\"2023-08-01T00:00:00\",\"2023-09-01T00:00:00\",\"2023-10-01T00:00:00\",\"2023-11-01T00:00:00\",\"2023-12-01T00:00:00\",\"2024-01-01T00:00:00\",\"2024-02-01T00:00:00\",\"2024-03-01T00:00:00\",\"2024-04-01T00:00:00\",\"2024-05-01T00:00:00\",\"2018-02-01T00:00:00\",\"2018-03-01T00:00:00\",\"2018-04-01T00:00:00\",\"2018-05-01T00:00:00\",\"2018-06-01T00:00:00\",\"2018-07-01T00:00:00\",\"2018-08-01T00:00:00\",\"2018-09-01T00:00:00\",\"2018-10-01T00:00:00\",\"2018-11-01T00:00:00\",\"2018-12-01T00:00:00\",\"2019-01-01T00:00:00\",\"2019-02-01T00:00:00\",\"2019-03-01T00:00:00\",\"2019-04-01T00:00:00\",\"2019-05-01T00:00:00\",\"2019-06-01T00:00:00\",\"2019-07-01T00:00:00\",\"2019-08-01T00:00:00\",\"2019-09-01T00:00:00\",\"2019-10-01T00:00:00\",\"2019-11-01T00:00:00\",\"2019-12-01T00:00:00\",\"2020-01-01T00:00:00\",\"2020-02-01T00:00:00\",\"2020-03-01T00:00:00\",\"2020-04-01T00:00:00\",\"2020-05-01T00:00:00\",\"2020-06-01T00:00:00\",\"2020-07-01T00:00:00\",\"2020-08-01T00:00:00\",\"2020-09-01T00:00:00\",\"2020-10-01T00:00:00\",\"2020-11-01T00:00:00\",\"2020-12-01T00:00:00\",\"2021-01-01T00:00:00\",\"2021-02-01T00:00:00\",\"2021-03-01T00:00:00\",\"2021-04-01T00:00:00\",\"2021-05-01T00:00:00\",\"2021-06-01T00:00:00\",\"2021-07-01T00:00:00\",\"2021-08-01T00:00:00\",\"2021-09-01T00:00:00\",\"2021-10-01T00:00:00\",\"2021-11-01T00:00:00\",\"2021-12-01T00:00:00\",\"2022-01-01T00:00:00\",\"2022-02-01T00:00:00\",\"2022-03-01T00:00:00\",\"2022-04-01T00:00:00\",\"2022-05-01T00:00:00\",\"2022-06-01T00:00:00\",\"2022-07-01T00:00:00\",\"2022-08-01T00:00:00\",\"2022-09-01T00:00:00\",\"2022-10-01T00:00:00\",\"2022-11-01T00:00:00\",\"2022-12-01T00:00:00\",\"2023-01-01T00:00:00\",\"2023-02-01T00:00:00\",\"2023-03-01T00:00:00\",\"2023-04-01T00:00:00\",\"2023-05-01T00:00:00\",\"2023-06-01T00:00:00\",\"2023-07-01T00:00:00\",\"2023-08-01T00:00:00\",\"2023-09-01T00:00:00\",\"2023-10-01T00:00:00\",\"2023-11-01T00:00:00\",\"2023-12-01T00:00:00\",\"2024-01-01T00:00:00\",\"2024-02-01T00:00:00\",\"2024-03-01T00:00:00\",\"2024-04-01T00:00:00\",\"2024-05-01T00:00:00\",\"2018-02-01T00:00:00\",\"2018-03-01T00:00:00\",\"2018-04-01T00:00:00\",\"2018-05-01T00:00:00\",\"2018-06-01T00:00:00\",\"2018-07-01T00:00:00\",\"2018-08-01T00:00:00\",\"2018-09-01T00:00:00\",\"2018-10-01T00:00:00\",\"2018-11-01T00:00:00\",\"2018-12-01T00:00:00\",\"2019-01-01T00:00:00\",\"2019-02-01T00:00:00\",\"2019-03-01T00:00:00\",\"2019-04-01T00:00:00\",\"2019-05-01T00:00:00\",\"2019-06-01T00:00:00\",\"2019-07-01T00:00:00\",\"2019-08-01T00:00:00\",\"2019-09-01T00:00:00\",\"2019-10-01T00:00:00\",\"2019-11-01T00:00:00\",\"2019-12-01T00:00:00\",\"2020-01-01T00:00:00\",\"2020-02-01T00:00:00\",\"2020-03-01T00:00:00\",\"2020-04-01T00:00:00\",\"2020-05-01T00:00:00\",\"2020-06-01T00:00:00\",\"2020-07-01T00:00:00\",\"2020-08-01T00:00:00\",\"2020-09-01T00:00:00\",\"2020-10-01T00:00:00\",\"2020-11-01T00:00:00\",\"2020-12-01T00:00:00\",\"2021-01-01T00:00:00\",\"2021-02-01T00:00:00\",\"2021-03-01T00:00:00\",\"2021-04-01T00:00:00\",\"2021-05-01T00:00:00\",\"2021-06-01T00:00:00\",\"2021-07-01T00:00:00\",\"2021-08-01T00:00:00\",\"2021-09-01T00:00:00\",\"2021-10-01T00:00:00\",\"2021-11-01T00:00:00\",\"2021-12-01T00:00:00\",\"2022-01-01T00:00:00\",\"2022-02-01T00:00:00\",\"2022-03-01T00:00:00\",\"2022-04-01T00:00:00\",\"2022-05-01T00:00:00\",\"2022-06-01T00:00:00\",\"2022-07-01T00:00:00\",\"2022-08-01T00:00:00\",\"2022-09-01T00:00:00\",\"2022-10-01T00:00:00\",\"2022-11-01T00:00:00\",\"2022-12-01T00:00:00\",\"2023-01-01T00:00:00\",\"2023-02-01T00:00:00\",\"2023-03-01T00:00:00\",\"2023-04-01T00:00:00\",\"2023-05-01T00:00:00\",\"2023-06-01T00:00:00\",\"2023-07-01T00:00:00\",\"2023-08-01T00:00:00\",\"2023-09-01T00:00:00\",\"2023-10-01T00:00:00\",\"2023-11-01T00:00:00\",\"2023-12-01T00:00:00\",\"2024-01-01T00:00:00\",\"2024-02-01T00:00:00\",\"2024-03-01T00:00:00\",\"2024-04-01T00:00:00\",\"2024-05-01T00:00:00\",\"2018-02-01T00:00:00\",\"2018-03-01T00:00:00\",\"2018-04-01T00:00:00\",\"2018-05-01T00:00:00\",\"2018-06-01T00:00:00\",\"2018-07-01T00:00:00\",\"2018-08-01T00:00:00\",\"2018-09-01T00:00:00\",\"2018-10-01T00:00:00\",\"2018-11-01T00:00:00\",\"2018-12-01T00:00:00\",\"2019-01-01T00:00:00\",\"2019-02-01T00:00:00\",\"2019-03-01T00:00:00\",\"2019-04-01T00:00:00\",\"2019-05-01T00:00:00\",\"2019-06-01T00:00:00\",\"2019-07-01T00:00:00\",\"2019-08-01T00:00:00\",\"2019-09-01T00:00:00\",\"2019-10-01T00:00:00\",\"2019-11-01T00:00:00\",\"2019-12-01T00:00:00\",\"2020-01-01T00:00:00\",\"2020-02-01T00:00:00\",\"2020-03-01T00:00:00\",\"2020-04-01T00:00:00\",\"2020-05-01T00:00:00\",\"2020-06-01T00:00:00\",\"2020-07-01T00:00:00\",\"2020-08-01T00:00:00\",\"2020-09-01T00:00:00\",\"2020-10-01T00:00:00\",\"2020-11-01T00:00:00\",\"2020-12-01T00:00:00\",\"2021-01-01T00:00:00\",\"2021-02-01T00:00:00\",\"2021-03-01T00:00:00\",\"2021-04-01T00:00:00\",\"2021-05-01T00:00:00\",\"2021-06-01T00:00:00\",\"2021-07-01T00:00:00\",\"2021-08-01T00:00:00\",\"2021-09-01T00:00:00\",\"2021-10-01T00:00:00\",\"2021-11-01T00:00:00\",\"2021-12-01T00:00:00\",\"2022-01-01T00:00:00\",\"2022-02-01T00:00:00\",\"2022-03-01T00:00:00\",\"2022-04-01T00:00:00\",\"2022-05-01T00:00:00\",\"2022-06-01T00:00:00\",\"2022-07-01T00:00:00\",\"2022-08-01T00:00:00\",\"2022-09-01T00:00:00\",\"2022-10-01T00:00:00\",\"2022-11-01T00:00:00\",\"2022-12-01T00:00:00\",\"2023-01-01T00:00:00\",\"2023-02-01T00:00:00\",\"2023-03-01T00:00:00\",\"2023-04-01T00:00:00\",\"2023-05-01T00:00:00\",\"2023-06-01T00:00:00\",\"2023-07-01T00:00:00\",\"2023-08-01T00:00:00\",\"2023-09-01T00:00:00\",\"2023-10-01T00:00:00\",\"2023-11-01T00:00:00\",\"2023-12-01T00:00:00\",\"2024-01-01T00:00:00\",\"2024-02-01T00:00:00\",\"2024-03-01T00:00:00\",\"2024-04-01T00:00:00\",\"2024-05-01T00:00:00\",\"2018-02-01T00:00:00\",\"2018-03-01T00:00:00\",\"2018-04-01T00:00:00\",\"2018-05-01T00:00:00\",\"2018-06-01T00:00:00\",\"2018-07-01T00:00:00\",\"2018-08-01T00:00:00\",\"2018-09-01T00:00:00\",\"2018-10-01T00:00:00\",\"2018-11-01T00:00:00\",\"2018-12-01T00:00:00\",\"2019-01-01T00:00:00\",\"2019-02-01T00:00:00\",\"2019-03-01T00:00:00\",\"2019-04-01T00:00:00\",\"2019-05-01T00:00:00\",\"2019-06-01T00:00:00\",\"2019-07-01T00:00:00\",\"2019-08-01T00:00:00\",\"2019-09-01T00:00:00\",\"2019-10-01T00:00:00\",\"2019-11-01T00:00:00\",\"2019-12-01T00:00:00\",\"2020-01-01T00:00:00\",\"2020-02-01T00:00:00\",\"2020-03-01T00:00:00\",\"2020-04-01T00:00:00\",\"2020-05-01T00:00:00\",\"2020-06-01T00:00:00\",\"2020-07-01T00:00:00\",\"2020-08-01T00:00:00\",\"2020-09-01T00:00:00\",\"2020-10-01T00:00:00\",\"2020-11-01T00:00:00\",\"2020-12-01T00:00:00\",\"2021-01-01T00:00:00\",\"2021-02-01T00:00:00\",\"2021-03-01T00:00:00\",\"2021-04-01T00:00:00\",\"2021-05-01T00:00:00\",\"2021-06-01T00:00:00\",\"2021-07-01T00:00:00\",\"2021-08-01T00:00:00\",\"2021-09-01T00:00:00\",\"2021-10-01T00:00:00\",\"2021-11-01T00:00:00\",\"2021-12-01T00:00:00\",\"2022-01-01T00:00:00\",\"2022-02-01T00:00:00\",\"2022-03-01T00:00:00\",\"2022-04-01T00:00:00\",\"2022-05-01T00:00:00\",\"2022-06-01T00:00:00\",\"2022-07-01T00:00:00\",\"2022-08-01T00:00:00\",\"2022-09-01T00:00:00\",\"2022-10-01T00:00:00\",\"2022-11-01T00:00:00\",\"2022-12-01T00:00:00\",\"2023-01-01T00:00:00\",\"2023-02-01T00:00:00\",\"2023-03-01T00:00:00\",\"2023-04-01T00:00:00\",\"2023-05-01T00:00:00\",\"2023-06-01T00:00:00\",\"2023-07-01T00:00:00\",\"2023-08-01T00:00:00\",\"2023-09-01T00:00:00\",\"2023-10-01T00:00:00\",\"2023-11-01T00:00:00\",\"2023-12-01T00:00:00\",\"2024-01-01T00:00:00\",\"2024-02-01T00:00:00\",\"2024-03-01T00:00:00\",\"2024-04-01T00:00:00\",\"2024-05-01T00:00:00\",\"2018-02-01T00:00:00\",\"2018-03-01T00:00:00\",\"2018-04-01T00:00:00\",\"2018-05-01T00:00:00\",\"2018-06-01T00:00:00\",\"2018-07-01T00:00:00\",\"2018-08-01T00:00:00\",\"2018-09-01T00:00:00\",\"2018-10-01T00:00:00\",\"2018-11-01T00:00:00\",\"2018-12-01T00:00:00\",\"2019-01-01T00:00:00\",\"2019-02-01T00:00:00\",\"2019-03-01T00:00:00\",\"2019-04-01T00:00:00\",\"2019-05-01T00:00:00\",\"2019-06-01T00:00:00\",\"2019-07-01T00:00:00\",\"2019-08-01T00:00:00\",\"2019-09-01T00:00:00\",\"2019-10-01T00:00:00\",\"2019-11-01T00:00:00\",\"2019-12-01T00:00:00\",\"2020-01-01T00:00:00\",\"2020-02-01T00:00:00\",\"2020-03-01T00:00:00\",\"2020-04-01T00:00:00\",\"2020-05-01T00:00:00\",\"2020-06-01T00:00:00\",\"2020-07-01T00:00:00\",\"2020-08-01T00:00:00\",\"2020-09-01T00:00:00\",\"2020-10-01T00:00:00\",\"2020-11-01T00:00:00\",\"2020-12-01T00:00:00\",\"2021-01-01T00:00:00\",\"2021-02-01T00:00:00\",\"2021-03-01T00:00:00\",\"2021-04-01T00:00:00\",\"2021-05-01T00:00:00\",\"2021-06-01T00:00:00\",\"2021-07-01T00:00:00\",\"2021-08-01T00:00:00\",\"2021-09-01T00:00:00\",\"2021-10-01T00:00:00\",\"2021-11-01T00:00:00\",\"2021-12-01T00:00:00\",\"2022-01-01T00:00:00\",\"2022-02-01T00:00:00\",\"2022-03-01T00:00:00\",\"2022-04-01T00:00:00\",\"2022-05-01T00:00:00\",\"2022-06-01T00:00:00\",\"2022-07-01T00:00:00\",\"2022-08-01T00:00:00\",\"2022-09-01T00:00:00\",\"2022-10-01T00:00:00\",\"2022-11-01T00:00:00\",\"2022-12-01T00:00:00\",\"2023-01-01T00:00:00\",\"2023-02-01T00:00:00\",\"2023-03-01T00:00:00\",\"2023-04-01T00:00:00\",\"2023-05-01T00:00:00\",\"2023-06-01T00:00:00\",\"2023-07-01T00:00:00\",\"2023-08-01T00:00:00\",\"2023-09-01T00:00:00\",\"2023-10-01T00:00:00\",\"2023-11-01T00:00:00\",\"2023-12-01T00:00:00\",\"2024-01-01T00:00:00\",\"2024-02-01T00:00:00\",\"2024-03-01T00:00:00\",\"2024-04-01T00:00:00\",\"2024-05-01T00:00:00\",\"2018-02-01T00:00:00\",\"2018-03-01T00:00:00\",\"2018-04-01T00:00:00\",\"2018-05-01T00:00:00\",\"2018-06-01T00:00:00\",\"2018-07-01T00:00:00\",\"2018-08-01T00:00:00\",\"2018-09-01T00:00:00\",\"2018-10-01T00:00:00\",\"2018-11-01T00:00:00\",\"2018-12-01T00:00:00\",\"2019-01-01T00:00:00\",\"2019-02-01T00:00:00\",\"2019-03-01T00:00:00\",\"2019-04-01T00:00:00\",\"2019-05-01T00:00:00\",\"2019-06-01T00:00:00\",\"2019-07-01T00:00:00\",\"2019-08-01T00:00:00\",\"2019-09-01T00:00:00\",\"2019-10-01T00:00:00\",\"2019-11-01T00:00:00\",\"2019-12-01T00:00:00\",\"2020-01-01T00:00:00\",\"2020-02-01T00:00:00\",\"2020-03-01T00:00:00\",\"2020-04-01T00:00:00\",\"2020-05-01T00:00:00\",\"2020-06-01T00:00:00\",\"2020-07-01T00:00:00\",\"2020-08-01T00:00:00\",\"2020-09-01T00:00:00\",\"2020-10-01T00:00:00\",\"2020-11-01T00:00:00\",\"2020-12-01T00:00:00\",\"2021-01-01T00:00:00\",\"2021-02-01T00:00:00\",\"2021-03-01T00:00:00\",\"2021-04-01T00:00:00\",\"2021-05-01T00:00:00\",\"2021-06-01T00:00:00\",\"2021-07-01T00:00:00\",\"2021-08-01T00:00:00\",\"2021-09-01T00:00:00\",\"2021-10-01T00:00:00\",\"2021-11-01T00:00:00\",\"2021-12-01T00:00:00\",\"2022-01-01T00:00:00\",\"2022-02-01T00:00:00\",\"2022-03-01T00:00:00\",\"2022-04-01T00:00:00\",\"2022-05-01T00:00:00\",\"2022-06-01T00:00:00\",\"2022-07-01T00:00:00\",\"2022-08-01T00:00:00\",\"2022-09-01T00:00:00\",\"2022-10-01T00:00:00\",\"2022-11-01T00:00:00\",\"2022-12-01T00:00:00\",\"2023-01-01T00:00:00\",\"2023-02-01T00:00:00\",\"2023-03-01T00:00:00\",\"2023-04-01T00:00:00\",\"2023-05-01T00:00:00\",\"2023-06-01T00:00:00\",\"2023-07-01T00:00:00\",\"2023-08-01T00:00:00\",\"2023-09-01T00:00:00\",\"2023-10-01T00:00:00\",\"2023-11-01T00:00:00\",\"2023-12-01T00:00:00\",\"2024-01-01T00:00:00\",\"2024-02-01T00:00:00\",\"2024-03-01T00:00:00\",\"2024-04-01T00:00:00\",\"2024-05-01T00:00:00\",\"2018-02-01T00:00:00\",\"2018-03-01T00:00:00\",\"2018-04-01T00:00:00\",\"2018-05-01T00:00:00\",\"2018-06-01T00:00:00\",\"2018-07-01T00:00:00\",\"2018-08-01T00:00:00\",\"2018-09-01T00:00:00\",\"2018-10-01T00:00:00\",\"2018-11-01T00:00:00\",\"2018-12-01T00:00:00\",\"2019-01-01T00:00:00\",\"2019-02-01T00:00:00\",\"2019-03-01T00:00:00\",\"2019-04-01T00:00:00\",\"2019-05-01T00:00:00\",\"2019-06-01T00:00:00\",\"2019-07-01T00:00:00\",\"2019-08-01T00:00:00\",\"2019-09-01T00:00:00\",\"2019-10-01T00:00:00\",\"2019-11-01T00:00:00\",\"2019-12-01T00:00:00\",\"2020-01-01T00:00:00\",\"2020-02-01T00:00:00\",\"2020-03-01T00:00:00\",\"2020-04-01T00:00:00\",\"2020-05-01T00:00:00\",\"2020-06-01T00:00:00\",\"2020-07-01T00:00:00\",\"2020-08-01T00:00:00\",\"2020-09-01T00:00:00\",\"2020-10-01T00:00:00\",\"2020-11-01T00:00:00\",\"2020-12-01T00:00:00\",\"2021-01-01T00:00:00\",\"2021-02-01T00:00:00\",\"2021-03-01T00:00:00\",\"2021-04-01T00:00:00\",\"2021-05-01T00:00:00\",\"2021-06-01T00:00:00\",\"2021-07-01T00:00:00\",\"2021-08-01T00:00:00\",\"2021-09-01T00:00:00\",\"2021-10-01T00:00:00\",\"2021-11-01T00:00:00\",\"2021-12-01T00:00:00\",\"2022-01-01T00:00:00\",\"2022-02-01T00:00:00\",\"2022-03-01T00:00:00\",\"2022-04-01T00:00:00\",\"2022-05-01T00:00:00\",\"2022-06-01T00:00:00\",\"2022-07-01T00:00:00\",\"2022-08-01T00:00:00\",\"2022-09-01T00:00:00\",\"2022-10-01T00:00:00\",\"2022-11-01T00:00:00\",\"2022-12-01T00:00:00\",\"2023-01-01T00:00:00\",\"2023-02-01T00:00:00\",\"2023-03-01T00:00:00\",\"2023-04-01T00:00:00\",\"2023-05-01T00:00:00\",\"2023-06-01T00:00:00\",\"2023-07-01T00:00:00\",\"2023-08-01T00:00:00\",\"2023-09-01T00:00:00\",\"2023-10-01T00:00:00\",\"2023-11-01T00:00:00\",\"2023-12-01T00:00:00\",\"2024-01-01T00:00:00\",\"2024-02-01T00:00:00\",\"2024-03-01T00:00:00\",\"2024-04-01T00:00:00\",\"2024-05-01T00:00:00\",\"2018-02-01T00:00:00\",\"2018-03-01T00:00:00\",\"2018-04-01T00:00:00\",\"2018-05-01T00:00:00\",\"2018-06-01T00:00:00\",\"2018-07-01T00:00:00\",\"2018-08-01T00:00:00\",\"2018-09-01T00:00:00\",\"2018-10-01T00:00:00\",\"2018-11-01T00:00:00\",\"2018-12-01T00:00:00\",\"2019-01-01T00:00:00\",\"2019-02-01T00:00:00\",\"2019-03-01T00:00:00\",\"2019-04-01T00:00:00\",\"2019-05-01T00:00:00\",\"2019-06-01T00:00:00\",\"2019-07-01T00:00:00\",\"2019-08-01T00:00:00\",\"2019-09-01T00:00:00\",\"2019-10-01T00:00:00\",\"2019-11-01T00:00:00\",\"2019-12-01T00:00:00\",\"2020-01-01T00:00:00\",\"2020-02-01T00:00:00\",\"2020-03-01T00:00:00\",\"2020-04-01T00:00:00\",\"2020-05-01T00:00:00\",\"2020-06-01T00:00:00\",\"2020-07-01T00:00:00\",\"2020-08-01T00:00:00\",\"2020-09-01T00:00:00\",\"2020-10-01T00:00:00\",\"2020-11-01T00:00:00\",\"2020-12-01T00:00:00\",\"2021-01-01T00:00:00\",\"2021-02-01T00:00:00\",\"2021-03-01T00:00:00\",\"2021-04-01T00:00:00\",\"2021-05-01T00:00:00\",\"2021-06-01T00:00:00\",\"2021-07-01T00:00:00\",\"2021-08-01T00:00:00\",\"2021-09-01T00:00:00\",\"2021-10-01T00:00:00\",\"2021-11-01T00:00:00\",\"2021-12-01T00:00:00\",\"2022-01-01T00:00:00\",\"2022-02-01T00:00:00\",\"2022-03-01T00:00:00\",\"2022-04-01T00:00:00\",\"2022-05-01T00:00:00\",\"2022-06-01T00:00:00\",\"2022-07-01T00:00:00\",\"2022-08-01T00:00:00\",\"2022-09-01T00:00:00\",\"2022-10-01T00:00:00\",\"2022-11-01T00:00:00\",\"2022-12-01T00:00:00\",\"2023-01-01T00:00:00\",\"2023-02-01T00:00:00\",\"2023-03-01T00:00:00\",\"2023-04-01T00:00:00\",\"2023-05-01T00:00:00\",\"2023-06-01T00:00:00\",\"2023-07-01T00:00:00\",\"2023-08-01T00:00:00\",\"2023-09-01T00:00:00\",\"2023-10-01T00:00:00\",\"2023-11-01T00:00:00\",\"2023-12-01T00:00:00\",\"2024-01-01T00:00:00\",\"2024-02-01T00:00:00\",\"2024-03-01T00:00:00\",\"2024-04-01T00:00:00\",\"2024-05-01T00:00:00\"],\"xaxis\":\"x\",\"y\":[212531.6669496079,213905.2607661849,214996.1092539536,216057.81420929937,217117.25612513215,218313.50475442884,219157.89924644024,219819.31739744404,220428.6809931004,221224.00514792383,222256.91327131752,223449.7423907416,224805.01380638892,226087.94185520287,227213.44876628875,228128.66327484883,229048.58729557612,229693.0006736364,230429.25960331075,230977.9415007032,231835.8695351122,232889.97612012652,234068.61782881303,235516.9057682204,236856.4984413764,238449.221248966,239777.0480995426,240522.8202518217,241241.4978737788,242431.85012739315,244486.59813266984,247207.5555629419,250304.43939849595,254069.28527016696,257920.5328585791,261755.1155339068,265426.63875816803,269270.0709197922,273379.2241231078,277985.8689333388,282924.4200537315,287707.27426237747,291811.4649833383,295053.9210229525,298102.69165446324,301413.2313848134,305069.3324035036,309313.0125874364,314209.51585311955,319949.12752566603,325981.7155536133,331413.0729704642,335820.97361697047,338325.0442636329,338808.3800511624,337575.1038710626,335982.6114621482,334374.5688095953,332814.2512146091,330653.4751837566,328905.28103864315,328181.5772645408,328871.70814275485,330717.13769673207,333282.45589452,336204.294731577,339011.06096275616,341029.9429175021,342336.7710082522,343390.67629175185,344530.53610880143,345869.1033936872,347344.168924798,349146.6499865324,351345.79866218084,353595.1080747117,296135.4189544011,298724.051779338,300495.5178709961,301790.67790591327,302763.6715014807,303632.94148480723,304623.7322268865,305479.7127028688,306093.5094550792,306371.3864696689,307447.0868045655,310553.04994134937,315950.2040869817,322493.7135851975,328860.36556454777,333758.98447490414,337452.36069791,339920.21853419306,341871.3854667737,343375.0788715744,344955.3676337665,346553.73725308327,347295.37402774964,347754.0115774961,347963.74944851774,348893.8329920637,349199.84809486405,347965.4319682647,346370.63504591206,346099.4610803008,348653.7747263945,353164.6192449879,358583.43574203114,364396.26871130615,370153.7475276613,375464.6388002781,380056.6100368921,383937.0685520947,387540.08530325576,391848.84236168535,396030.0152226653,399783.0831163207,402056.7707760301,403180.3352223212,404090.132983988,405810.2817460445,408563.6178172272,413084.01031954976,418317.2771086205,424460.19350766967,429934.9616124,434396.4927218606,436911.0682386295,436616.3657707349,433969.2211870696,430004.9578018352,426683.8462566596,423156.5616258546,419068.5462179195,413860.60355424485,409195.1888095485,405923.4090767941,405035.3122232584,405506.7579721781,406837.3587634605,407200.0838100527,407047.4044774079,405614.1590870111,403529.43847923697,401527.633774565,400414.3866128628,400177.337538414,400159.0878322602,400914.8170164519,401821.4186384883,402802.6354837127,603755.9444170798,606107.6159158674,607453.929140578,609161.0368975165,610663.9206562453,611079.6117115605,611214.5328668299,610966.7544064663,612526.6827974502,613637.7654622635,614448.2058989598,615054.9845979051,615903.401050641,617575.3489703013,618508.626508556,618899.4318375554,618358.8923776351,617804.2681264332,617164.3600327126,617033.4790129955,617727.4956959697,619248.179522578,621161.3797868338,623523.0294750963,626937.4342749139,631777.2623481379,635313.3928793807,636481.740403398,635202.52625169,635058.973740154,637937.3422432868,644931.7540806589,654272.0661011863,665550.1430821307,676693.4040101453,687109.0245976001,696854.2211691485,705876.6361002751,716010.1717684228,727535.9982278417,739973.8390212021,750610.1646434171,756427.7361798566,759095.3191888947,761188.2932729162,765359.5873746253,770933.7574540566,780843.9219247802,796361.3637826525,816721.3780399989,835622.1347325565,849152.4319539089,855856.8848141278,855311.8850150052,849097.4972952554,840396.4693082975,832593.7183326534,825723.3892738214,818790.1448670974,810836.9983669232,804899.8108982426,803178.1426823954,806266.939263478,811741.2115972089,818241.5532362126,825752.047471405,833913.0405712901,841403.4202612616,846884.7795582175,850297.7879923222,852251.3050339678,853519.831351561,855587.9212769642,859740.5147190812,866615.1943387464,873490.0722820539,544138.4652619179,546488.8290948421,548834.5165352562,551297.6186480791,553836.9414854603,555657.6878062336,557218.064237307,558979.4554078408,562416.6229485208,565269.5694443702,568026.7961289139,569744.848942334,571806.5840841475,574104.5831599334,576256.7412885214,577642.4896237896,578975.0552621622,579902.8209134418,581052.47827911,581877.7271054689,583397.6760908007,585391.6544766458,587956.4304410894,590279.2295995057,594010.9532052712,598290.6263125063,603414.0755106028,606188.6992600798,607774.9403563164,608872.6343419241,612888.2702970015,619930.4936746033,629273.8739736675,639684.4962389127,650771.5391334984,660859.887862966,671088.5660880613,680979.5401856875,693001.1586621985,706426.2446314171,719799.1028009444,730600.9396254538,737379.537952254,741572.5589589757,745947.5481582362,751522.526382676,757227.1044471534,766649.2007928472,780390.0971353427,798809.780545298,815031.9280141168,826154.4207783072,831467.1142890295,829844.7148451158,822622.4969048338,812574.6354118063,804816.6358633833,799117.8590016261,794547.310582409,788587.8033945869,784285.7750044664,783001.9844024334,785891.4797428992,791001.7612209177,796521.9690633045,803325.8451640792,810557.1134982296,817168.8319728241,822126.8300852397,825470.1335687279,827398.2046163165,827265.6380322207,826914.7551236387,829758.53370988,835351.3544600205,841606.0605092034,586462.8071586208,588610.3532010346,590435.0980015282,592740.4309999594,594557.697065563,596199.4178777543,597553.342620598,598818.5287467818,600110.4571925103,600751.1407421314,600541.9492736281,600086.2952170871,599867.723346807,600846.0986522124,602199.8396290437,602957.8376019747,603474.6954472711,603482.7355536954,604225.3024834609,604679.6819476985,605836.6509644223,607986.7470561177,611261.4038342861,615080.1537275491,619348.1227924732,624018.9186741642,628820.5905149471,631241.2136395004,631501.1662276773,631306.4844907615,633844.288623301,640413.893698732,649607.5398939485,661274.4102815688,673365.5862162138,685113.8373321391,696203.5118201781,707884.0249019642,721659.7353257373,737641.9996366575,753878.8369874465,766989.765201609,774158.9607431357,776878.7117423677,779274.4691681886,784549.7092405966,792972.8651956279,808323.1087199171,830505.6790093336,858408.6324524096,883858.3016557436,902567.0276485896,912821.8548327052,913153.0368693726,904947.7474401584,891490.618975476,879394.0821375349,870207.2668549317,863423.8632649517,856145.4979950059,850919.1283666358,849092.6047247296,852290.1370055042,859129.8475609632,868705.2268305864,880205.9167054129,892236.6559881266,903860.6989255002,913397.4410983352,919960.6128617655,923423.7237747991,925747.4073424104,930391.0911167932,938799.0306088962,949289.6564371582,958266.0324589834,915915.8345852384,925972.9551075645,934634.3785275088,943903.7061636196,951793.232969732,955832.8798241616,957624.4003699484,958600.7029336536,960909.3293303052,962057.5610501898,961150.513569299,958640.162971404,954611.8499135344,951176.1145242774,948790.3676525832,947313.918277272,947359.0962729892,948459.983776262,950904.7610012656,952791.5014595088,954178.795142574,956163.3532997835,958749.3695074412,962209.8193516104,966759.6220971816,972896.6919112745,978170.0150145562,977916.4400700736,973304.0609569618,969642.696692668,972323.5557912532,981406.2175224996,993419.7109261132,1007732.5433507035,1021884.4737987014,1035441.040387382,1048222.829099708,1062399.5491594912,1079726.8932435692,1099454.2981021672,1119337.4736608649,1135613.7705454412,1144073.6544853442,1146721.5879086948,1148587.9764647062,1154522.2328337298,1163584.450521683,1180635.6084267537,1206720.776395301,1239721.8275108354,1266709.5153191464,1281861.306884025,1282796.6560201007,1269702.3515910292,1245208.516700227,1216411.0503428355,1193047.9235916934,1176066.2674432404,1163317.8828443135,1148591.865996563,1136062.7572091937,1126944.0259233492,1125076.4213155005,1127332.8834782308,1132392.6045773197,1139479.5643317683,1147581.7976436054,1155319.1565831455,1160690.5676104191,1162183.7211332675,1160127.4875983654,1155572.3869272626,1153074.1141554443,1158459.060012513,1170445.52201007,1183271.653900385,645360.6036590219,653768.4507180955,660983.3612106814,668224.6633660286,673641.4668070455,676209.363822383,676869.9242748347,675798.711515421,675009.3220594615,672453.54853684,669327.3586982792,666287.2084852745,664204.649399836,663431.7625106121,663059.1654439381,663041.2132867455,662929.7345533421,662269.5117300212,661885.0976419497,661801.461423545,661940.4407243282,662291.1335063237,662554.0678813198,663785.3849542742,666529.3420293975,669983.3879992678,672571.032650265,670907.7298756292,667420.8780774771,664215.0311733135,665096.4647606196,669537.9292588852,676312.4964545624,684047.2002087291,691923.7640431966,699365.6336115332,707510.1431830893,716579.7377050571,727410.0752279988,738929.4684231429,748663.6961524831,755935.6657441022,758123.9175038576,757494.8413168779,755802.6699558636,755871.7261451263,758313.3017477737,765369.3334935103,776883.0098848599,792589.7727764557,805955.8312267935,815434.1414631009,818115.4051202169,814924.612779508,807709.0404611155,799898.8218113339,795395.8755509522,792136.7018963294,789338.281205803,785057.5360655874,782146.3481359798,781842.9675541801,784198.8351061015,788740.7815739528,793592.4533398965,798648.4153868445,802396.1937104386,804662.4088592551,806171.6437170297,805553.0385800138,804248.2042536266,802299.0380623596,802429.0570418421,805090.1601574415,810103.4426703997,814233.5764947605,465370.4690628109,467680.66058478254,470584.0465145613,473970.5151814314,476765.31680570176,478629.13888748985,480345.2483779122,482290.3763125339,484217.17908987176,485675.630608075,486273.8338190137,486231.6101068807,485748.1044660784,485675.42231272015,486100.0608141956,486346.08383142535,486148.7771729519,485763.09932903247,486043.03614271386,486334.5487243072,486693.5261925586,486771.5464860259,486653.8948881102,488097.40300909424,490514.9882732954,493850.0784960005,495376.8695826922,494366.7416324255,492603.8096568165,492622.1632687938,496197.3785527108,503470.0064673838,513094.4927978604,524804.6281448676,536569.7758306832,548040.529523895,560227.5365844048,573299.1395321861,588714.8448349385,604335.8230044873,618560.5260639451,627966.272894671,632578.6590089891,633461.0006036254,633695.0426235785,634479.2538940066,636698.1104077689,643183.8515881983,653063.7104376394,666489.764437673,677483.835503797,685350.8179946622,687197.2484008813,683776.3455668432,675339.4041689568,665830.2651980966,657047.3288385354,649394.8160148704,641493.9068292865,633463.433764078,627030.5429514195,622976.3983346605,622880.8493325483,625043.5133155676,628456.0211302448,630615.1720214088,631413.2988920634,630976.3102322643,629908.3168823775,627656.3595922071,625236.9610036771,622688.467117007,623028.0024283034,624738.5436748522,627343.6449307898,629003.380727168,218052.4540440268,219503.11005301867,220393.5641557847,221145.6580660763,221547.68251106865,222362.93435048257,223190.71815848345,224033.0731008565,224891.27008161956,225685.0415122624,226790.7258175806,228147.4410018111,229749.8957734564,231337.60299119249,232524.1500941627,233334.44257829108,233923.6959564069,234299.35633973533,234844.64881346945,235430.3863397253,236695.97793872163,238409.54809071848,240265.8820241343,241652.1655318857,242338.1072156669,242830.26965551195,243318.89137041228,243719.55171708064,244146.43100231225,245027.629632841,247208.57269989685,250534.8307106704,254626.76359728296,259258.7795916745,263812.4087492915,268132.96342352073,271987.0844018943,275802.520433198,279785.37643220654,284158.0720812173,289084.2848219637,294090.95103276905,298463.611790228,301413.9260083978,303796.8767386968,306495.3568104069,310116.2708206609,314531.4144530012,319287.427935017,324307.74169418385,329271.64353961725,333634.59134117834,337346.4420574976,339703.9320565785,340650.10307584173,340094.6279024333,339207.1615688249,337846.42608857393,336299.77673373185,333690.03628152603,331587.27895629575,330446.0505316026,330510.22495658044,331267.507060173,332535.0899106486,334464.0944327605,336626.851617193,338295.52732425387,339397.4302780032,339915.981946646,340429.6895916766,341095.6118976103,342131.1812365765,343669.1833165782,345361.63720224705,347233.00076915533,629019.1657649679,636850.1394173973,642812.8911353037,647593.3998145718,651181.0449616335,654935.3975989725,660584.0651847305,668122.6196979311,676129.5308356608,681798.6896950613,684820.2776547413,682313.9324648896,675778.9242467087,667819.448300528,662745.9320117171,660162.0404002541,658853.6272258769,659709.3530696438,663616.0461440712,670037.6028700791,676911.9987229748,683175.9615859563,688859.9280334449,692199.5076754364,693787.5453700791,694582.4035120703,695583.0431992188,694608.4697539861,691677.1529459627,691349.1644685417,696578.4323182431,707788.6147575841,721208.455914631,736069.8605339831,750248.1366202995,759796.8437466758,765753.9781674274,769064.7389487611,776129.4491570311,786145.7526089043,798523.2681220121,810683.8293737847,819987.9723640601,827198.7803668544,834164.9002265151,842825.1053687086,853230.4371547704,865739.7050546538,880538.2084557483,897171.5765693368,912259.1308390662,924119.5123995872,930805.9862155966,932703.0622922007,929511.8934442968,923635.447690096,918171.7650415928,914286.336499032,911043.7679903164,902437.4467807832,891127.6159243407,880997.3018952942,878531.6461211595,882455.5563329385,890542.6656615548,902168.2917164864,916234.2963194688,930436.6728298888,942253.1695750048,951145.7358358916,956729.8382475036,956889.213357563,953824.65568082,952665.578913095,956266.6879261564,962388.4914247744,304615.38561468484,306409.2302564908,307677.16643561545,309161.9765597191,309961.02535257,311060.3855983131,312490.86225580267,314176.27593694464,315395.81486635347,315724.4216069884,315635.5730231255,315881.33287347405,316718.1666130252,318062.0949962595,318816.49777405086,319409.0934224504,319507.6267896425,319457.146970215,319492.7830670119,320243.2900687197,320873.4956507596,320970.5519146719,319943.0300150853,318908.56844138046,317563.85311129404,316356.5693952947,315370.4565695501,314100.5362634841,313325.1798346389,312994.0727417213,314956.72143727913,318690.1028790705,323967.3066462709,329170.6819902656,334155.38676713035,338433.14665830083,342824.44867215777,347540.2527985687,353727.0408114718,361647.4395172596,369842.7335761344,377602.946456067,383566.9802752868,388051.6444780534,391392.0983320803,394893.9820355932,398299.667512218,402383.7594961777,406077.9680161543,411805.742032768,417905.2632601389,423982.3870915782,427642.6996870008,428241.15369576256,425910.7542453282,422080.07695203513,418877.2674809133,415824.0294695343,411762.8336197485,407601.44859623833,404745.0991789797,404383.0575293627,404743.7398141897,405181.059889396,405111.9858751224,404833.1089471239,404495.491533845,404477.37375644967,403962.9109838386,402174.4346594443,399699.542368374,397722.47696304414,398115.87438068,399551.0228109244,400993.970353875,401768.9459758956],\"yaxis\":\"y\",\"type\":\"scatter\"}],                        {\"template\":{\"data\":{\"histogram2dcontour\":[{\"type\":\"histogram2dcontour\",\"colorbar\":{\"outlinewidth\":0,\"ticks\":\"\"},\"colorscale\":[[0.0,\"#0d0887\"],[0.1111111111111111,\"#46039f\"],[0.2222222222222222,\"#7201a8\"],[0.3333333333333333,\"#9c179e\"],[0.4444444444444444,\"#bd3786\"],[0.5555555555555556,\"#d8576b\"],[0.6666666666666666,\"#ed7953\"],[0.7777777777777778,\"#fb9f3a\"],[0.8888888888888888,\"#fdca26\"],[1.0,\"#f0f921\"]]}],\"choropleth\":[{\"type\":\"choropleth\",\"colorbar\":{\"outlinewidth\":0,\"ticks\":\"\"}}],\"histogram2d\":[{\"type\":\"histogram2d\",\"colorbar\":{\"outlinewidth\":0,\"ticks\":\"\"},\"colorscale\":[[0.0,\"#0d0887\"],[0.1111111111111111,\"#46039f\"],[0.2222222222222222,\"#7201a8\"],[0.3333333333333333,\"#9c179e\"],[0.4444444444444444,\"#bd3786\"],[0.5555555555555556,\"#d8576b\"],[0.6666666666666666,\"#ed7953\"],[0.7777777777777778,\"#fb9f3a\"],[0.8888888888888888,\"#fdca26\"],[1.0,\"#f0f921\"]]}],\"heatmap\":[{\"type\":\"heatmap\",\"colorbar\":{\"outlinewidth\":0,\"ticks\":\"\"},\"colorscale\":[[0.0,\"#0d0887\"],[0.1111111111111111,\"#46039f\"],[0.2222222222222222,\"#7201a8\"],[0.3333333333333333,\"#9c179e\"],[0.4444444444444444,\"#bd3786\"],[0.5555555555555556,\"#d8576b\"],[0.6666666666666666,\"#ed7953\"],[0.7777777777777778,\"#fb9f3a\"],[0.8888888888888888,\"#fdca26\"],[1.0,\"#f0f921\"]]}],\"heatmapgl\":[{\"type\":\"heatmapgl\",\"colorbar\":{\"outlinewidth\":0,\"ticks\":\"\"},\"colorscale\":[[0.0,\"#0d0887\"],[0.1111111111111111,\"#46039f\"],[0.2222222222222222,\"#7201a8\"],[0.3333333333333333,\"#9c179e\"],[0.4444444444444444,\"#bd3786\"],[0.5555555555555556,\"#d8576b\"],[0.6666666666666666,\"#ed7953\"],[0.7777777777777778,\"#fb9f3a\"],[0.8888888888888888,\"#fdca26\"],[1.0,\"#f0f921\"]]}],\"contourcarpet\":[{\"type\":\"contourcarpet\",\"colorbar\":{\"outlinewidth\":0,\"ticks\":\"\"}}],\"contour\":[{\"type\":\"contour\",\"colorbar\":{\"outlinewidth\":0,\"ticks\":\"\"},\"colorscale\":[[0.0,\"#0d0887\"],[0.1111111111111111,\"#46039f\"],[0.2222222222222222,\"#7201a8\"],[0.3333333333333333,\"#9c179e\"],[0.4444444444444444,\"#bd3786\"],[0.5555555555555556,\"#d8576b\"],[0.6666666666666666,\"#ed7953\"],[0.7777777777777778,\"#fb9f3a\"],[0.8888888888888888,\"#fdca26\"],[1.0,\"#f0f921\"]]}],\"surface\":[{\"type\":\"surface\",\"colorbar\":{\"outlinewidth\":0,\"ticks\":\"\"},\"colorscale\":[[0.0,\"#0d0887\"],[0.1111111111111111,\"#46039f\"],[0.2222222222222222,\"#7201a8\"],[0.3333333333333333,\"#9c179e\"],[0.4444444444444444,\"#bd3786\"],[0.5555555555555556,\"#d8576b\"],[0.6666666666666666,\"#ed7953\"],[0.7777777777777778,\"#fb9f3a\"],[0.8888888888888888,\"#fdca26\"],[1.0,\"#f0f921\"]]}],\"mesh3d\":[{\"type\":\"mesh3d\",\"colorbar\":{\"outlinewidth\":0,\"ticks\":\"\"}}],\"scatter\":[{\"fillpattern\":{\"fillmode\":\"overlay\",\"size\":10,\"solidity\":0.2},\"type\":\"scatter\"}],\"parcoords\":[{\"type\":\"parcoords\",\"line\":{\"colorbar\":{\"outlinewidth\":0,\"ticks\":\"\"}}}],\"scatterpolargl\":[{\"type\":\"scatterpolargl\",\"marker\":{\"colorbar\":{\"outlinewidth\":0,\"ticks\":\"\"}}}],\"bar\":[{\"error_x\":{\"color\":\"#2a3f5f\"},\"error_y\":{\"color\":\"#2a3f5f\"},\"marker\":{\"line\":{\"color\":\"#E5ECF6\",\"width\":0.5},\"pattern\":{\"fillmode\":\"overlay\",\"size\":10,\"solidity\":0.2}},\"type\":\"bar\"}],\"scattergeo\":[{\"type\":\"scattergeo\",\"marker\":{\"colorbar\":{\"outlinewidth\":0,\"ticks\":\"\"}}}],\"scatterpolar\":[{\"type\":\"scatterpolar\",\"marker\":{\"colorbar\":{\"outlinewidth\":0,\"ticks\":\"\"}}}],\"histogram\":[{\"marker\":{\"pattern\":{\"fillmode\":\"overlay\",\"size\":10,\"solidity\":0.2}},\"type\":\"histogram\"}],\"scattergl\":[{\"type\":\"scattergl\",\"marker\":{\"colorbar\":{\"outlinewidth\":0,\"ticks\":\"\"}}}],\"scatter3d\":[{\"type\":\"scatter3d\",\"line\":{\"colorbar\":{\"outlinewidth\":0,\"ticks\":\"\"}},\"marker\":{\"colorbar\":{\"outlinewidth\":0,\"ticks\":\"\"}}}],\"scattermapbox\":[{\"type\":\"scattermapbox\",\"marker\":{\"colorbar\":{\"outlinewidth\":0,\"ticks\":\"\"}}}],\"scatterternary\":[{\"type\":\"scatterternary\",\"marker\":{\"colorbar\":{\"outlinewidth\":0,\"ticks\":\"\"}}}],\"scattercarpet\":[{\"type\":\"scattercarpet\",\"marker\":{\"colorbar\":{\"outlinewidth\":0,\"ticks\":\"\"}}}],\"carpet\":[{\"aaxis\":{\"endlinecolor\":\"#2a3f5f\",\"gridcolor\":\"white\",\"linecolor\":\"white\",\"minorgridcolor\":\"white\",\"startlinecolor\":\"#2a3f5f\"},\"baxis\":{\"endlinecolor\":\"#2a3f5f\",\"gridcolor\":\"white\",\"linecolor\":\"white\",\"minorgridcolor\":\"white\",\"startlinecolor\":\"#2a3f5f\"},\"type\":\"carpet\"}],\"table\":[{\"cells\":{\"fill\":{\"color\":\"#EBF0F8\"},\"line\":{\"color\":\"white\"}},\"header\":{\"fill\":{\"color\":\"#C8D4E3\"},\"line\":{\"color\":\"white\"}},\"type\":\"table\"}],\"barpolar\":[{\"marker\":{\"line\":{\"color\":\"#E5ECF6\",\"width\":0.5},\"pattern\":{\"fillmode\":\"overlay\",\"size\":10,\"solidity\":0.2}},\"type\":\"barpolar\"}],\"pie\":[{\"automargin\":true,\"type\":\"pie\"}]},\"layout\":{\"autotypenumbers\":\"strict\",\"colorway\":[\"#636efa\",\"#EF553B\",\"#00cc96\",\"#ab63fa\",\"#FFA15A\",\"#19d3f3\",\"#FF6692\",\"#B6E880\",\"#FF97FF\",\"#FECB52\"],\"font\":{\"color\":\"#2a3f5f\"},\"hovermode\":\"closest\",\"hoverlabel\":{\"align\":\"left\"},\"paper_bgcolor\":\"white\",\"plot_bgcolor\":\"#E5ECF6\",\"polar\":{\"bgcolor\":\"#E5ECF6\",\"angularaxis\":{\"gridcolor\":\"white\",\"linecolor\":\"white\",\"ticks\":\"\"},\"radialaxis\":{\"gridcolor\":\"white\",\"linecolor\":\"white\",\"ticks\":\"\"}},\"ternary\":{\"bgcolor\":\"#E5ECF6\",\"aaxis\":{\"gridcolor\":\"white\",\"linecolor\":\"white\",\"ticks\":\"\"},\"baxis\":{\"gridcolor\":\"white\",\"linecolor\":\"white\",\"ticks\":\"\"},\"caxis\":{\"gridcolor\":\"white\",\"linecolor\":\"white\",\"ticks\":\"\"}},\"coloraxis\":{\"colorbar\":{\"outlinewidth\":0,\"ticks\":\"\"}},\"colorscale\":{\"sequential\":[[0.0,\"#0d0887\"],[0.1111111111111111,\"#46039f\"],[0.2222222222222222,\"#7201a8\"],[0.3333333333333333,\"#9c179e\"],[0.4444444444444444,\"#bd3786\"],[0.5555555555555556,\"#d8576b\"],[0.6666666666666666,\"#ed7953\"],[0.7777777777777778,\"#fb9f3a\"],[0.8888888888888888,\"#fdca26\"],[1.0,\"#f0f921\"]],\"sequentialminus\":[[0.0,\"#0d0887\"],[0.1111111111111111,\"#46039f\"],[0.2222222222222222,\"#7201a8\"],[0.3333333333333333,\"#9c179e\"],[0.4444444444444444,\"#bd3786\"],[0.5555555555555556,\"#d8576b\"],[0.6666666666666666,\"#ed7953\"],[0.7777777777777778,\"#fb9f3a\"],[0.8888888888888888,\"#fdca26\"],[1.0,\"#f0f921\"]],\"diverging\":[[0,\"#8e0152\"],[0.1,\"#c51b7d\"],[0.2,\"#de77ae\"],[0.3,\"#f1b6da\"],[0.4,\"#fde0ef\"],[0.5,\"#f7f7f7\"],[0.6,\"#e6f5d0\"],[0.7,\"#b8e186\"],[0.8,\"#7fbc41\"],[0.9,\"#4d9221\"],[1,\"#276419\"]]},\"xaxis\":{\"gridcolor\":\"white\",\"linecolor\":\"white\",\"ticks\":\"\",\"title\":{\"standoff\":15},\"zerolinecolor\":\"white\",\"automargin\":true,\"zerolinewidth\":2},\"yaxis\":{\"gridcolor\":\"white\",\"linecolor\":\"white\",\"ticks\":\"\",\"title\":{\"standoff\":15},\"zerolinecolor\":\"white\",\"automargin\":true,\"zerolinewidth\":2},\"scene\":{\"xaxis\":{\"backgroundcolor\":\"#E5ECF6\",\"gridcolor\":\"white\",\"linecolor\":\"white\",\"showbackground\":true,\"ticks\":\"\",\"zerolinecolor\":\"white\",\"gridwidth\":2},\"yaxis\":{\"backgroundcolor\":\"#E5ECF6\",\"gridcolor\":\"white\",\"linecolor\":\"white\",\"showbackground\":true,\"ticks\":\"\",\"zerolinecolor\":\"white\",\"gridwidth\":2},\"zaxis\":{\"backgroundcolor\":\"#E5ECF6\",\"gridcolor\":\"white\",\"linecolor\":\"white\",\"showbackground\":true,\"ticks\":\"\",\"zerolinecolor\":\"white\",\"gridwidth\":2}},\"shapedefaults\":{\"line\":{\"color\":\"#2a3f5f\"}},\"annotationdefaults\":{\"arrowcolor\":\"#2a3f5f\",\"arrowhead\":0,\"arrowwidth\":1},\"geo\":{\"bgcolor\":\"white\",\"landcolor\":\"#E5ECF6\",\"subunitcolor\":\"white\",\"showland\":true,\"showlakes\":true,\"lakecolor\":\"white\"},\"title\":{\"x\":0.05},\"mapbox\":{\"style\":\"light\"}}},\"xaxis\":{\"anchor\":\"y\",\"domain\":[0.0,1.0],\"title\":{\"text\":\"HomeValue\"},\"tickformat\":\"%Y-%m\",\"showgrid\":true},\"yaxis\":{\"anchor\":\"x\",\"domain\":[0.0,1.0],\"title\":{\"text\":\"Date\"},\"showgrid\":true},\"legend\":{\"tracegroupgap\":0},\"title\":{\"text\":\"HomeValue vs. Date\"}},                        {\"responsive\": true}                    ).then(function(){\n",
       "                            \n",
       "var gd = document.getElementById('e794867c-ec95-4b02-839d-4d958efbceac');\n",
       "var x = new MutationObserver(function (mutations, observer) {{\n",
       "        var display = window.getComputedStyle(gd).display;\n",
       "        if (!display || display === 'none') {{\n",
       "            console.log([gd, 'removed!']);\n",
       "            Plotly.purge(gd);\n",
       "            observer.disconnect();\n",
       "        }}\n",
       "}});\n",
       "\n",
       "// Listen for the removal of the full notebook cells\n",
       "var notebookContainer = gd.closest('#notebook-container');\n",
       "if (notebookContainer) {{\n",
       "    x.observe(notebookContainer, {childList: true});\n",
       "}}\n",
       "\n",
       "// Listen for the clearing of the current output cell\n",
       "var outputEl = gd.closest('.output');\n",
       "if (outputEl) {{\n",
       "    x.observe(outputEl, {childList: true});\n",
       "}}\n",
       "\n",
       "                        })                };                });            </script>        </div>"
      ]
     },
     "metadata": {},
     "output_type": "display_data"
    }
   ],
   "source": [
    "#https://plotly.com/python/line-and-scatter/\n",
    "#fig = px.scatter(df, x=\"sepal_width\", y=\"sepal_length\")\n",
    "\n",
    "fig = px.scatter(\n",
    "    CA_df, \n",
    "    x='Date',\n",
    "    y='HomeValue',\n",
    "    hover_data={'Location':True, 'HomeValue':True},\n",
    "    title='Cost of the Homes in California',\n",
    "    labels={'x': 'Date', 'y': 'HomeValue'}\n",
    ")\n",
    "\n",
    "fig.update_layout(\n",
    "    xaxis_title='HomeValue',\n",
    "    yaxis_title='Date',\n",
    "    title='HomeValue vs. Date',\n",
    "    xaxis=dict(\n",
    "        tickformat='%Y-%m',\n",
    "        showgrid=True\n",
    "    ),\n",
    "    yaxis=dict(\n",
    "        showgrid=True\n",
    "    )\n",
    ")\n",
    "fig.show()"
   ]
  },
  {
   "cell_type": "raw",
   "id": "4ca051f6-63f3-4417-9d67-dd8feb423e3b",
   "metadata": {},
   "source": [
    "From Here I had to seperate the data from Californa Homes versus Texas homes. From Here we will see the average purchasing power of each state in 2018 to 2024. "
   ]
  },
  {
   "cell_type": "code",
   "execution_count": 179,
   "id": "fc899b2a-6d93-4dd0-bae0-5a703d54a190",
   "metadata": {},
   "outputs": [
    {
     "data": {
      "text/plain": [
       "nan"
      ]
     },
     "execution_count": 179,
     "metadata": {},
     "output_type": "execute_result"
    }
   ],
   "source": [
    "#Pull data from the year 2018\n",
    "#Mean of Homevaue in 2018 VS 2024\n",
    "Ca_df_2018 = CA_df[CA_df['Date']==2018]\n",
    "Ca_df_2018['HomeValue"
   ]
  },
  {
   "cell_type": "code",
   "execution_count": null,
   "id": "dd69d8ea-3ada-4c35-8f3c-911f97a285de",
   "metadata": {},
   "outputs": [],
   "source": [
    "Ca_df_2024 = CA_df[CA_df['Date']==2024]\n",
    "Ca_df_2024['HomeValue'].mean()"
   ]
  },
  {
   "cell_type": "code",
   "execution_count": null,
   "id": "7b5117d3-f984-4e2f-b7f4-559c088ecec4",
   "metadata": {},
   "outputs": [],
   "source": [
    "#Compare the Mean of both dates and how much it increased for CA"
   ]
  },
  {
   "cell_type": "raw",
   "id": "40adee49-a1e7-4a32-9e43-b490b828820c",
   "metadata": {},
   "source": [
    "From the graph above, we can see the number of properties purchased at various price points. The average cost to purchase a home in California is $499,701 compared to the overall average of $698,309 over a span of six years. Now to see the expantion Texas has over a span of 6 years for properties on average. \n",
    "\n",
    "To expand on values. We will find the unique values and outliers to see how "
   ]
  },
  {
   "cell_type": "code",
   "execution_count": 171,
   "id": "a2f4b1ba-c2b3-4ef7-9cce-689da5685426",
   "metadata": {},
   "outputs": [
    {
     "ename": "KeyError",
     "evalue": "'2018'",
     "output_type": "error",
     "traceback": [
      "\u001b[0;31m---------------------------------------------------------------------------\u001b[0m",
      "\u001b[0;31mKeyError\u001b[0m                                  Traceback (most recent call last)",
      "File \u001b[0;32m/opt/anaconda3/lib/python3.11/site-packages/pandas/core/indexes/base.py:3791\u001b[0m, in \u001b[0;36mIndex.get_loc\u001b[0;34m(self, key)\u001b[0m\n\u001b[1;32m   3790\u001b[0m \u001b[38;5;28;01mtry\u001b[39;00m:\n\u001b[0;32m-> 3791\u001b[0m     \u001b[38;5;28;01mreturn\u001b[39;00m \u001b[38;5;28mself\u001b[39m\u001b[38;5;241m.\u001b[39m_engine\u001b[38;5;241m.\u001b[39mget_loc(casted_key)\n\u001b[1;32m   3792\u001b[0m \u001b[38;5;28;01mexcept\u001b[39;00m \u001b[38;5;167;01mKeyError\u001b[39;00m \u001b[38;5;28;01mas\u001b[39;00m err:\n",
      "File \u001b[0;32mindex.pyx:152\u001b[0m, in \u001b[0;36mpandas._libs.index.IndexEngine.get_loc\u001b[0;34m()\u001b[0m\n",
      "File \u001b[0;32mindex.pyx:181\u001b[0m, in \u001b[0;36mpandas._libs.index.IndexEngine.get_loc\u001b[0;34m()\u001b[0m\n",
      "File \u001b[0;32mpandas/_libs/hashtable_class_helper.pxi:7080\u001b[0m, in \u001b[0;36mpandas._libs.hashtable.PyObjectHashTable.get_item\u001b[0;34m()\u001b[0m\n",
      "File \u001b[0;32mpandas/_libs/hashtable_class_helper.pxi:7088\u001b[0m, in \u001b[0;36mpandas._libs.hashtable.PyObjectHashTable.get_item\u001b[0;34m()\u001b[0m\n",
      "\u001b[0;31mKeyError\u001b[0m: '2018'",
      "\nThe above exception was the direct cause of the following exception:\n",
      "\u001b[0;31mKeyError\u001b[0m                                  Traceback (most recent call last)",
      "Cell \u001b[0;32mIn[171], line 1\u001b[0m\n\u001b[0;32m----> 1\u001b[0m \u001b[38;5;28mprint\u001b[39m(CA_df[\u001b[38;5;124m'\u001b[39m\u001b[38;5;124m2018\u001b[39m\u001b[38;5;124m'\u001b[39m]\u001b[38;5;241m.\u001b[39mHomeValue\u001b[38;5;241m.\u001b[39mmean())\n",
      "File \u001b[0;32m/opt/anaconda3/lib/python3.11/site-packages/pandas/core/frame.py:3893\u001b[0m, in \u001b[0;36mDataFrame.__getitem__\u001b[0;34m(self, key)\u001b[0m\n\u001b[1;32m   3891\u001b[0m \u001b[38;5;28;01mif\u001b[39;00m \u001b[38;5;28mself\u001b[39m\u001b[38;5;241m.\u001b[39mcolumns\u001b[38;5;241m.\u001b[39mnlevels \u001b[38;5;241m>\u001b[39m \u001b[38;5;241m1\u001b[39m:\n\u001b[1;32m   3892\u001b[0m     \u001b[38;5;28;01mreturn\u001b[39;00m \u001b[38;5;28mself\u001b[39m\u001b[38;5;241m.\u001b[39m_getitem_multilevel(key)\n\u001b[0;32m-> 3893\u001b[0m indexer \u001b[38;5;241m=\u001b[39m \u001b[38;5;28mself\u001b[39m\u001b[38;5;241m.\u001b[39mcolumns\u001b[38;5;241m.\u001b[39mget_loc(key)\n\u001b[1;32m   3894\u001b[0m \u001b[38;5;28;01mif\u001b[39;00m is_integer(indexer):\n\u001b[1;32m   3895\u001b[0m     indexer \u001b[38;5;241m=\u001b[39m [indexer]\n",
      "File \u001b[0;32m/opt/anaconda3/lib/python3.11/site-packages/pandas/core/indexes/base.py:3798\u001b[0m, in \u001b[0;36mIndex.get_loc\u001b[0;34m(self, key)\u001b[0m\n\u001b[1;32m   3793\u001b[0m     \u001b[38;5;28;01mif\u001b[39;00m \u001b[38;5;28misinstance\u001b[39m(casted_key, \u001b[38;5;28mslice\u001b[39m) \u001b[38;5;129;01mor\u001b[39;00m (\n\u001b[1;32m   3794\u001b[0m         \u001b[38;5;28misinstance\u001b[39m(casted_key, abc\u001b[38;5;241m.\u001b[39mIterable)\n\u001b[1;32m   3795\u001b[0m         \u001b[38;5;129;01mand\u001b[39;00m \u001b[38;5;28many\u001b[39m(\u001b[38;5;28misinstance\u001b[39m(x, \u001b[38;5;28mslice\u001b[39m) \u001b[38;5;28;01mfor\u001b[39;00m x \u001b[38;5;129;01min\u001b[39;00m casted_key)\n\u001b[1;32m   3796\u001b[0m     ):\n\u001b[1;32m   3797\u001b[0m         \u001b[38;5;28;01mraise\u001b[39;00m InvalidIndexError(key)\n\u001b[0;32m-> 3798\u001b[0m     \u001b[38;5;28;01mraise\u001b[39;00m \u001b[38;5;167;01mKeyError\u001b[39;00m(key) \u001b[38;5;28;01mfrom\u001b[39;00m \u001b[38;5;21;01merr\u001b[39;00m\n\u001b[1;32m   3799\u001b[0m \u001b[38;5;28;01mexcept\u001b[39;00m \u001b[38;5;167;01mTypeError\u001b[39;00m:\n\u001b[1;32m   3800\u001b[0m     \u001b[38;5;66;03m# If we have a listlike key, _check_indexing_error will raise\u001b[39;00m\n\u001b[1;32m   3801\u001b[0m     \u001b[38;5;66;03m#  InvalidIndexError. Otherwise we fall through and re-raise\u001b[39;00m\n\u001b[1;32m   3802\u001b[0m     \u001b[38;5;66;03m#  the TypeError.\u001b[39;00m\n\u001b[1;32m   3803\u001b[0m     \u001b[38;5;28mself\u001b[39m\u001b[38;5;241m.\u001b[39m_check_indexing_error(key)\n",
      "\u001b[0;31mKeyError\u001b[0m: '2018'"
     ]
    }
   ],
   "source": [
    "#finding outliers"
   ]
  },
  {
   "cell_type": "code",
   "execution_count": null,
   "id": "cff7ef6c-2dc7-49e0-b6f3-df4f2de71575",
   "metadata": {},
   "outputs": [],
   "source": []
  },
  {
   "cell_type": "raw",
   "id": "abab174f-0c86-485a-88cf-c173502a080b",
   "metadata": {},
   "source": [
    "Now we Analyze how the property trends in Texas and how the prices may increase or decrease over the span of 6 years."
   ]
  },
  {
   "cell_type": "code",
   "execution_count": 165,
   "id": "9b13f6a1-51fb-446c-912a-32b24df55df1",
   "metadata": {},
   "outputs": [
    {
     "name": "stderr",
     "output_type": "stream",
     "text": [
      "/opt/anaconda3/lib/python3.11/site-packages/_plotly_utils/basevalidators.py:106: FutureWarning:\n",
      "\n",
      "The behavior of DatetimeProperties.to_pydatetime is deprecated, in a future version this will return a Series containing python datetime objects instead of an ndarray. To retain the old behavior, call `np.array` on the result\n",
      "\n"
     ]
    },
    {
     "data": {
      "application/vnd.plotly.v1+json": {
       "config": {
        "plotlyServerURL": "https://plot.ly"
       },
       "data": [
        {
         "customdata": [
          [
           "Beaumont, TX"
          ],
          [
           "Beaumont, TX"
          ],
          [
           "Beaumont, TX"
          ],
          [
           "Beaumont, TX"
          ],
          [
           "Beaumont, TX"
          ],
          [
           "Beaumont, TX"
          ],
          [
           "Beaumont, TX"
          ],
          [
           "Beaumont, TX"
          ],
          [
           "Beaumont, TX"
          ],
          [
           "Beaumont, TX"
          ],
          [
           "Beaumont, TX"
          ],
          [
           "Beaumont, TX"
          ],
          [
           "Beaumont, TX"
          ],
          [
           "Beaumont, TX"
          ],
          [
           "Beaumont, TX"
          ],
          [
           "Beaumont, TX"
          ],
          [
           "Beaumont, TX"
          ],
          [
           "Beaumont, TX"
          ],
          [
           "Beaumont, TX"
          ],
          [
           "Beaumont, TX"
          ],
          [
           "Beaumont, TX"
          ],
          [
           "Beaumont, TX"
          ],
          [
           "Beaumont, TX"
          ],
          [
           "Beaumont, TX"
          ],
          [
           "Beaumont, TX"
          ],
          [
           "Beaumont, TX"
          ],
          [
           "Beaumont, TX"
          ],
          [
           "Beaumont, TX"
          ],
          [
           "Beaumont, TX"
          ],
          [
           "Beaumont, TX"
          ],
          [
           "Beaumont, TX"
          ],
          [
           "Beaumont, TX"
          ],
          [
           "Beaumont, TX"
          ],
          [
           "Beaumont, TX"
          ],
          [
           "Beaumont, TX"
          ],
          [
           "Beaumont, TX"
          ],
          [
           "Beaumont, TX"
          ],
          [
           "Beaumont, TX"
          ],
          [
           "Beaumont, TX"
          ],
          [
           "Beaumont, TX"
          ],
          [
           "Beaumont, TX"
          ],
          [
           "Beaumont, TX"
          ],
          [
           "Beaumont, TX"
          ],
          [
           "Beaumont, TX"
          ],
          [
           "Beaumont, TX"
          ],
          [
           "Beaumont, TX"
          ],
          [
           "Beaumont, TX"
          ],
          [
           "Beaumont, TX"
          ],
          [
           "Beaumont, TX"
          ],
          [
           "Beaumont, TX"
          ],
          [
           "Beaumont, TX"
          ],
          [
           "Beaumont, TX"
          ],
          [
           "Beaumont, TX"
          ],
          [
           "Beaumont, TX"
          ],
          [
           "Beaumont, TX"
          ],
          [
           "Beaumont, TX"
          ],
          [
           "Beaumont, TX"
          ],
          [
           "Beaumont, TX"
          ],
          [
           "Beaumont, TX"
          ],
          [
           "Beaumont, TX"
          ],
          [
           "Beaumont, TX"
          ],
          [
           "Beaumont, TX"
          ],
          [
           "Beaumont, TX"
          ],
          [
           "Beaumont, TX"
          ],
          [
           "Beaumont, TX"
          ],
          [
           "Beaumont, TX"
          ],
          [
           "Beaumont, TX"
          ],
          [
           "Beaumont, TX"
          ],
          [
           "Beaumont, TX"
          ],
          [
           "Beaumont, TX"
          ],
          [
           "Beaumont, TX"
          ],
          [
           "Beaumont, TX"
          ],
          [
           "Beaumont, TX"
          ],
          [
           "Beaumont, TX"
          ],
          [
           "Beaumont, TX"
          ],
          [
           "Beaumont, TX"
          ],
          [
           "Brownsville, TX"
          ],
          [
           "Brownsville, TX"
          ],
          [
           "Brownsville, TX"
          ],
          [
           "Brownsville, TX"
          ],
          [
           "Brownsville, TX"
          ],
          [
           "Brownsville, TX"
          ],
          [
           "Brownsville, TX"
          ],
          [
           "Brownsville, TX"
          ],
          [
           "Brownsville, TX"
          ],
          [
           "Brownsville, TX"
          ],
          [
           "Brownsville, TX"
          ],
          [
           "Brownsville, TX"
          ],
          [
           "Brownsville, TX"
          ],
          [
           "Brownsville, TX"
          ],
          [
           "Brownsville, TX"
          ],
          [
           "Brownsville, TX"
          ],
          [
           "Brownsville, TX"
          ],
          [
           "Brownsville, TX"
          ],
          [
           "Brownsville, TX"
          ],
          [
           "Brownsville, TX"
          ],
          [
           "Brownsville, TX"
          ],
          [
           "Brownsville, TX"
          ],
          [
           "Brownsville, TX"
          ],
          [
           "Brownsville, TX"
          ],
          [
           "Brownsville, TX"
          ],
          [
           "Brownsville, TX"
          ],
          [
           "Brownsville, TX"
          ],
          [
           "Brownsville, TX"
          ],
          [
           "Brownsville, TX"
          ],
          [
           "Brownsville, TX"
          ],
          [
           "Brownsville, TX"
          ],
          [
           "Brownsville, TX"
          ],
          [
           "Brownsville, TX"
          ],
          [
           "Brownsville, TX"
          ],
          [
           "Brownsville, TX"
          ],
          [
           "Brownsville, TX"
          ],
          [
           "Brownsville, TX"
          ],
          [
           "Brownsville, TX"
          ],
          [
           "Brownsville, TX"
          ],
          [
           "Brownsville, TX"
          ],
          [
           "Brownsville, TX"
          ],
          [
           "Brownsville, TX"
          ],
          [
           "Brownsville, TX"
          ],
          [
           "Brownsville, TX"
          ],
          [
           "Brownsville, TX"
          ],
          [
           "Brownsville, TX"
          ],
          [
           "Brownsville, TX"
          ],
          [
           "Brownsville, TX"
          ],
          [
           "Brownsville, TX"
          ],
          [
           "Brownsville, TX"
          ],
          [
           "Brownsville, TX"
          ],
          [
           "Brownsville, TX"
          ],
          [
           "Brownsville, TX"
          ],
          [
           "Brownsville, TX"
          ],
          [
           "Brownsville, TX"
          ],
          [
           "Brownsville, TX"
          ],
          [
           "Brownsville, TX"
          ],
          [
           "Brownsville, TX"
          ],
          [
           "Brownsville, TX"
          ],
          [
           "Brownsville, TX"
          ],
          [
           "Brownsville, TX"
          ],
          [
           "Brownsville, TX"
          ],
          [
           "Brownsville, TX"
          ],
          [
           "Brownsville, TX"
          ],
          [
           "Brownsville, TX"
          ],
          [
           "Brownsville, TX"
          ],
          [
           "Brownsville, TX"
          ],
          [
           "Brownsville, TX"
          ],
          [
           "Brownsville, TX"
          ],
          [
           "Brownsville, TX"
          ],
          [
           "Brownsville, TX"
          ],
          [
           "Brownsville, TX"
          ],
          [
           "Brownsville, TX"
          ],
          [
           "Brownsville, TX"
          ],
          [
           "Brownsville, TX"
          ],
          [
           "Brownsville, TX"
          ],
          [
           "College Station, TX"
          ],
          [
           "College Station, TX"
          ],
          [
           "College Station, TX"
          ],
          [
           "College Station, TX"
          ],
          [
           "College Station, TX"
          ],
          [
           "College Station, TX"
          ],
          [
           "College Station, TX"
          ],
          [
           "College Station, TX"
          ],
          [
           "College Station, TX"
          ],
          [
           "College Station, TX"
          ],
          [
           "College Station, TX"
          ],
          [
           "College Station, TX"
          ],
          [
           "College Station, TX"
          ],
          [
           "College Station, TX"
          ],
          [
           "College Station, TX"
          ],
          [
           "College Station, TX"
          ],
          [
           "College Station, TX"
          ],
          [
           "College Station, TX"
          ],
          [
           "College Station, TX"
          ],
          [
           "College Station, TX"
          ],
          [
           "College Station, TX"
          ],
          [
           "College Station, TX"
          ],
          [
           "College Station, TX"
          ],
          [
           "College Station, TX"
          ],
          [
           "College Station, TX"
          ],
          [
           "College Station, TX"
          ],
          [
           "College Station, TX"
          ],
          [
           "College Station, TX"
          ],
          [
           "College Station, TX"
          ],
          [
           "College Station, TX"
          ],
          [
           "College Station, TX"
          ],
          [
           "College Station, TX"
          ],
          [
           "College Station, TX"
          ],
          [
           "College Station, TX"
          ],
          [
           "College Station, TX"
          ],
          [
           "College Station, TX"
          ],
          [
           "College Station, TX"
          ],
          [
           "College Station, TX"
          ],
          [
           "College Station, TX"
          ],
          [
           "College Station, TX"
          ],
          [
           "College Station, TX"
          ],
          [
           "College Station, TX"
          ],
          [
           "College Station, TX"
          ],
          [
           "College Station, TX"
          ],
          [
           "College Station, TX"
          ],
          [
           "College Station, TX"
          ],
          [
           "College Station, TX"
          ],
          [
           "College Station, TX"
          ],
          [
           "College Station, TX"
          ],
          [
           "College Station, TX"
          ],
          [
           "College Station, TX"
          ],
          [
           "College Station, TX"
          ],
          [
           "College Station, TX"
          ],
          [
           "College Station, TX"
          ],
          [
           "College Station, TX"
          ],
          [
           "College Station, TX"
          ],
          [
           "College Station, TX"
          ],
          [
           "College Station, TX"
          ],
          [
           "College Station, TX"
          ],
          [
           "College Station, TX"
          ],
          [
           "College Station, TX"
          ],
          [
           "College Station, TX"
          ],
          [
           "College Station, TX"
          ],
          [
           "College Station, TX"
          ],
          [
           "College Station, TX"
          ],
          [
           "College Station, TX"
          ],
          [
           "College Station, TX"
          ],
          [
           "College Station, TX"
          ],
          [
           "College Station, TX"
          ],
          [
           "College Station, TX"
          ],
          [
           "College Station, TX"
          ],
          [
           "College Station, TX"
          ],
          [
           "College Station, TX"
          ],
          [
           "College Station, TX"
          ],
          [
           "College Station, TX"
          ],
          [
           "College Station, TX"
          ],
          [
           "Corpus Christi, TX"
          ],
          [
           "Corpus Christi, TX"
          ],
          [
           "Corpus Christi, TX"
          ],
          [
           "Corpus Christi, TX"
          ],
          [
           "Corpus Christi, TX"
          ],
          [
           "Corpus Christi, TX"
          ],
          [
           "Corpus Christi, TX"
          ],
          [
           "Corpus Christi, TX"
          ],
          [
           "Corpus Christi, TX"
          ],
          [
           "Corpus Christi, TX"
          ],
          [
           "Corpus Christi, TX"
          ],
          [
           "Corpus Christi, TX"
          ],
          [
           "Corpus Christi, TX"
          ],
          [
           "Corpus Christi, TX"
          ],
          [
           "Corpus Christi, TX"
          ],
          [
           "Corpus Christi, TX"
          ],
          [
           "Corpus Christi, TX"
          ],
          [
           "Corpus Christi, TX"
          ],
          [
           "Corpus Christi, TX"
          ],
          [
           "Corpus Christi, TX"
          ],
          [
           "Corpus Christi, TX"
          ],
          [
           "Corpus Christi, TX"
          ],
          [
           "Corpus Christi, TX"
          ],
          [
           "Corpus Christi, TX"
          ],
          [
           "Corpus Christi, TX"
          ],
          [
           "Corpus Christi, TX"
          ],
          [
           "Corpus Christi, TX"
          ],
          [
           "Corpus Christi, TX"
          ],
          [
           "Corpus Christi, TX"
          ],
          [
           "Corpus Christi, TX"
          ],
          [
           "Corpus Christi, TX"
          ],
          [
           "Corpus Christi, TX"
          ],
          [
           "Corpus Christi, TX"
          ],
          [
           "Corpus Christi, TX"
          ],
          [
           "Corpus Christi, TX"
          ],
          [
           "Corpus Christi, TX"
          ],
          [
           "Corpus Christi, TX"
          ],
          [
           "Corpus Christi, TX"
          ],
          [
           "Corpus Christi, TX"
          ],
          [
           "Corpus Christi, TX"
          ],
          [
           "Corpus Christi, TX"
          ],
          [
           "Corpus Christi, TX"
          ],
          [
           "Corpus Christi, TX"
          ],
          [
           "Corpus Christi, TX"
          ],
          [
           "Corpus Christi, TX"
          ],
          [
           "Corpus Christi, TX"
          ],
          [
           "Corpus Christi, TX"
          ],
          [
           "Corpus Christi, TX"
          ],
          [
           "Corpus Christi, TX"
          ],
          [
           "Corpus Christi, TX"
          ],
          [
           "Corpus Christi, TX"
          ],
          [
           "Corpus Christi, TX"
          ],
          [
           "Corpus Christi, TX"
          ],
          [
           "Corpus Christi, TX"
          ],
          [
           "Corpus Christi, TX"
          ],
          [
           "Corpus Christi, TX"
          ],
          [
           "Corpus Christi, TX"
          ],
          [
           "Corpus Christi, TX"
          ],
          [
           "Corpus Christi, TX"
          ],
          [
           "Corpus Christi, TX"
          ],
          [
           "Corpus Christi, TX"
          ],
          [
           "Corpus Christi, TX"
          ],
          [
           "Corpus Christi, TX"
          ],
          [
           "Corpus Christi, TX"
          ],
          [
           "Corpus Christi, TX"
          ],
          [
           "Corpus Christi, TX"
          ],
          [
           "Corpus Christi, TX"
          ],
          [
           "Corpus Christi, TX"
          ],
          [
           "Corpus Christi, TX"
          ],
          [
           "Corpus Christi, TX"
          ],
          [
           "Corpus Christi, TX"
          ],
          [
           "Corpus Christi, TX"
          ],
          [
           "Corpus Christi, TX"
          ],
          [
           "Corpus Christi, TX"
          ],
          [
           "Corpus Christi, TX"
          ],
          [
           "Corpus Christi, TX"
          ],
          [
           "Dallas, TX"
          ],
          [
           "Dallas, TX"
          ],
          [
           "Dallas, TX"
          ],
          [
           "Dallas, TX"
          ],
          [
           "Dallas, TX"
          ],
          [
           "Dallas, TX"
          ],
          [
           "Dallas, TX"
          ],
          [
           "Dallas, TX"
          ],
          [
           "Dallas, TX"
          ],
          [
           "Dallas, TX"
          ],
          [
           "Dallas, TX"
          ],
          [
           "Dallas, TX"
          ],
          [
           "Dallas, TX"
          ],
          [
           "Dallas, TX"
          ],
          [
           "Dallas, TX"
          ],
          [
           "Dallas, TX"
          ],
          [
           "Dallas, TX"
          ],
          [
           "Dallas, TX"
          ],
          [
           "Dallas, TX"
          ],
          [
           "Dallas, TX"
          ],
          [
           "Dallas, TX"
          ],
          [
           "Dallas, TX"
          ],
          [
           "Dallas, TX"
          ],
          [
           "Dallas, TX"
          ],
          [
           "Dallas, TX"
          ],
          [
           "Dallas, TX"
          ],
          [
           "Dallas, TX"
          ],
          [
           "Dallas, TX"
          ],
          [
           "Dallas, TX"
          ],
          [
           "Dallas, TX"
          ],
          [
           "Dallas, TX"
          ],
          [
           "Dallas, TX"
          ],
          [
           "Dallas, TX"
          ],
          [
           "Dallas, TX"
          ],
          [
           "Dallas, TX"
          ],
          [
           "Dallas, TX"
          ],
          [
           "Dallas, TX"
          ],
          [
           "Dallas, TX"
          ],
          [
           "Dallas, TX"
          ],
          [
           "Dallas, TX"
          ],
          [
           "Dallas, TX"
          ],
          [
           "Dallas, TX"
          ],
          [
           "Dallas, TX"
          ],
          [
           "Dallas, TX"
          ],
          [
           "Dallas, TX"
          ],
          [
           "Dallas, TX"
          ],
          [
           "Dallas, TX"
          ],
          [
           "Dallas, TX"
          ],
          [
           "Dallas, TX"
          ],
          [
           "Dallas, TX"
          ],
          [
           "Dallas, TX"
          ],
          [
           "Dallas, TX"
          ],
          [
           "Dallas, TX"
          ],
          [
           "Dallas, TX"
          ],
          [
           "Dallas, TX"
          ],
          [
           "Dallas, TX"
          ],
          [
           "Dallas, TX"
          ],
          [
           "Dallas, TX"
          ],
          [
           "Dallas, TX"
          ],
          [
           "Dallas, TX"
          ],
          [
           "Dallas, TX"
          ],
          [
           "Dallas, TX"
          ],
          [
           "Dallas, TX"
          ],
          [
           "Dallas, TX"
          ],
          [
           "Dallas, TX"
          ],
          [
           "Dallas, TX"
          ],
          [
           "Dallas, TX"
          ],
          [
           "Dallas, TX"
          ],
          [
           "Dallas, TX"
          ],
          [
           "Dallas, TX"
          ],
          [
           "Dallas, TX"
          ],
          [
           "Dallas, TX"
          ],
          [
           "Dallas, TX"
          ],
          [
           "Dallas, TX"
          ],
          [
           "Dallas, TX"
          ],
          [
           "Dallas, TX"
          ],
          [
           "Houston, TX"
          ],
          [
           "Houston, TX"
          ],
          [
           "Houston, TX"
          ],
          [
           "Houston, TX"
          ],
          [
           "Houston, TX"
          ],
          [
           "Houston, TX"
          ],
          [
           "Houston, TX"
          ],
          [
           "Houston, TX"
          ],
          [
           "Houston, TX"
          ],
          [
           "Houston, TX"
          ],
          [
           "Houston, TX"
          ],
          [
           "Houston, TX"
          ],
          [
           "Houston, TX"
          ],
          [
           "Houston, TX"
          ],
          [
           "Houston, TX"
          ],
          [
           "Houston, TX"
          ],
          [
           "Houston, TX"
          ],
          [
           "Houston, TX"
          ],
          [
           "Houston, TX"
          ],
          [
           "Houston, TX"
          ],
          [
           "Houston, TX"
          ],
          [
           "Houston, TX"
          ],
          [
           "Houston, TX"
          ],
          [
           "Houston, TX"
          ],
          [
           "Houston, TX"
          ],
          [
           "Houston, TX"
          ],
          [
           "Houston, TX"
          ],
          [
           "Houston, TX"
          ],
          [
           "Houston, TX"
          ],
          [
           "Houston, TX"
          ],
          [
           "Houston, TX"
          ],
          [
           "Houston, TX"
          ],
          [
           "Houston, TX"
          ],
          [
           "Houston, TX"
          ],
          [
           "Houston, TX"
          ],
          [
           "Houston, TX"
          ],
          [
           "Houston, TX"
          ],
          [
           "Houston, TX"
          ],
          [
           "Houston, TX"
          ],
          [
           "Houston, TX"
          ],
          [
           "Houston, TX"
          ],
          [
           "Houston, TX"
          ],
          [
           "Houston, TX"
          ],
          [
           "Houston, TX"
          ],
          [
           "Houston, TX"
          ],
          [
           "Houston, TX"
          ],
          [
           "Houston, TX"
          ],
          [
           "Houston, TX"
          ],
          [
           "Houston, TX"
          ],
          [
           "Houston, TX"
          ],
          [
           "Houston, TX"
          ],
          [
           "Houston, TX"
          ],
          [
           "Houston, TX"
          ],
          [
           "Houston, TX"
          ],
          [
           "Houston, TX"
          ],
          [
           "Houston, TX"
          ],
          [
           "Houston, TX"
          ],
          [
           "Houston, TX"
          ],
          [
           "Houston, TX"
          ],
          [
           "Houston, TX"
          ],
          [
           "Houston, TX"
          ],
          [
           "Houston, TX"
          ],
          [
           "Houston, TX"
          ],
          [
           "Houston, TX"
          ],
          [
           "Houston, TX"
          ],
          [
           "Houston, TX"
          ],
          [
           "Houston, TX"
          ],
          [
           "Houston, TX"
          ],
          [
           "Houston, TX"
          ],
          [
           "Houston, TX"
          ],
          [
           "Houston, TX"
          ],
          [
           "Houston, TX"
          ],
          [
           "Houston, TX"
          ],
          [
           "Houston, TX"
          ],
          [
           "Houston, TX"
          ],
          [
           "Houston, TX"
          ],
          [
           "McAllen, TX"
          ],
          [
           "McAllen, TX"
          ],
          [
           "McAllen, TX"
          ],
          [
           "McAllen, TX"
          ],
          [
           "McAllen, TX"
          ],
          [
           "McAllen, TX"
          ],
          [
           "McAllen, TX"
          ],
          [
           "McAllen, TX"
          ],
          [
           "McAllen, TX"
          ],
          [
           "McAllen, TX"
          ],
          [
           "McAllen, TX"
          ],
          [
           "McAllen, TX"
          ],
          [
           "McAllen, TX"
          ],
          [
           "McAllen, TX"
          ],
          [
           "McAllen, TX"
          ],
          [
           "McAllen, TX"
          ],
          [
           "McAllen, TX"
          ],
          [
           "McAllen, TX"
          ],
          [
           "McAllen, TX"
          ],
          [
           "McAllen, TX"
          ],
          [
           "McAllen, TX"
          ],
          [
           "McAllen, TX"
          ],
          [
           "McAllen, TX"
          ],
          [
           "McAllen, TX"
          ],
          [
           "McAllen, TX"
          ],
          [
           "McAllen, TX"
          ],
          [
           "McAllen, TX"
          ],
          [
           "McAllen, TX"
          ],
          [
           "McAllen, TX"
          ],
          [
           "McAllen, TX"
          ],
          [
           "McAllen, TX"
          ],
          [
           "McAllen, TX"
          ],
          [
           "McAllen, TX"
          ],
          [
           "McAllen, TX"
          ],
          [
           "McAllen, TX"
          ],
          [
           "McAllen, TX"
          ],
          [
           "McAllen, TX"
          ],
          [
           "McAllen, TX"
          ],
          [
           "McAllen, TX"
          ],
          [
           "McAllen, TX"
          ],
          [
           "McAllen, TX"
          ],
          [
           "McAllen, TX"
          ],
          [
           "McAllen, TX"
          ],
          [
           "McAllen, TX"
          ],
          [
           "McAllen, TX"
          ],
          [
           "McAllen, TX"
          ],
          [
           "McAllen, TX"
          ],
          [
           "McAllen, TX"
          ],
          [
           "McAllen, TX"
          ],
          [
           "McAllen, TX"
          ],
          [
           "McAllen, TX"
          ],
          [
           "McAllen, TX"
          ],
          [
           "McAllen, TX"
          ],
          [
           "McAllen, TX"
          ],
          [
           "McAllen, TX"
          ],
          [
           "McAllen, TX"
          ],
          [
           "McAllen, TX"
          ],
          [
           "McAllen, TX"
          ],
          [
           "McAllen, TX"
          ],
          [
           "McAllen, TX"
          ],
          [
           "McAllen, TX"
          ],
          [
           "McAllen, TX"
          ],
          [
           "McAllen, TX"
          ],
          [
           "McAllen, TX"
          ],
          [
           "McAllen, TX"
          ],
          [
           "McAllen, TX"
          ],
          [
           "McAllen, TX"
          ],
          [
           "McAllen, TX"
          ],
          [
           "McAllen, TX"
          ],
          [
           "McAllen, TX"
          ],
          [
           "McAllen, TX"
          ],
          [
           "McAllen, TX"
          ],
          [
           "McAllen, TX"
          ],
          [
           "McAllen, TX"
          ],
          [
           "McAllen, TX"
          ],
          [
           "McAllen, TX"
          ],
          [
           "Tyler, TX"
          ],
          [
           "Tyler, TX"
          ],
          [
           "Tyler, TX"
          ],
          [
           "Tyler, TX"
          ],
          [
           "Tyler, TX"
          ],
          [
           "Tyler, TX"
          ],
          [
           "Tyler, TX"
          ],
          [
           "Tyler, TX"
          ],
          [
           "Tyler, TX"
          ],
          [
           "Tyler, TX"
          ],
          [
           "Tyler, TX"
          ],
          [
           "Tyler, TX"
          ],
          [
           "Tyler, TX"
          ],
          [
           "Tyler, TX"
          ],
          [
           "Tyler, TX"
          ],
          [
           "Tyler, TX"
          ],
          [
           "Tyler, TX"
          ],
          [
           "Tyler, TX"
          ],
          [
           "Tyler, TX"
          ],
          [
           "Tyler, TX"
          ],
          [
           "Tyler, TX"
          ],
          [
           "Tyler, TX"
          ],
          [
           "Tyler, TX"
          ],
          [
           "Tyler, TX"
          ],
          [
           "Tyler, TX"
          ],
          [
           "Tyler, TX"
          ],
          [
           "Tyler, TX"
          ],
          [
           "Tyler, TX"
          ],
          [
           "Tyler, TX"
          ],
          [
           "Tyler, TX"
          ],
          [
           "Tyler, TX"
          ],
          [
           "Tyler, TX"
          ],
          [
           "Tyler, TX"
          ],
          [
           "Tyler, TX"
          ],
          [
           "Tyler, TX"
          ],
          [
           "Tyler, TX"
          ],
          [
           "Tyler, TX"
          ],
          [
           "Tyler, TX"
          ],
          [
           "Tyler, TX"
          ],
          [
           "Tyler, TX"
          ],
          [
           "Tyler, TX"
          ],
          [
           "Tyler, TX"
          ],
          [
           "Tyler, TX"
          ],
          [
           "Tyler, TX"
          ],
          [
           "Tyler, TX"
          ],
          [
           "Tyler, TX"
          ],
          [
           "Tyler, TX"
          ],
          [
           "Tyler, TX"
          ],
          [
           "Tyler, TX"
          ],
          [
           "Tyler, TX"
          ],
          [
           "Tyler, TX"
          ],
          [
           "Tyler, TX"
          ],
          [
           "Tyler, TX"
          ],
          [
           "Tyler, TX"
          ],
          [
           "Tyler, TX"
          ],
          [
           "Tyler, TX"
          ],
          [
           "Tyler, TX"
          ],
          [
           "Tyler, TX"
          ],
          [
           "Tyler, TX"
          ],
          [
           "Tyler, TX"
          ],
          [
           "Tyler, TX"
          ],
          [
           "Tyler, TX"
          ],
          [
           "Tyler, TX"
          ],
          [
           "Tyler, TX"
          ],
          [
           "Tyler, TX"
          ],
          [
           "Tyler, TX"
          ],
          [
           "Tyler, TX"
          ],
          [
           "Tyler, TX"
          ],
          [
           "Tyler, TX"
          ],
          [
           "Tyler, TX"
          ],
          [
           "Tyler, TX"
          ],
          [
           "Tyler, TX"
          ],
          [
           "Tyler, TX"
          ],
          [
           "Tyler, TX"
          ],
          [
           "Tyler, TX"
          ],
          [
           "Tyler, TX"
          ],
          [
           "Waco, TX"
          ],
          [
           "Waco, TX"
          ],
          [
           "Waco, TX"
          ],
          [
           "Waco, TX"
          ],
          [
           "Waco, TX"
          ],
          [
           "Waco, TX"
          ],
          [
           "Waco, TX"
          ],
          [
           "Waco, TX"
          ],
          [
           "Waco, TX"
          ],
          [
           "Waco, TX"
          ],
          [
           "Waco, TX"
          ],
          [
           "Waco, TX"
          ],
          [
           "Waco, TX"
          ],
          [
           "Waco, TX"
          ],
          [
           "Waco, TX"
          ],
          [
           "Waco, TX"
          ],
          [
           "Waco, TX"
          ],
          [
           "Waco, TX"
          ],
          [
           "Waco, TX"
          ],
          [
           "Waco, TX"
          ],
          [
           "Waco, TX"
          ],
          [
           "Waco, TX"
          ],
          [
           "Waco, TX"
          ],
          [
           "Waco, TX"
          ],
          [
           "Waco, TX"
          ],
          [
           "Waco, TX"
          ],
          [
           "Waco, TX"
          ],
          [
           "Waco, TX"
          ],
          [
           "Waco, TX"
          ],
          [
           "Waco, TX"
          ],
          [
           "Waco, TX"
          ],
          [
           "Waco, TX"
          ],
          [
           "Waco, TX"
          ],
          [
           "Waco, TX"
          ],
          [
           "Waco, TX"
          ],
          [
           "Waco, TX"
          ],
          [
           "Waco, TX"
          ],
          [
           "Waco, TX"
          ],
          [
           "Waco, TX"
          ],
          [
           "Waco, TX"
          ],
          [
           "Waco, TX"
          ],
          [
           "Waco, TX"
          ],
          [
           "Waco, TX"
          ],
          [
           "Waco, TX"
          ],
          [
           "Waco, TX"
          ],
          [
           "Waco, TX"
          ],
          [
           "Waco, TX"
          ],
          [
           "Waco, TX"
          ],
          [
           "Waco, TX"
          ],
          [
           "Waco, TX"
          ],
          [
           "Waco, TX"
          ],
          [
           "Waco, TX"
          ],
          [
           "Waco, TX"
          ],
          [
           "Waco, TX"
          ],
          [
           "Waco, TX"
          ],
          [
           "Waco, TX"
          ],
          [
           "Waco, TX"
          ],
          [
           "Waco, TX"
          ],
          [
           "Waco, TX"
          ],
          [
           "Waco, TX"
          ],
          [
           "Waco, TX"
          ],
          [
           "Waco, TX"
          ],
          [
           "Waco, TX"
          ],
          [
           "Waco, TX"
          ],
          [
           "Waco, TX"
          ],
          [
           "Waco, TX"
          ],
          [
           "Waco, TX"
          ],
          [
           "Waco, TX"
          ],
          [
           "Waco, TX"
          ],
          [
           "Waco, TX"
          ],
          [
           "Waco, TX"
          ],
          [
           "Waco, TX"
          ],
          [
           "Waco, TX"
          ],
          [
           "Waco, TX"
          ],
          [
           "Waco, TX"
          ],
          [
           "Waco, TX"
          ]
         ],
         "hovertemplate": "Date=%{x}<br>HomeValue=%{y}<br>Location=%{customdata[0]}<extra></extra>",
         "legendgroup": "",
         "marker": {
          "color": "#636efa",
          "symbol": "circle"
         },
         "mode": "markers",
         "name": "",
         "orientation": "v",
         "showlegend": false,
         "type": "scatter",
         "x": [
          "2018-02-01T00:00:00",
          "2018-03-01T00:00:00",
          "2018-04-01T00:00:00",
          "2018-05-01T00:00:00",
          "2018-06-01T00:00:00",
          "2018-07-01T00:00:00",
          "2018-08-01T00:00:00",
          "2018-09-01T00:00:00",
          "2018-10-01T00:00:00",
          "2018-11-01T00:00:00",
          "2018-12-01T00:00:00",
          "2019-01-01T00:00:00",
          "2019-02-01T00:00:00",
          "2019-03-01T00:00:00",
          "2019-04-01T00:00:00",
          "2019-05-01T00:00:00",
          "2019-06-01T00:00:00",
          "2019-07-01T00:00:00",
          "2019-08-01T00:00:00",
          "2019-09-01T00:00:00",
          "2019-10-01T00:00:00",
          "2019-11-01T00:00:00",
          "2019-12-01T00:00:00",
          "2020-01-01T00:00:00",
          "2020-02-01T00:00:00",
          "2020-03-01T00:00:00",
          "2020-04-01T00:00:00",
          "2020-05-01T00:00:00",
          "2020-06-01T00:00:00",
          "2020-07-01T00:00:00",
          "2020-08-01T00:00:00",
          "2020-09-01T00:00:00",
          "2020-10-01T00:00:00",
          "2020-11-01T00:00:00",
          "2020-12-01T00:00:00",
          "2021-01-01T00:00:00",
          "2021-02-01T00:00:00",
          "2021-03-01T00:00:00",
          "2021-04-01T00:00:00",
          "2021-05-01T00:00:00",
          "2021-06-01T00:00:00",
          "2021-07-01T00:00:00",
          "2021-08-01T00:00:00",
          "2021-09-01T00:00:00",
          "2021-10-01T00:00:00",
          "2021-11-01T00:00:00",
          "2021-12-01T00:00:00",
          "2022-01-01T00:00:00",
          "2022-02-01T00:00:00",
          "2022-03-01T00:00:00",
          "2022-04-01T00:00:00",
          "2022-05-01T00:00:00",
          "2022-06-01T00:00:00",
          "2022-07-01T00:00:00",
          "2022-08-01T00:00:00",
          "2022-09-01T00:00:00",
          "2022-10-01T00:00:00",
          "2022-11-01T00:00:00",
          "2022-12-01T00:00:00",
          "2023-01-01T00:00:00",
          "2023-02-01T00:00:00",
          "2023-03-01T00:00:00",
          "2023-04-01T00:00:00",
          "2023-05-01T00:00:00",
          "2023-06-01T00:00:00",
          "2023-07-01T00:00:00",
          "2023-08-01T00:00:00",
          "2023-09-01T00:00:00",
          "2023-10-01T00:00:00",
          "2023-11-01T00:00:00",
          "2023-12-01T00:00:00",
          "2024-01-01T00:00:00",
          "2024-02-01T00:00:00",
          "2024-03-01T00:00:00",
          "2024-04-01T00:00:00",
          "2024-05-01T00:00:00",
          "2018-02-01T00:00:00",
          "2018-03-01T00:00:00",
          "2018-04-01T00:00:00",
          "2018-05-01T00:00:00",
          "2018-06-01T00:00:00",
          "2018-07-01T00:00:00",
          "2018-08-01T00:00:00",
          "2018-09-01T00:00:00",
          "2018-10-01T00:00:00",
          "2018-11-01T00:00:00",
          "2018-12-01T00:00:00",
          "2019-01-01T00:00:00",
          "2019-02-01T00:00:00",
          "2019-03-01T00:00:00",
          "2019-04-01T00:00:00",
          "2019-05-01T00:00:00",
          "2019-06-01T00:00:00",
          "2019-07-01T00:00:00",
          "2019-08-01T00:00:00",
          "2019-09-01T00:00:00",
          "2019-10-01T00:00:00",
          "2019-11-01T00:00:00",
          "2019-12-01T00:00:00",
          "2020-01-01T00:00:00",
          "2020-02-01T00:00:00",
          "2020-03-01T00:00:00",
          "2020-04-01T00:00:00",
          "2020-05-01T00:00:00",
          "2020-06-01T00:00:00",
          "2020-07-01T00:00:00",
          "2020-08-01T00:00:00",
          "2020-09-01T00:00:00",
          "2020-10-01T00:00:00",
          "2020-11-01T00:00:00",
          "2020-12-01T00:00:00",
          "2021-01-01T00:00:00",
          "2021-02-01T00:00:00",
          "2021-03-01T00:00:00",
          "2021-04-01T00:00:00",
          "2021-05-01T00:00:00",
          "2021-06-01T00:00:00",
          "2021-07-01T00:00:00",
          "2021-08-01T00:00:00",
          "2021-09-01T00:00:00",
          "2021-10-01T00:00:00",
          "2021-11-01T00:00:00",
          "2021-12-01T00:00:00",
          "2022-01-01T00:00:00",
          "2022-02-01T00:00:00",
          "2022-03-01T00:00:00",
          "2022-04-01T00:00:00",
          "2022-05-01T00:00:00",
          "2022-06-01T00:00:00",
          "2022-07-01T00:00:00",
          "2022-08-01T00:00:00",
          "2022-09-01T00:00:00",
          "2022-10-01T00:00:00",
          "2022-11-01T00:00:00",
          "2022-12-01T00:00:00",
          "2023-01-01T00:00:00",
          "2023-02-01T00:00:00",
          "2023-03-01T00:00:00",
          "2023-04-01T00:00:00",
          "2023-05-01T00:00:00",
          "2023-06-01T00:00:00",
          "2023-07-01T00:00:00",
          "2023-08-01T00:00:00",
          "2023-09-01T00:00:00",
          "2023-10-01T00:00:00",
          "2023-11-01T00:00:00",
          "2023-12-01T00:00:00",
          "2024-01-01T00:00:00",
          "2024-02-01T00:00:00",
          "2024-03-01T00:00:00",
          "2024-04-01T00:00:00",
          "2024-05-01T00:00:00",
          "2018-02-01T00:00:00",
          "2018-03-01T00:00:00",
          "2018-04-01T00:00:00",
          "2018-05-01T00:00:00",
          "2018-06-01T00:00:00",
          "2018-07-01T00:00:00",
          "2018-08-01T00:00:00",
          "2018-09-01T00:00:00",
          "2018-10-01T00:00:00",
          "2018-11-01T00:00:00",
          "2018-12-01T00:00:00",
          "2019-01-01T00:00:00",
          "2019-02-01T00:00:00",
          "2019-03-01T00:00:00",
          "2019-04-01T00:00:00",
          "2019-05-01T00:00:00",
          "2019-06-01T00:00:00",
          "2019-07-01T00:00:00",
          "2019-08-01T00:00:00",
          "2019-09-01T00:00:00",
          "2019-10-01T00:00:00",
          "2019-11-01T00:00:00",
          "2019-12-01T00:00:00",
          "2020-01-01T00:00:00",
          "2020-02-01T00:00:00",
          "2020-03-01T00:00:00",
          "2020-04-01T00:00:00",
          "2020-05-01T00:00:00",
          "2020-06-01T00:00:00",
          "2020-07-01T00:00:00",
          "2020-08-01T00:00:00",
          "2020-09-01T00:00:00",
          "2020-10-01T00:00:00",
          "2020-11-01T00:00:00",
          "2020-12-01T00:00:00",
          "2021-01-01T00:00:00",
          "2021-02-01T00:00:00",
          "2021-03-01T00:00:00",
          "2021-04-01T00:00:00",
          "2021-05-01T00:00:00",
          "2021-06-01T00:00:00",
          "2021-07-01T00:00:00",
          "2021-08-01T00:00:00",
          "2021-09-01T00:00:00",
          "2021-10-01T00:00:00",
          "2021-11-01T00:00:00",
          "2021-12-01T00:00:00",
          "2022-01-01T00:00:00",
          "2022-02-01T00:00:00",
          "2022-03-01T00:00:00",
          "2022-04-01T00:00:00",
          "2022-05-01T00:00:00",
          "2022-06-01T00:00:00",
          "2022-07-01T00:00:00",
          "2022-08-01T00:00:00",
          "2022-09-01T00:00:00",
          "2022-10-01T00:00:00",
          "2022-11-01T00:00:00",
          "2022-12-01T00:00:00",
          "2023-01-01T00:00:00",
          "2023-02-01T00:00:00",
          "2023-03-01T00:00:00",
          "2023-04-01T00:00:00",
          "2023-05-01T00:00:00",
          "2023-06-01T00:00:00",
          "2023-07-01T00:00:00",
          "2023-08-01T00:00:00",
          "2023-09-01T00:00:00",
          "2023-10-01T00:00:00",
          "2023-11-01T00:00:00",
          "2023-12-01T00:00:00",
          "2024-01-01T00:00:00",
          "2024-02-01T00:00:00",
          "2024-03-01T00:00:00",
          "2024-04-01T00:00:00",
          "2024-05-01T00:00:00",
          "2018-02-01T00:00:00",
          "2018-03-01T00:00:00",
          "2018-04-01T00:00:00",
          "2018-05-01T00:00:00",
          "2018-06-01T00:00:00",
          "2018-07-01T00:00:00",
          "2018-08-01T00:00:00",
          "2018-09-01T00:00:00",
          "2018-10-01T00:00:00",
          "2018-11-01T00:00:00",
          "2018-12-01T00:00:00",
          "2019-01-01T00:00:00",
          "2019-02-01T00:00:00",
          "2019-03-01T00:00:00",
          "2019-04-01T00:00:00",
          "2019-05-01T00:00:00",
          "2019-06-01T00:00:00",
          "2019-07-01T00:00:00",
          "2019-08-01T00:00:00",
          "2019-09-01T00:00:00",
          "2019-10-01T00:00:00",
          "2019-11-01T00:00:00",
          "2019-12-01T00:00:00",
          "2020-01-01T00:00:00",
          "2020-02-01T00:00:00",
          "2020-03-01T00:00:00",
          "2020-04-01T00:00:00",
          "2020-05-01T00:00:00",
          "2020-06-01T00:00:00",
          "2020-07-01T00:00:00",
          "2020-08-01T00:00:00",
          "2020-09-01T00:00:00",
          "2020-10-01T00:00:00",
          "2020-11-01T00:00:00",
          "2020-12-01T00:00:00",
          "2021-01-01T00:00:00",
          "2021-02-01T00:00:00",
          "2021-03-01T00:00:00",
          "2021-04-01T00:00:00",
          "2021-05-01T00:00:00",
          "2021-06-01T00:00:00",
          "2021-07-01T00:00:00",
          "2021-08-01T00:00:00",
          "2021-09-01T00:00:00",
          "2021-10-01T00:00:00",
          "2021-11-01T00:00:00",
          "2021-12-01T00:00:00",
          "2022-01-01T00:00:00",
          "2022-02-01T00:00:00",
          "2022-03-01T00:00:00",
          "2022-04-01T00:00:00",
          "2022-05-01T00:00:00",
          "2022-06-01T00:00:00",
          "2022-07-01T00:00:00",
          "2022-08-01T00:00:00",
          "2022-09-01T00:00:00",
          "2022-10-01T00:00:00",
          "2022-11-01T00:00:00",
          "2022-12-01T00:00:00",
          "2023-01-01T00:00:00",
          "2023-02-01T00:00:00",
          "2023-03-01T00:00:00",
          "2023-04-01T00:00:00",
          "2023-05-01T00:00:00",
          "2023-06-01T00:00:00",
          "2023-07-01T00:00:00",
          "2023-08-01T00:00:00",
          "2023-09-01T00:00:00",
          "2023-10-01T00:00:00",
          "2023-11-01T00:00:00",
          "2023-12-01T00:00:00",
          "2024-01-01T00:00:00",
          "2024-02-01T00:00:00",
          "2024-03-01T00:00:00",
          "2024-04-01T00:00:00",
          "2024-05-01T00:00:00",
          "2018-02-01T00:00:00",
          "2018-03-01T00:00:00",
          "2018-04-01T00:00:00",
          "2018-05-01T00:00:00",
          "2018-06-01T00:00:00",
          "2018-07-01T00:00:00",
          "2018-08-01T00:00:00",
          "2018-09-01T00:00:00",
          "2018-10-01T00:00:00",
          "2018-11-01T00:00:00",
          "2018-12-01T00:00:00",
          "2019-01-01T00:00:00",
          "2019-02-01T00:00:00",
          "2019-03-01T00:00:00",
          "2019-04-01T00:00:00",
          "2019-05-01T00:00:00",
          "2019-06-01T00:00:00",
          "2019-07-01T00:00:00",
          "2019-08-01T00:00:00",
          "2019-09-01T00:00:00",
          "2019-10-01T00:00:00",
          "2019-11-01T00:00:00",
          "2019-12-01T00:00:00",
          "2020-01-01T00:00:00",
          "2020-02-01T00:00:00",
          "2020-03-01T00:00:00",
          "2020-04-01T00:00:00",
          "2020-05-01T00:00:00",
          "2020-06-01T00:00:00",
          "2020-07-01T00:00:00",
          "2020-08-01T00:00:00",
          "2020-09-01T00:00:00",
          "2020-10-01T00:00:00",
          "2020-11-01T00:00:00",
          "2020-12-01T00:00:00",
          "2021-01-01T00:00:00",
          "2021-02-01T00:00:00",
          "2021-03-01T00:00:00",
          "2021-04-01T00:00:00",
          "2021-05-01T00:00:00",
          "2021-06-01T00:00:00",
          "2021-07-01T00:00:00",
          "2021-08-01T00:00:00",
          "2021-09-01T00:00:00",
          "2021-10-01T00:00:00",
          "2021-11-01T00:00:00",
          "2021-12-01T00:00:00",
          "2022-01-01T00:00:00",
          "2022-02-01T00:00:00",
          "2022-03-01T00:00:00",
          "2022-04-01T00:00:00",
          "2022-05-01T00:00:00",
          "2022-06-01T00:00:00",
          "2022-07-01T00:00:00",
          "2022-08-01T00:00:00",
          "2022-09-01T00:00:00",
          "2022-10-01T00:00:00",
          "2022-11-01T00:00:00",
          "2022-12-01T00:00:00",
          "2023-01-01T00:00:00",
          "2023-02-01T00:00:00",
          "2023-03-01T00:00:00",
          "2023-04-01T00:00:00",
          "2023-05-01T00:00:00",
          "2023-06-01T00:00:00",
          "2023-07-01T00:00:00",
          "2023-08-01T00:00:00",
          "2023-09-01T00:00:00",
          "2023-10-01T00:00:00",
          "2023-11-01T00:00:00",
          "2023-12-01T00:00:00",
          "2024-01-01T00:00:00",
          "2024-02-01T00:00:00",
          "2024-03-01T00:00:00",
          "2024-04-01T00:00:00",
          "2024-05-01T00:00:00",
          "2018-02-01T00:00:00",
          "2018-03-01T00:00:00",
          "2018-04-01T00:00:00",
          "2018-05-01T00:00:00",
          "2018-06-01T00:00:00",
          "2018-07-01T00:00:00",
          "2018-08-01T00:00:00",
          "2018-09-01T00:00:00",
          "2018-10-01T00:00:00",
          "2018-11-01T00:00:00",
          "2018-12-01T00:00:00",
          "2019-01-01T00:00:00",
          "2019-02-01T00:00:00",
          "2019-03-01T00:00:00",
          "2019-04-01T00:00:00",
          "2019-05-01T00:00:00",
          "2019-06-01T00:00:00",
          "2019-07-01T00:00:00",
          "2019-08-01T00:00:00",
          "2019-09-01T00:00:00",
          "2019-10-01T00:00:00",
          "2019-11-01T00:00:00",
          "2019-12-01T00:00:00",
          "2020-01-01T00:00:00",
          "2020-02-01T00:00:00",
          "2020-03-01T00:00:00",
          "2020-04-01T00:00:00",
          "2020-05-01T00:00:00",
          "2020-06-01T00:00:00",
          "2020-07-01T00:00:00",
          "2020-08-01T00:00:00",
          "2020-09-01T00:00:00",
          "2020-10-01T00:00:00",
          "2020-11-01T00:00:00",
          "2020-12-01T00:00:00",
          "2021-01-01T00:00:00",
          "2021-02-01T00:00:00",
          "2021-03-01T00:00:00",
          "2021-04-01T00:00:00",
          "2021-05-01T00:00:00",
          "2021-06-01T00:00:00",
          "2021-07-01T00:00:00",
          "2021-08-01T00:00:00",
          "2021-09-01T00:00:00",
          "2021-10-01T00:00:00",
          "2021-11-01T00:00:00",
          "2021-12-01T00:00:00",
          "2022-01-01T00:00:00",
          "2022-02-01T00:00:00",
          "2022-03-01T00:00:00",
          "2022-04-01T00:00:00",
          "2022-05-01T00:00:00",
          "2022-06-01T00:00:00",
          "2022-07-01T00:00:00",
          "2022-08-01T00:00:00",
          "2022-09-01T00:00:00",
          "2022-10-01T00:00:00",
          "2022-11-01T00:00:00",
          "2022-12-01T00:00:00",
          "2023-01-01T00:00:00",
          "2023-02-01T00:00:00",
          "2023-03-01T00:00:00",
          "2023-04-01T00:00:00",
          "2023-05-01T00:00:00",
          "2023-06-01T00:00:00",
          "2023-07-01T00:00:00",
          "2023-08-01T00:00:00",
          "2023-09-01T00:00:00",
          "2023-10-01T00:00:00",
          "2023-11-01T00:00:00",
          "2023-12-01T00:00:00",
          "2024-01-01T00:00:00",
          "2024-02-01T00:00:00",
          "2024-03-01T00:00:00",
          "2024-04-01T00:00:00",
          "2024-05-01T00:00:00",
          "2018-02-01T00:00:00",
          "2018-03-01T00:00:00",
          "2018-04-01T00:00:00",
          "2018-05-01T00:00:00",
          "2018-06-01T00:00:00",
          "2018-07-01T00:00:00",
          "2018-08-01T00:00:00",
          "2018-09-01T00:00:00",
          "2018-10-01T00:00:00",
          "2018-11-01T00:00:00",
          "2018-12-01T00:00:00",
          "2019-01-01T00:00:00",
          "2019-02-01T00:00:00",
          "2019-03-01T00:00:00",
          "2019-04-01T00:00:00",
          "2019-05-01T00:00:00",
          "2019-06-01T00:00:00",
          "2019-07-01T00:00:00",
          "2019-08-01T00:00:00",
          "2019-09-01T00:00:00",
          "2019-10-01T00:00:00",
          "2019-11-01T00:00:00",
          "2019-12-01T00:00:00",
          "2020-01-01T00:00:00",
          "2020-02-01T00:00:00",
          "2020-03-01T00:00:00",
          "2020-04-01T00:00:00",
          "2020-05-01T00:00:00",
          "2020-06-01T00:00:00",
          "2020-07-01T00:00:00",
          "2020-08-01T00:00:00",
          "2020-09-01T00:00:00",
          "2020-10-01T00:00:00",
          "2020-11-01T00:00:00",
          "2020-12-01T00:00:00",
          "2021-01-01T00:00:00",
          "2021-02-01T00:00:00",
          "2021-03-01T00:00:00",
          "2021-04-01T00:00:00",
          "2021-05-01T00:00:00",
          "2021-06-01T00:00:00",
          "2021-07-01T00:00:00",
          "2021-08-01T00:00:00",
          "2021-09-01T00:00:00",
          "2021-10-01T00:00:00",
          "2021-11-01T00:00:00",
          "2021-12-01T00:00:00",
          "2022-01-01T00:00:00",
          "2022-02-01T00:00:00",
          "2022-03-01T00:00:00",
          "2022-04-01T00:00:00",
          "2022-05-01T00:00:00",
          "2022-06-01T00:00:00",
          "2022-07-01T00:00:00",
          "2022-08-01T00:00:00",
          "2022-09-01T00:00:00",
          "2022-10-01T00:00:00",
          "2022-11-01T00:00:00",
          "2022-12-01T00:00:00",
          "2023-01-01T00:00:00",
          "2023-02-01T00:00:00",
          "2023-03-01T00:00:00",
          "2023-04-01T00:00:00",
          "2023-05-01T00:00:00",
          "2023-06-01T00:00:00",
          "2023-07-01T00:00:00",
          "2023-08-01T00:00:00",
          "2023-09-01T00:00:00",
          "2023-10-01T00:00:00",
          "2023-11-01T00:00:00",
          "2023-12-01T00:00:00",
          "2024-01-01T00:00:00",
          "2024-02-01T00:00:00",
          "2024-03-01T00:00:00",
          "2024-04-01T00:00:00",
          "2024-05-01T00:00:00",
          "2018-02-01T00:00:00",
          "2018-03-01T00:00:00",
          "2018-04-01T00:00:00",
          "2018-05-01T00:00:00",
          "2018-06-01T00:00:00",
          "2018-07-01T00:00:00",
          "2018-08-01T00:00:00",
          "2018-09-01T00:00:00",
          "2018-10-01T00:00:00",
          "2018-11-01T00:00:00",
          "2018-12-01T00:00:00",
          "2019-01-01T00:00:00",
          "2019-02-01T00:00:00",
          "2019-03-01T00:00:00",
          "2019-04-01T00:00:00",
          "2019-05-01T00:00:00",
          "2019-06-01T00:00:00",
          "2019-07-01T00:00:00",
          "2019-08-01T00:00:00",
          "2019-09-01T00:00:00",
          "2019-10-01T00:00:00",
          "2019-11-01T00:00:00",
          "2019-12-01T00:00:00",
          "2020-01-01T00:00:00",
          "2020-02-01T00:00:00",
          "2020-03-01T00:00:00",
          "2020-04-01T00:00:00",
          "2020-05-01T00:00:00",
          "2020-06-01T00:00:00",
          "2020-07-01T00:00:00",
          "2020-08-01T00:00:00",
          "2020-09-01T00:00:00",
          "2020-10-01T00:00:00",
          "2020-11-01T00:00:00",
          "2020-12-01T00:00:00",
          "2021-01-01T00:00:00",
          "2021-02-01T00:00:00",
          "2021-03-01T00:00:00",
          "2021-04-01T00:00:00",
          "2021-05-01T00:00:00",
          "2021-06-01T00:00:00",
          "2021-07-01T00:00:00",
          "2021-08-01T00:00:00",
          "2021-09-01T00:00:00",
          "2021-10-01T00:00:00",
          "2021-11-01T00:00:00",
          "2021-12-01T00:00:00",
          "2022-01-01T00:00:00",
          "2022-02-01T00:00:00",
          "2022-03-01T00:00:00",
          "2022-04-01T00:00:00",
          "2022-05-01T00:00:00",
          "2022-06-01T00:00:00",
          "2022-07-01T00:00:00",
          "2022-08-01T00:00:00",
          "2022-09-01T00:00:00",
          "2022-10-01T00:00:00",
          "2022-11-01T00:00:00",
          "2022-12-01T00:00:00",
          "2023-01-01T00:00:00",
          "2023-02-01T00:00:00",
          "2023-03-01T00:00:00",
          "2023-04-01T00:00:00",
          "2023-05-01T00:00:00",
          "2023-06-01T00:00:00",
          "2023-07-01T00:00:00",
          "2023-08-01T00:00:00",
          "2023-09-01T00:00:00",
          "2023-10-01T00:00:00",
          "2023-11-01T00:00:00",
          "2023-12-01T00:00:00",
          "2024-01-01T00:00:00",
          "2024-02-01T00:00:00",
          "2024-03-01T00:00:00",
          "2024-04-01T00:00:00",
          "2024-05-01T00:00:00",
          "2018-02-01T00:00:00",
          "2018-03-01T00:00:00",
          "2018-04-01T00:00:00",
          "2018-05-01T00:00:00",
          "2018-06-01T00:00:00",
          "2018-07-01T00:00:00",
          "2018-08-01T00:00:00",
          "2018-09-01T00:00:00",
          "2018-10-01T00:00:00",
          "2018-11-01T00:00:00",
          "2018-12-01T00:00:00",
          "2019-01-01T00:00:00",
          "2019-02-01T00:00:00",
          "2019-03-01T00:00:00",
          "2019-04-01T00:00:00",
          "2019-05-01T00:00:00",
          "2019-06-01T00:00:00",
          "2019-07-01T00:00:00",
          "2019-08-01T00:00:00",
          "2019-09-01T00:00:00",
          "2019-10-01T00:00:00",
          "2019-11-01T00:00:00",
          "2019-12-01T00:00:00",
          "2020-01-01T00:00:00",
          "2020-02-01T00:00:00",
          "2020-03-01T00:00:00",
          "2020-04-01T00:00:00",
          "2020-05-01T00:00:00",
          "2020-06-01T00:00:00",
          "2020-07-01T00:00:00",
          "2020-08-01T00:00:00",
          "2020-09-01T00:00:00",
          "2020-10-01T00:00:00",
          "2020-11-01T00:00:00",
          "2020-12-01T00:00:00",
          "2021-01-01T00:00:00",
          "2021-02-01T00:00:00",
          "2021-03-01T00:00:00",
          "2021-04-01T00:00:00",
          "2021-05-01T00:00:00",
          "2021-06-01T00:00:00",
          "2021-07-01T00:00:00",
          "2021-08-01T00:00:00",
          "2021-09-01T00:00:00",
          "2021-10-01T00:00:00",
          "2021-11-01T00:00:00",
          "2021-12-01T00:00:00",
          "2022-01-01T00:00:00",
          "2022-02-01T00:00:00",
          "2022-03-01T00:00:00",
          "2022-04-01T00:00:00",
          "2022-05-01T00:00:00",
          "2022-06-01T00:00:00",
          "2022-07-01T00:00:00",
          "2022-08-01T00:00:00",
          "2022-09-01T00:00:00",
          "2022-10-01T00:00:00",
          "2022-11-01T00:00:00",
          "2022-12-01T00:00:00",
          "2023-01-01T00:00:00",
          "2023-02-01T00:00:00",
          "2023-03-01T00:00:00",
          "2023-04-01T00:00:00",
          "2023-05-01T00:00:00",
          "2023-06-01T00:00:00",
          "2023-07-01T00:00:00",
          "2023-08-01T00:00:00",
          "2023-09-01T00:00:00",
          "2023-10-01T00:00:00",
          "2023-11-01T00:00:00",
          "2023-12-01T00:00:00",
          "2024-01-01T00:00:00",
          "2024-02-01T00:00:00",
          "2024-03-01T00:00:00",
          "2024-04-01T00:00:00",
          "2024-05-01T00:00:00"
         ],
         "xaxis": "x",
         "y": [
          130232.82596440928,
          131259.4637199285,
          132094.2105850359,
          132809.1290000485,
          133046.0930375165,
          133455.74601581262,
          134210.25530840122,
          135241.58974019295,
          136337.34731700888,
          137857.98293259306,
          139173.63382516478,
          140208.18956835198,
          140994.0858765582,
          142121.55428644925,
          143439.20037086165,
          144822.10300935002,
          145944.90748561706,
          147089.75163044003,
          148012.73917665635,
          148827.96968525203,
          149699.00464402398,
          150594.47847843796,
          151746.34806711986,
          152418.11329887685,
          152927.30399206342,
          153342.25724241525,
          154006.56846303985,
          154449.9810071976,
          154596.46497007966,
          155257.32805961624,
          156703.8770878027,
          158705.03543478422,
          159665.4944269132,
          159643.6948572995,
          158776.37452698062,
          158592.69278508108,
          159354.75756510985,
          160549.75334328366,
          161814.74232479595,
          162725.99457861955,
          163817.868992819,
          164726.2755114952,
          165408.77127761478,
          165794.12881332333,
          166389.1901943639,
          167456.68448894334,
          168456.7652368569,
          169548.9286825565,
          170182.77916497775,
          170490.09601382658,
          170541.88317792237,
          170721.63314826728,
          171515.90970756754,
          172035.61828505847,
          172187.90715522625,
          171895.0125009863,
          171803.69069068055,
          171515.28960787968,
          170745.9161243067,
          170023.23059994975,
          169203.65830460622,
          168403.65998527044,
          167808.12225018803,
          167382.85779985247,
          167298.16926335075,
          166516.7597737076,
          165561.03915920234,
          164099.47214842765,
          162666.78024646093,
          161594.02302297586,
          160758.64685520562,
          160387.0494472546,
          160619.77201921132,
          161904.2876672397,
          163549.5297749846,
          164604.4184592069,
          119749.60387266598,
          119754.73236788716,
          119642.75843194568,
          119802.24057282896,
          119777.93020088224,
          120062.5898336882,
          120140.6223565686,
          120232.897268827,
          120132.04662250222,
          120536.41129971674,
          120977.47305577336,
          120293.8138402836,
          118870.91033499122,
          117245.28748091012,
          116567.49628905252,
          116400.8845588272,
          116497.85259052762,
          116898.09437335418,
          117357.03749081092,
          117843.86042387356,
          118390.37716633597,
          118952.72260136517,
          119532.3829057036,
          120169.1732432028,
          121053.9346217537,
          122177.66136084028,
          123333.45804609012,
          124245.12780001924,
          124984.27460220404,
          126047.91157811297,
          127672.25931814934,
          129775.87699820078,
          131496.4572431006,
          133030.40980684746,
          134148.05717830223,
          135658.6638124146,
          137290.4536159092,
          139372.64720710358,
          141697.4092247264,
          144492.82501567373,
          147926.11984980424,
          151342.17905799134,
          154113.88689189358,
          155446.94043856958,
          156800.89918993818,
          158677.47295107236,
          160990.12179771304,
          163518.92419611043,
          165816.43114560537,
          168128.0869268574,
          170076.04594967063,
          171812.11868748785,
          173755.52082527053,
          174883.6169932876,
          175450.57076553183,
          175414.30319879416,
          175988.58557069892,
          176565.81233128975,
          177116.2082358486,
          178111.1216095671,
          179810.5360451,
          182487.2931575381,
          184863.3446565204,
          186198.17866322948,
          186722.47702798664,
          186718.79628900543,
          186873.0660784091,
          186876.83396762895,
          186655.6551094041,
          186444.8124364562,
          185862.32427758627,
          186339.91633052845,
          187803.51854223607,
          189972.726719482,
          191397.7695799619,
          192062.31455058567,
          220742.8114242305,
          221878.7676239865,
          222805.3440713597,
          223601.31378575,
          223997.42709157555,
          224556.73931529265,
          225320.54886528652,
          226139.51080385657,
          226604.327847694,
          226990.01042900595,
          227365.52083536136,
          227323.573284313,
          226959.01041282385,
          226329.13777998544,
          225779.3156502992,
          225234.10302390112,
          224564.01416929247,
          224203.0075985586,
          224130.6347696045,
          224230.11677436263,
          224433.8531823696,
          224842.8676334672,
          225470.18596346528,
          226217.98124813905,
          226877.27514503975,
          227551.5375789626,
          228157.3540104564,
          228489.24832741695,
          228716.28231911024,
          229325.424948904,
          230587.3561856098,
          232584.219500708,
          234670.60236820733,
          236665.0961774637,
          238356.19943237255,
          239960.7281553902,
          241352.91166699503,
          242271.33324590372,
          242902.6607981996,
          244327.48525944585,
          246731.9092287733,
          249934.09315686623,
          252575.9724014399,
          254305.59126471748,
          255904.26204535452,
          258276.12318934765,
          261371.2481755196,
          264733.29088836367,
          267716.2977755266,
          270856.5021673611,
          274140.747241939,
          277584.2186124097,
          280638.581519073,
          282525.1879229806,
          283213.6846257184,
          283046.099106799,
          282941.42162262293,
          283093.0243009466,
          283717.64627341536,
          284594.61561973154,
          285886.2582209289,
          287382.8272308247,
          289248.3147888075,
          291333.57317672606,
          293505.9267932459,
          295053.6520362306,
          295826.92829602543,
          295499.3856476574,
          294582.3816078503,
          293957.8854484137,
          293679.8607545275,
          294405.0676794343,
          295515.002221864,
          297338.5618935188,
          298789.0258093045,
          299440.0749077239,
          166118.0015936902,
          166855.61135901642,
          167178.0446159639,
          167304.68886126808,
          167074.56656716674,
          167089.65820288254,
          167229.7019127319,
          167447.01512690945,
          167466.0194387644,
          167745.6351497633,
          168121.76195075733,
          168226.94771683082,
          168230.3212627142,
          168580.61974040387,
          169625.21322273143,
          171054.69693515913,
          172628.36821299457,
          174005.20488663993,
          175242.2599467178,
          176242.54564190374,
          177238.30573543083,
          178262.37946408227,
          179449.01237071946,
          180299.18321641177,
          180785.88362522816,
          180880.10258123977,
          181353.6925468011,
          181724.07840681763,
          182300.5539304712,
          183463.6206520712,
          185368.1279041837,
          187587.54728696015,
          188721.9204912393,
          189129.0038848865,
          189045.19194459837,
          190027.7983183806,
          191945.2209862127,
          194381.81946784828,
          196893.64863056815,
          198875.85499403407,
          200845.4099889874,
          202376.39681533695,
          203786.1928318581,
          204779.4681021213,
          205806.852330348,
          207467.11778120245,
          209294.85318154105,
          211458.48981407852,
          213276.76178545447,
          215380.4786801189,
          217334.88486788824,
          219430.46633795183,
          221301.48409689023,
          222403.59343469384,
          222458.54894811547,
          221946.23988416785,
          221766.2000000184,
          221619.33432596584,
          221012.67674893184,
          220078.45220267275,
          218943.59345696936,
          218334.10739044205,
          218429.77476568404,
          219409.62009732323,
          220698.3293582957,
          221530.98198013369,
          221953.9190046415,
          221659.59168396765,
          221102.1541817748,
          220294.87698300465,
          219390.66931917684,
          218974.53003759528,
          219048.3051854096,
          219816.882166894,
          220529.97743082207,
          221027.2923864607,
          241533.2317998944,
          243401.18062163447,
          245066.6679000393,
          246632.055246072,
          247698.530484896,
          248795.15686098943,
          249618.96024742303,
          250369.5333821096,
          250809.2077771818,
          251298.01769884207,
          252006.96087103875,
          252932.20211666095,
          253934.7806518794,
          254797.0753960997,
          255271.13451549248,
          255465.9107372434,
          255526.5290521857,
          255623.1857022525,
          255865.89565810663,
          256249.40705657416,
          256944.09219659725,
          257925.33088980225,
          259140.125874058,
          260680.2664683239,
          262243.06768329407,
          263729.0958530653,
          264511.3550411114,
          264501.95772960834,
          264284.6108692232,
          264647.39614845737,
          266082.84441934223,
          268575.1964415133,
          271684.785505315,
          275322.43866438605,
          278998.01153311384,
          282885.046983205,
          286997.3581185272,
          291580.80811756104,
          296647.25338210264,
          302484.63037659554,
          308595.3634749222,
          314132.0124939936,
          318423.0016112922,
          321780.19828602485,
          325351.70178570173,
          329758.5932858408,
          334817.03563828446,
          341846.5004815559,
          350284.2850831554,
          359859.3476970634,
          369318.6192154929,
          377881.3874606388,
          385221.6058786739,
          389253.4122202708,
          389922.8673119975,
          388206.2572981782,
          386124.3739924052,
          384192.7786770056,
          382182.6784689615,
          379592.6168153885,
          377283.6952041017,
          375717.42928008287,
          375155.2769509505,
          375446.6992790301,
          376280.6714486769,
          377276.59359260096,
          378216.3482993771,
          378639.42740027775,
          378756.143029818,
          378614.73156748194,
          378282.4782840258,
          378304.5408275651,
          378794.93540095934,
          379972.3496666262,
          380957.3923948121,
          381103.62585133937,
          208651.87227200915,
          209394.15774940996,
          210193.45882467725,
          211188.5476963647,
          212022.6110658584,
          212965.24787162023,
          213762.8576806239,
          214562.25982286345,
          215225.4105533084,
          215958.60236936496,
          216742.2782004479,
          217559.75302762171,
          218406.6653163856,
          219212.48609715712,
          219813.01799342988,
          220264.6624501937,
          220576.5116376398,
          220893.946390034,
          221259.98558647756,
          221728.36466511525,
          222362.3693830055,
          223233.28486446143,
          224177.14631848276,
          225149.96306974732,
          226000.0161207904,
          226814.06308532227,
          227318.70189625863,
          227317.16624516796,
          227275.08658598308,
          227675.8414386484,
          228844.42319553692,
          230620.1537056613,
          232796.5700230433,
          235445.82059316317,
          238110.0782683168,
          240881.42402539137,
          243676.48579641816,
          246778.8024069694,
          250135.2290261465,
          254026.4140652574,
          258288.8800849705,
          262224.8896335086,
          265272.5063708288,
          267559.0755529756,
          270087.3107528386,
          273272.80242266954,
          276862.3485257619,
          281462.1296988184,
          286669.26550962194,
          292740.2948093656,
          298570.7903601615,
          303908.2627487078,
          308460.793862114,
          311526.8262448658,
          312850.72328044724,
          312763.53071146645,
          312234.3882518885,
          311599.2754477028,
          310404.1972824221,
          308611.2528665503,
          306908.9265603334,
          305742.4645551119,
          305287.1301520963,
          305444.39915997913,
          306261.7391084027,
          307198.9008350301,
          308087.64291303104,
          308449.84128639294,
          308475.8640738434,
          308187.1962040974,
          307768.39441865304,
          307762.3171161316,
          308143.615241629,
          309138.2605107803,
          310167.057071235,
          310706.91531119635,
          105348.86443083428,
          106010.93518785929,
          106631.44701245852,
          107354.21581003407,
          107945.7024540172,
          108467.14690045384,
          108768.65933935944,
          109093.50587796512,
          109246.0319095044,
          109532.75632385492,
          109726.22529657936,
          109632.83081077693,
          109429.6981041025,
          109468.34680968136,
          110118.50382332016,
          111045.15795761097,
          112058.24509627798,
          113099.78750615576,
          113861.6103694796,
          114408.39934169604,
          114971.02781266964,
          115739.448817263,
          116549.40392724868,
          117200.25225720702,
          118032.27003958466,
          118937.13757168164,
          119863.9847287332,
          120463.9475474044,
          121037.840079255,
          121958.8783353025,
          123386.90402025744,
          125125.33348184008,
          127071.8099012712,
          129293.55425380517,
          131484.00833168154,
          133482.5704647109,
          135183.85947194658,
          136780.80814662043,
          138384.86455272575,
          140088.11673120531,
          142115.46852572603,
          143608.47442381794,
          144402.38521887502,
          144284.78949278794,
          144749.2123975232,
          145836.37516457494,
          147481.13782892746,
          150181.61487398567,
          153567.09833798787,
          157563.90532678625,
          160617.26575329909,
          163215.6415707299,
          165651.33882086803,
          168056.36108141684,
          169844.95026104402,
          170910.74967149677,
          171589.52724138522,
          172064.79687268205,
          172159.8791241195,
          172098.1964547107,
          172409.42721092282,
          173287.10149159367,
          174559.74644122444,
          175987.25425149428,
          177248.27600244162,
          178120.2587915638,
          178759.37645026765,
          179729.59340127624,
          181217.43024567157,
          182886.13973334595,
          184154.42054317956,
          184846.63599344535,
          185285.42081528905,
          185919.5645939931,
          186698.65946572836,
          187201.08350917615,
          168485.0061364095,
          169040.6770988302,
          169589.61109308712,
          170693.50363214695,
          171586.08153160816,
          172337.0174708957,
          172910.16569178549,
          173518.77302707575,
          173889.0090286981,
          174205.91160129523,
          174357.43520165546,
          174293.05284736407,
          173953.73065937066,
          173804.75701808813,
          173990.4936395732,
          174567.2835021003,
          175303.7368539569,
          176378.3908765189,
          177395.98050601408,
          178311.99610744196,
          179212.58224728398,
          180452.72076112524,
          181805.54964863163,
          183110.07930405543,
          184046.826888507,
          184915.8213237541,
          185727.1877647057,
          186507.019611658,
          187320.78092745645,
          188480.88301658165,
          190111.22629201144,
          192369.206645151,
          194495.7862563208,
          196700.6399843121,
          198177.98319803237,
          199737.3125897471,
          201469.64147526355,
          203641.64725679925,
          205917.06613388905,
          208644.0432651796,
          211897.43268268043,
          215623.3680983331,
          219019.3250878339,
          221877.463527136,
          224402.8659989865,
          227394.3225260125,
          230489.7417866077,
          233998.3970746341,
          236995.04798994857,
          239930.42408026173,
          243061.79351031425,
          246775.2391713321,
          250986.7957461444,
          254122.3439313492,
          256021.0870015901,
          256553.7112371244,
          256927.39981532897,
          257366.5644863774,
          258394.63372749407,
          259721.74567791203,
          261044.73767388143,
          262687.9209040738,
          264370.2825300831,
          266496.6917480639,
          268689.63257021963,
          270491.9623849018,
          271521.89553558326,
          271596.9791352114,
          271591.66073741025,
          271345.30850672774,
          270636.4789247042,
          270135.9233572016,
          270679.72393441893,
          272107.38226380403,
          273168.2106861078,
          273020.0797830662,
          147563.29262679044,
          148772.3597652636,
          149736.88504088804,
          150905.80605364367,
          151842.53017098553,
          152957.40436307577,
          153850.1438903759,
          154801.78861506275,
          155543.22779627587,
          156408.2513465427,
          157071.22962277255,
          157922.1630217985,
          158834.1028481848,
          159875.79989165743,
          160885.43187662607,
          161880.61906093478,
          162873.7083428544,
          163684.61333876345,
          164219.7983915475,
          164645.24429942566,
          165310.62695176725,
          166116.06887095506,
          167032.50949472215,
          168068.85734387653,
          169332.24643312022,
          170737.2815160354,
          171821.9862672824,
          172566.19104905284,
          173202.54072993243,
          174359.47703704843,
          176172.71161435742,
          178641.77668411107,
          181528.7549575416,
          184649.88956708755,
          187429.0253993073,
          189791.731783482,
          192235.82748593492,
          195022.70246926203,
          198347.94949085545,
          202076.6105532512,
          206632.37442584,
          211063.37849084023,
          214557.4793422744,
          216819.81220161528,
          218708.34700458104,
          221047.4852935515,
          223560.5977827392,
          227545.43938122268,
          232448.34988101537,
          238672.73808972372,
          244474.7378468027,
          249699.47074591523,
          253858.03384564733,
          256476.48252951456,
          257290.33304799435,
          256906.28083901523,
          256354.23653273165,
          255992.51263585585,
          255426.054418929,
          254455.87782892585,
          253591.2944350057,
          253196.8438536067,
          253746.58886819892,
          254775.0237512045,
          256192.8614573048,
          257023.5796062127,
          257402.47867023965,
          256730.21109617964,
          255704.29133200995,
          254544.1554143941,
          253853.6396147936,
          253916.1892387349,
          254722.52457478276,
          256018.7604383028,
          257400.70698226104,
          258148.87167404915
         ],
         "yaxis": "y"
        }
       ],
       "layout": {
        "autosize": true,
        "legend": {
         "tracegroupgap": 0
        },
        "template": {
         "data": {
          "bar": [
           {
            "error_x": {
             "color": "#2a3f5f"
            },
            "error_y": {
             "color": "#2a3f5f"
            },
            "marker": {
             "line": {
              "color": "#E5ECF6",
              "width": 0.5
             },
             "pattern": {
              "fillmode": "overlay",
              "size": 10,
              "solidity": 0.2
             }
            },
            "type": "bar"
           }
          ],
          "barpolar": [
           {
            "marker": {
             "line": {
              "color": "#E5ECF6",
              "width": 0.5
             },
             "pattern": {
              "fillmode": "overlay",
              "size": 10,
              "solidity": 0.2
             }
            },
            "type": "barpolar"
           }
          ],
          "carpet": [
           {
            "aaxis": {
             "endlinecolor": "#2a3f5f",
             "gridcolor": "white",
             "linecolor": "white",
             "minorgridcolor": "white",
             "startlinecolor": "#2a3f5f"
            },
            "baxis": {
             "endlinecolor": "#2a3f5f",
             "gridcolor": "white",
             "linecolor": "white",
             "minorgridcolor": "white",
             "startlinecolor": "#2a3f5f"
            },
            "type": "carpet"
           }
          ],
          "choropleth": [
           {
            "colorbar": {
             "outlinewidth": 0,
             "ticks": ""
            },
            "type": "choropleth"
           }
          ],
          "contour": [
           {
            "colorbar": {
             "outlinewidth": 0,
             "ticks": ""
            },
            "colorscale": [
             [
              0,
              "#0d0887"
             ],
             [
              0.1111111111111111,
              "#46039f"
             ],
             [
              0.2222222222222222,
              "#7201a8"
             ],
             [
              0.3333333333333333,
              "#9c179e"
             ],
             [
              0.4444444444444444,
              "#bd3786"
             ],
             [
              0.5555555555555556,
              "#d8576b"
             ],
             [
              0.6666666666666666,
              "#ed7953"
             ],
             [
              0.7777777777777778,
              "#fb9f3a"
             ],
             [
              0.8888888888888888,
              "#fdca26"
             ],
             [
              1,
              "#f0f921"
             ]
            ],
            "type": "contour"
           }
          ],
          "contourcarpet": [
           {
            "colorbar": {
             "outlinewidth": 0,
             "ticks": ""
            },
            "type": "contourcarpet"
           }
          ],
          "heatmap": [
           {
            "colorbar": {
             "outlinewidth": 0,
             "ticks": ""
            },
            "colorscale": [
             [
              0,
              "#0d0887"
             ],
             [
              0.1111111111111111,
              "#46039f"
             ],
             [
              0.2222222222222222,
              "#7201a8"
             ],
             [
              0.3333333333333333,
              "#9c179e"
             ],
             [
              0.4444444444444444,
              "#bd3786"
             ],
             [
              0.5555555555555556,
              "#d8576b"
             ],
             [
              0.6666666666666666,
              "#ed7953"
             ],
             [
              0.7777777777777778,
              "#fb9f3a"
             ],
             [
              0.8888888888888888,
              "#fdca26"
             ],
             [
              1,
              "#f0f921"
             ]
            ],
            "type": "heatmap"
           }
          ],
          "heatmapgl": [
           {
            "colorbar": {
             "outlinewidth": 0,
             "ticks": ""
            },
            "colorscale": [
             [
              0,
              "#0d0887"
             ],
             [
              0.1111111111111111,
              "#46039f"
             ],
             [
              0.2222222222222222,
              "#7201a8"
             ],
             [
              0.3333333333333333,
              "#9c179e"
             ],
             [
              0.4444444444444444,
              "#bd3786"
             ],
             [
              0.5555555555555556,
              "#d8576b"
             ],
             [
              0.6666666666666666,
              "#ed7953"
             ],
             [
              0.7777777777777778,
              "#fb9f3a"
             ],
             [
              0.8888888888888888,
              "#fdca26"
             ],
             [
              1,
              "#f0f921"
             ]
            ],
            "type": "heatmapgl"
           }
          ],
          "histogram": [
           {
            "marker": {
             "pattern": {
              "fillmode": "overlay",
              "size": 10,
              "solidity": 0.2
             }
            },
            "type": "histogram"
           }
          ],
          "histogram2d": [
           {
            "colorbar": {
             "outlinewidth": 0,
             "ticks": ""
            },
            "colorscale": [
             [
              0,
              "#0d0887"
             ],
             [
              0.1111111111111111,
              "#46039f"
             ],
             [
              0.2222222222222222,
              "#7201a8"
             ],
             [
              0.3333333333333333,
              "#9c179e"
             ],
             [
              0.4444444444444444,
              "#bd3786"
             ],
             [
              0.5555555555555556,
              "#d8576b"
             ],
             [
              0.6666666666666666,
              "#ed7953"
             ],
             [
              0.7777777777777778,
              "#fb9f3a"
             ],
             [
              0.8888888888888888,
              "#fdca26"
             ],
             [
              1,
              "#f0f921"
             ]
            ],
            "type": "histogram2d"
           }
          ],
          "histogram2dcontour": [
           {
            "colorbar": {
             "outlinewidth": 0,
             "ticks": ""
            },
            "colorscale": [
             [
              0,
              "#0d0887"
             ],
             [
              0.1111111111111111,
              "#46039f"
             ],
             [
              0.2222222222222222,
              "#7201a8"
             ],
             [
              0.3333333333333333,
              "#9c179e"
             ],
             [
              0.4444444444444444,
              "#bd3786"
             ],
             [
              0.5555555555555556,
              "#d8576b"
             ],
             [
              0.6666666666666666,
              "#ed7953"
             ],
             [
              0.7777777777777778,
              "#fb9f3a"
             ],
             [
              0.8888888888888888,
              "#fdca26"
             ],
             [
              1,
              "#f0f921"
             ]
            ],
            "type": "histogram2dcontour"
           }
          ],
          "mesh3d": [
           {
            "colorbar": {
             "outlinewidth": 0,
             "ticks": ""
            },
            "type": "mesh3d"
           }
          ],
          "parcoords": [
           {
            "line": {
             "colorbar": {
              "outlinewidth": 0,
              "ticks": ""
             }
            },
            "type": "parcoords"
           }
          ],
          "pie": [
           {
            "automargin": true,
            "type": "pie"
           }
          ],
          "scatter": [
           {
            "fillpattern": {
             "fillmode": "overlay",
             "size": 10,
             "solidity": 0.2
            },
            "type": "scatter"
           }
          ],
          "scatter3d": [
           {
            "line": {
             "colorbar": {
              "outlinewidth": 0,
              "ticks": ""
             }
            },
            "marker": {
             "colorbar": {
              "outlinewidth": 0,
              "ticks": ""
             }
            },
            "type": "scatter3d"
           }
          ],
          "scattercarpet": [
           {
            "marker": {
             "colorbar": {
              "outlinewidth": 0,
              "ticks": ""
             }
            },
            "type": "scattercarpet"
           }
          ],
          "scattergeo": [
           {
            "marker": {
             "colorbar": {
              "outlinewidth": 0,
              "ticks": ""
             }
            },
            "type": "scattergeo"
           }
          ],
          "scattergl": [
           {
            "marker": {
             "colorbar": {
              "outlinewidth": 0,
              "ticks": ""
             }
            },
            "type": "scattergl"
           }
          ],
          "scattermapbox": [
           {
            "marker": {
             "colorbar": {
              "outlinewidth": 0,
              "ticks": ""
             }
            },
            "type": "scattermapbox"
           }
          ],
          "scatterpolar": [
           {
            "marker": {
             "colorbar": {
              "outlinewidth": 0,
              "ticks": ""
             }
            },
            "type": "scatterpolar"
           }
          ],
          "scatterpolargl": [
           {
            "marker": {
             "colorbar": {
              "outlinewidth": 0,
              "ticks": ""
             }
            },
            "type": "scatterpolargl"
           }
          ],
          "scatterternary": [
           {
            "marker": {
             "colorbar": {
              "outlinewidth": 0,
              "ticks": ""
             }
            },
            "type": "scatterternary"
           }
          ],
          "surface": [
           {
            "colorbar": {
             "outlinewidth": 0,
             "ticks": ""
            },
            "colorscale": [
             [
              0,
              "#0d0887"
             ],
             [
              0.1111111111111111,
              "#46039f"
             ],
             [
              0.2222222222222222,
              "#7201a8"
             ],
             [
              0.3333333333333333,
              "#9c179e"
             ],
             [
              0.4444444444444444,
              "#bd3786"
             ],
             [
              0.5555555555555556,
              "#d8576b"
             ],
             [
              0.6666666666666666,
              "#ed7953"
             ],
             [
              0.7777777777777778,
              "#fb9f3a"
             ],
             [
              0.8888888888888888,
              "#fdca26"
             ],
             [
              1,
              "#f0f921"
             ]
            ],
            "type": "surface"
           }
          ],
          "table": [
           {
            "cells": {
             "fill": {
              "color": "#EBF0F8"
             },
             "line": {
              "color": "white"
             }
            },
            "header": {
             "fill": {
              "color": "#C8D4E3"
             },
             "line": {
              "color": "white"
             }
            },
            "type": "table"
           }
          ]
         },
         "layout": {
          "annotationdefaults": {
           "arrowcolor": "#2a3f5f",
           "arrowhead": 0,
           "arrowwidth": 1
          },
          "autotypenumbers": "strict",
          "coloraxis": {
           "colorbar": {
            "outlinewidth": 0,
            "ticks": ""
           }
          },
          "colorscale": {
           "diverging": [
            [
             0,
             "#8e0152"
            ],
            [
             0.1,
             "#c51b7d"
            ],
            [
             0.2,
             "#de77ae"
            ],
            [
             0.3,
             "#f1b6da"
            ],
            [
             0.4,
             "#fde0ef"
            ],
            [
             0.5,
             "#f7f7f7"
            ],
            [
             0.6,
             "#e6f5d0"
            ],
            [
             0.7,
             "#b8e186"
            ],
            [
             0.8,
             "#7fbc41"
            ],
            [
             0.9,
             "#4d9221"
            ],
            [
             1,
             "#276419"
            ]
           ],
           "sequential": [
            [
             0,
             "#0d0887"
            ],
            [
             0.1111111111111111,
             "#46039f"
            ],
            [
             0.2222222222222222,
             "#7201a8"
            ],
            [
             0.3333333333333333,
             "#9c179e"
            ],
            [
             0.4444444444444444,
             "#bd3786"
            ],
            [
             0.5555555555555556,
             "#d8576b"
            ],
            [
             0.6666666666666666,
             "#ed7953"
            ],
            [
             0.7777777777777778,
             "#fb9f3a"
            ],
            [
             0.8888888888888888,
             "#fdca26"
            ],
            [
             1,
             "#f0f921"
            ]
           ],
           "sequentialminus": [
            [
             0,
             "#0d0887"
            ],
            [
             0.1111111111111111,
             "#46039f"
            ],
            [
             0.2222222222222222,
             "#7201a8"
            ],
            [
             0.3333333333333333,
             "#9c179e"
            ],
            [
             0.4444444444444444,
             "#bd3786"
            ],
            [
             0.5555555555555556,
             "#d8576b"
            ],
            [
             0.6666666666666666,
             "#ed7953"
            ],
            [
             0.7777777777777778,
             "#fb9f3a"
            ],
            [
             0.8888888888888888,
             "#fdca26"
            ],
            [
             1,
             "#f0f921"
            ]
           ]
          },
          "colorway": [
           "#636efa",
           "#EF553B",
           "#00cc96",
           "#ab63fa",
           "#FFA15A",
           "#19d3f3",
           "#FF6692",
           "#B6E880",
           "#FF97FF",
           "#FECB52"
          ],
          "font": {
           "color": "#2a3f5f"
          },
          "geo": {
           "bgcolor": "white",
           "lakecolor": "white",
           "landcolor": "#E5ECF6",
           "showlakes": true,
           "showland": true,
           "subunitcolor": "white"
          },
          "hoverlabel": {
           "align": "left"
          },
          "hovermode": "closest",
          "mapbox": {
           "style": "light"
          },
          "paper_bgcolor": "white",
          "plot_bgcolor": "#E5ECF6",
          "polar": {
           "angularaxis": {
            "gridcolor": "white",
            "linecolor": "white",
            "ticks": ""
           },
           "bgcolor": "#E5ECF6",
           "radialaxis": {
            "gridcolor": "white",
            "linecolor": "white",
            "ticks": ""
           }
          },
          "scene": {
           "xaxis": {
            "backgroundcolor": "#E5ECF6",
            "gridcolor": "white",
            "gridwidth": 2,
            "linecolor": "white",
            "showbackground": true,
            "ticks": "",
            "zerolinecolor": "white"
           },
           "yaxis": {
            "backgroundcolor": "#E5ECF6",
            "gridcolor": "white",
            "gridwidth": 2,
            "linecolor": "white",
            "showbackground": true,
            "ticks": "",
            "zerolinecolor": "white"
           },
           "zaxis": {
            "backgroundcolor": "#E5ECF6",
            "gridcolor": "white",
            "gridwidth": 2,
            "linecolor": "white",
            "showbackground": true,
            "ticks": "",
            "zerolinecolor": "white"
           }
          },
          "shapedefaults": {
           "line": {
            "color": "#2a3f5f"
           }
          },
          "ternary": {
           "aaxis": {
            "gridcolor": "white",
            "linecolor": "white",
            "ticks": ""
           },
           "baxis": {
            "gridcolor": "white",
            "linecolor": "white",
            "ticks": ""
           },
           "bgcolor": "#E5ECF6",
           "caxis": {
            "gridcolor": "white",
            "linecolor": "white",
            "ticks": ""
           }
          },
          "title": {
           "x": 0.05
          },
          "xaxis": {
           "automargin": true,
           "gridcolor": "white",
           "linecolor": "white",
           "ticks": "",
           "title": {
            "standoff": 15
           },
           "zerolinecolor": "white",
           "zerolinewidth": 2
          },
          "yaxis": {
           "automargin": true,
           "gridcolor": "white",
           "linecolor": "white",
           "ticks": "",
           "title": {
            "standoff": 15
           },
           "zerolinecolor": "white",
           "zerolinewidth": 2
          }
         }
        },
        "title": {
         "text": "HomeValue vs. Date"
        },
        "xaxis": {
         "anchor": "y",
         "autorange": true,
         "domain": [
          0,
          1
         ],
         "range": [
          "2017-09-10 05:39:55.4814",
          "2024-09-21 18:20:04.5186"
         ],
         "showgrid": true,
         "tickformat": "%Y-%m",
         "title": {
          "text": "HomeValue"
         },
         "type": "date"
        },
        "yaxis": {
         "anchor": "x",
         "autorange": true,
         "domain": [
          0,
          1
         ],
         "range": [
          81864.60205714605,
          413407.12968568574
         ],
         "showgrid": true,
         "title": {
          "text": "Date"
         },
         "type": "linear"
        }
       }
      },
      "image/png": "[encoded data removed]",
      "text/html": [
       "<div>                            <div id=\"c826a657-b84f-4ba4-8a9c-521405d5e48c\" class=\"plotly-graph-div\" style=\"height:525px; width:100%;\"></div>            <script type=\"text/javascript\">                require([\"plotly\"], function(Plotly) {                    window.PLOTLYENV=window.PLOTLYENV || {};                                    if (document.getElementById(\"c826a657-b84f-4ba4-8a9c-521405d5e48c\")) {                    Plotly.newPlot(                        \"c826a657-b84f-4ba4-8a9c-521405d5e48c\",                        [{\"customdata\":[[\"Beaumont, TX\"],[\"Beaumont, TX\"],[\"Beaumont, TX\"],[\"Beaumont, TX\"],[\"Beaumont, TX\"],[\"Beaumont, TX\"],[\"Beaumont, TX\"],[\"Beaumont, TX\"],[\"Beaumont, TX\"],[\"Beaumont, TX\"],[\"Beaumont, TX\"],[\"Beaumont, TX\"],[\"Beaumont, TX\"],[\"Beaumont, TX\"],[\"Beaumont, TX\"],[\"Beaumont, TX\"],[\"Beaumont, TX\"],[\"Beaumont, TX\"],[\"Beaumont, TX\"],[\"Beaumont, TX\"],[\"Beaumont, TX\"],[\"Beaumont, TX\"],[\"Beaumont, TX\"],[\"Beaumont, TX\"],[\"Beaumont, TX\"],[\"Beaumont, TX\"],[\"Beaumont, TX\"],[\"Beaumont, TX\"],[\"Beaumont, TX\"],[\"Beaumont, TX\"],[\"Beaumont, TX\"],[\"Beaumont, TX\"],[\"Beaumont, TX\"],[\"Beaumont, TX\"],[\"Beaumont, TX\"],[\"Beaumont, TX\"],[\"Beaumont, TX\"],[\"Beaumont, TX\"],[\"Beaumont, TX\"],[\"Beaumont, TX\"],[\"Beaumont, TX\"],[\"Beaumont, TX\"],[\"Beaumont, TX\"],[\"Beaumont, TX\"],[\"Beaumont, TX\"],[\"Beaumont, TX\"],[\"Beaumont, TX\"],[\"Beaumont, TX\"],[\"Beaumont, TX\"],[\"Beaumont, TX\"],[\"Beaumont, TX\"],[\"Beaumont, TX\"],[\"Beaumont, TX\"],[\"Beaumont, TX\"],[\"Beaumont, TX\"],[\"Beaumont, TX\"],[\"Beaumont, TX\"],[\"Beaumont, TX\"],[\"Beaumont, TX\"],[\"Beaumont, TX\"],[\"Beaumont, TX\"],[\"Beaumont, TX\"],[\"Beaumont, TX\"],[\"Beaumont, TX\"],[\"Beaumont, TX\"],[\"Beaumont, TX\"],[\"Beaumont, TX\"],[\"Beaumont, TX\"],[\"Beaumont, TX\"],[\"Beaumont, TX\"],[\"Beaumont, TX\"],[\"Beaumont, TX\"],[\"Beaumont, TX\"],[\"Beaumont, TX\"],[\"Beaumont, TX\"],[\"Beaumont, TX\"],[\"Brownsville, TX\"],[\"Brownsville, TX\"],[\"Brownsville, TX\"],[\"Brownsville, TX\"],[\"Brownsville, TX\"],[\"Brownsville, TX\"],[\"Brownsville, TX\"],[\"Brownsville, TX\"],[\"Brownsville, TX\"],[\"Brownsville, TX\"],[\"Brownsville, TX\"],[\"Brownsville, TX\"],[\"Brownsville, TX\"],[\"Brownsville, TX\"],[\"Brownsville, TX\"],[\"Brownsville, TX\"],[\"Brownsville, TX\"],[\"Brownsville, TX\"],[\"Brownsville, TX\"],[\"Brownsville, TX\"],[\"Brownsville, TX\"],[\"Brownsville, TX\"],[\"Brownsville, TX\"],[\"Brownsville, TX\"],[\"Brownsville, TX\"],[\"Brownsville, TX\"],[\"Brownsville, TX\"],[\"Brownsville, TX\"],[\"Brownsville, TX\"],[\"Brownsville, TX\"],[\"Brownsville, TX\"],[\"Brownsville, TX\"],[\"Brownsville, TX\"],[\"Brownsville, TX\"],[\"Brownsville, TX\"],[\"Brownsville, TX\"],[\"Brownsville, TX\"],[\"Brownsville, TX\"],[\"Brownsville, TX\"],[\"Brownsville, TX\"],[\"Brownsville, TX\"],[\"Brownsville, TX\"],[\"Brownsville, TX\"],[\"Brownsville, TX\"],[\"Brownsville, TX\"],[\"Brownsville, TX\"],[\"Brownsville, TX\"],[\"Brownsville, TX\"],[\"Brownsville, TX\"],[\"Brownsville, TX\"],[\"Brownsville, TX\"],[\"Brownsville, TX\"],[\"Brownsville, TX\"],[\"Brownsville, TX\"],[\"Brownsville, TX\"],[\"Brownsville, TX\"],[\"Brownsville, TX\"],[\"Brownsville, TX\"],[\"Brownsville, TX\"],[\"Brownsville, TX\"],[\"Brownsville, TX\"],[\"Brownsville, TX\"],[\"Brownsville, TX\"],[\"Brownsville, TX\"],[\"Brownsville, TX\"],[\"Brownsville, TX\"],[\"Brownsville, TX\"],[\"Brownsville, TX\"],[\"Brownsville, TX\"],[\"Brownsville, TX\"],[\"Brownsville, TX\"],[\"Brownsville, TX\"],[\"Brownsville, TX\"],[\"Brownsville, TX\"],[\"Brownsville, TX\"],[\"Brownsville, TX\"],[\"College Station, TX\"],[\"College Station, TX\"],[\"College Station, TX\"],[\"College Station, TX\"],[\"College Station, TX\"],[\"College Station, TX\"],[\"College Station, TX\"],[\"College Station, TX\"],[\"College Station, TX\"],[\"College Station, TX\"],[\"College Station, TX\"],[\"College Station, TX\"],[\"College Station, TX\"],[\"College Station, TX\"],[\"College Station, TX\"],[\"College Station, TX\"],[\"College Station, TX\"],[\"College Station, TX\"],[\"College Station, TX\"],[\"College Station, TX\"],[\"College Station, TX\"],[\"College Station, TX\"],[\"College Station, TX\"],[\"College Station, TX\"],[\"College Station, TX\"],[\"College Station, TX\"],[\"College Station, TX\"],[\"College Station, TX\"],[\"College Station, TX\"],[\"College Station, TX\"],[\"College Station, TX\"],[\"College Station, TX\"],[\"College Station, TX\"],[\"College Station, TX\"],[\"College Station, TX\"],[\"College Station, TX\"],[\"College Station, TX\"],[\"College Station, TX\"],[\"College Station, TX\"],[\"College Station, TX\"],[\"College Station, TX\"],[\"College Station, TX\"],[\"College Station, TX\"],[\"College Station, TX\"],[\"College Station, TX\"],[\"College Station, TX\"],[\"College Station, TX\"],[\"College Station, TX\"],[\"College Station, TX\"],[\"College Station, TX\"],[\"College Station, TX\"],[\"College Station, TX\"],[\"College Station, TX\"],[\"College Station, TX\"],[\"College Station, TX\"],[\"College Station, TX\"],[\"College Station, TX\"],[\"College Station, TX\"],[\"College Station, TX\"],[\"College Station, TX\"],[\"College Station, TX\"],[\"College Station, TX\"],[\"College Station, TX\"],[\"College Station, TX\"],[\"College Station, TX\"],[\"College Station, TX\"],[\"College Station, TX\"],[\"College Station, TX\"],[\"College Station, TX\"],[\"College Station, TX\"],[\"College Station, TX\"],[\"College Station, TX\"],[\"College Station, TX\"],[\"College Station, TX\"],[\"College Station, TX\"],[\"College Station, TX\"],[\"Corpus Christi, TX\"],[\"Corpus Christi, TX\"],[\"Corpus Christi, TX\"],[\"Corpus Christi, TX\"],[\"Corpus Christi, TX\"],[\"Corpus Christi, TX\"],[\"Corpus Christi, TX\"],[\"Corpus Christi, TX\"],[\"Corpus Christi, TX\"],[\"Corpus Christi, TX\"],[\"Corpus Christi, TX\"],[\"Corpus Christi, TX\"],[\"Corpus Christi, TX\"],[\"Corpus Christi, TX\"],[\"Corpus Christi, TX\"],[\"Corpus Christi, TX\"],[\"Corpus Christi, TX\"],[\"Corpus Christi, TX\"],[\"Corpus Christi, TX\"],[\"Corpus Christi, TX\"],[\"Corpus Christi, TX\"],[\"Corpus Christi, TX\"],[\"Corpus Christi, TX\"],[\"Corpus Christi, TX\"],[\"Corpus Christi, TX\"],[\"Corpus Christi, TX\"],[\"Corpus Christi, TX\"],[\"Corpus Christi, TX\"],[\"Corpus Christi, TX\"],[\"Corpus Christi, TX\"],[\"Corpus Christi, TX\"],[\"Corpus Christi, TX\"],[\"Corpus Christi, TX\"],[\"Corpus Christi, TX\"],[\"Corpus Christi, TX\"],[\"Corpus Christi, TX\"],[\"Corpus Christi, TX\"],[\"Corpus Christi, TX\"],[\"Corpus Christi, TX\"],[\"Corpus Christi, TX\"],[\"Corpus Christi, TX\"],[\"Corpus Christi, TX\"],[\"Corpus Christi, TX\"],[\"Corpus Christi, TX\"],[\"Corpus Christi, TX\"],[\"Corpus Christi, TX\"],[\"Corpus Christi, TX\"],[\"Corpus Christi, TX\"],[\"Corpus Christi, TX\"],[\"Corpus Christi, TX\"],[\"Corpus Christi, TX\"],[\"Corpus Christi, TX\"],[\"Corpus Christi, TX\"],[\"Corpus Christi, TX\"],[\"Corpus Christi, TX\"],[\"Corpus Christi, TX\"],[\"Corpus Christi, TX\"],[\"Corpus Christi, TX\"],[\"Corpus Christi, TX\"],[\"Corpus Christi, TX\"],[\"Corpus Christi, TX\"],[\"Corpus Christi, TX\"],[\"Corpus Christi, TX\"],[\"Corpus Christi, TX\"],[\"Corpus Christi, TX\"],[\"Corpus Christi, TX\"],[\"Corpus Christi, TX\"],[\"Corpus Christi, TX\"],[\"Corpus Christi, TX\"],[\"Corpus Christi, TX\"],[\"Corpus Christi, TX\"],[\"Corpus Christi, TX\"],[\"Corpus Christi, TX\"],[\"Corpus Christi, TX\"],[\"Corpus Christi, TX\"],[\"Corpus Christi, TX\"],[\"Dallas, TX\"],[\"Dallas, TX\"],[\"Dallas, TX\"],[\"Dallas, TX\"],[\"Dallas, TX\"],[\"Dallas, TX\"],[\"Dallas, TX\"],[\"Dallas, TX\"],[\"Dallas, TX\"],[\"Dallas, TX\"],[\"Dallas, TX\"],[\"Dallas, TX\"],[\"Dallas, TX\"],[\"Dallas, TX\"],[\"Dallas, TX\"],[\"Dallas, TX\"],[\"Dallas, TX\"],[\"Dallas, TX\"],[\"Dallas, TX\"],[\"Dallas, TX\"],[\"Dallas, TX\"],[\"Dallas, TX\"],[\"Dallas, TX\"],[\"Dallas, TX\"],[\"Dallas, TX\"],[\"Dallas, TX\"],[\"Dallas, TX\"],[\"Dallas, TX\"],[\"Dallas, TX\"],[\"Dallas, TX\"],[\"Dallas, TX\"],[\"Dallas, TX\"],[\"Dallas, TX\"],[\"Dallas, TX\"],[\"Dallas, TX\"],[\"Dallas, TX\"],[\"Dallas, TX\"],[\"Dallas, TX\"],[\"Dallas, TX\"],[\"Dallas, TX\"],[\"Dallas, TX\"],[\"Dallas, TX\"],[\"Dallas, TX\"],[\"Dallas, TX\"],[\"Dallas, TX\"],[\"Dallas, TX\"],[\"Dallas, TX\"],[\"Dallas, TX\"],[\"Dallas, TX\"],[\"Dallas, TX\"],[\"Dallas, TX\"],[\"Dallas, TX\"],[\"Dallas, TX\"],[\"Dallas, TX\"],[\"Dallas, TX\"],[\"Dallas, TX\"],[\"Dallas, TX\"],[\"Dallas, TX\"],[\"Dallas, TX\"],[\"Dallas, TX\"],[\"Dallas, TX\"],[\"Dallas, TX\"],[\"Dallas, TX\"],[\"Dallas, TX\"],[\"Dallas, TX\"],[\"Dallas, TX\"],[\"Dallas, TX\"],[\"Dallas, TX\"],[\"Dallas, TX\"],[\"Dallas, TX\"],[\"Dallas, TX\"],[\"Dallas, TX\"],[\"Dallas, TX\"],[\"Dallas, TX\"],[\"Dallas, TX\"],[\"Dallas, TX\"],[\"Houston, TX\"],[\"Houston, TX\"],[\"Houston, TX\"],[\"Houston, TX\"],[\"Houston, TX\"],[\"Houston, TX\"],[\"Houston, TX\"],[\"Houston, TX\"],[\"Houston, TX\"],[\"Houston, TX\"],[\"Houston, TX\"],[\"Houston, TX\"],[\"Houston, TX\"],[\"Houston, TX\"],[\"Houston, TX\"],[\"Houston, TX\"],[\"Houston, TX\"],[\"Houston, TX\"],[\"Houston, TX\"],[\"Houston, TX\"],[\"Houston, TX\"],[\"Houston, TX\"],[\"Houston, TX\"],[\"Houston, TX\"],[\"Houston, TX\"],[\"Houston, TX\"],[\"Houston, TX\"],[\"Houston, TX\"],[\"Houston, TX\"],[\"Houston, TX\"],[\"Houston, TX\"],[\"Houston, TX\"],[\"Houston, TX\"],[\"Houston, TX\"],[\"Houston, TX\"],[\"Houston, TX\"],[\"Houston, TX\"],[\"Houston, TX\"],[\"Houston, TX\"],[\"Houston, TX\"],[\"Houston, TX\"],[\"Houston, TX\"],[\"Houston, TX\"],[\"Houston, TX\"],[\"Houston, TX\"],[\"Houston, TX\"],[\"Houston, TX\"],[\"Houston, TX\"],[\"Houston, TX\"],[\"Houston, TX\"],[\"Houston, TX\"],[\"Houston, TX\"],[\"Houston, TX\"],[\"Houston, TX\"],[\"Houston, TX\"],[\"Houston, TX\"],[\"Houston, TX\"],[\"Houston, TX\"],[\"Houston, TX\"],[\"Houston, TX\"],[\"Houston, TX\"],[\"Houston, TX\"],[\"Houston, TX\"],[\"Houston, TX\"],[\"Houston, TX\"],[\"Houston, TX\"],[\"Houston, TX\"],[\"Houston, TX\"],[\"Houston, TX\"],[\"Houston, TX\"],[\"Houston, TX\"],[\"Houston, TX\"],[\"Houston, TX\"],[\"Houston, TX\"],[\"Houston, TX\"],[\"Houston, TX\"],[\"McAllen, TX\"],[\"McAllen, TX\"],[\"McAllen, TX\"],[\"McAllen, TX\"],[\"McAllen, TX\"],[\"McAllen, TX\"],[\"McAllen, TX\"],[\"McAllen, TX\"],[\"McAllen, TX\"],[\"McAllen, TX\"],[\"McAllen, TX\"],[\"McAllen, TX\"],[\"McAllen, TX\"],[\"McAllen, TX\"],[\"McAllen, TX\"],[\"McAllen, TX\"],[\"McAllen, TX\"],[\"McAllen, TX\"],[\"McAllen, TX\"],[\"McAllen, TX\"],[\"McAllen, TX\"],[\"McAllen, TX\"],[\"McAllen, TX\"],[\"McAllen, TX\"],[\"McAllen, TX\"],[\"McAllen, TX\"],[\"McAllen, TX\"],[\"McAllen, TX\"],[\"McAllen, TX\"],[\"McAllen, TX\"],[\"McAllen, TX\"],[\"McAllen, TX\"],[\"McAllen, TX\"],[\"McAllen, TX\"],[\"McAllen, TX\"],[\"McAllen, TX\"],[\"McAllen, TX\"],[\"McAllen, TX\"],[\"McAllen, TX\"],[\"McAllen, TX\"],[\"McAllen, TX\"],[\"McAllen, TX\"],[\"McAllen, TX\"],[\"McAllen, TX\"],[\"McAllen, TX\"],[\"McAllen, TX\"],[\"McAllen, TX\"],[\"McAllen, TX\"],[\"McAllen, TX\"],[\"McAllen, TX\"],[\"McAllen, TX\"],[\"McAllen, TX\"],[\"McAllen, TX\"],[\"McAllen, TX\"],[\"McAllen, TX\"],[\"McAllen, TX\"],[\"McAllen, TX\"],[\"McAllen, TX\"],[\"McAllen, TX\"],[\"McAllen, TX\"],[\"McAllen, TX\"],[\"McAllen, TX\"],[\"McAllen, TX\"],[\"McAllen, TX\"],[\"McAllen, TX\"],[\"McAllen, TX\"],[\"McAllen, TX\"],[\"McAllen, TX\"],[\"McAllen, TX\"],[\"McAllen, TX\"],[\"McAllen, TX\"],[\"McAllen, TX\"],[\"McAllen, TX\"],[\"McAllen, TX\"],[\"McAllen, TX\"],[\"McAllen, TX\"],[\"Tyler, TX\"],[\"Tyler, TX\"],[\"Tyler, TX\"],[\"Tyler, TX\"],[\"Tyler, TX\"],[\"Tyler, TX\"],[\"Tyler, TX\"],[\"Tyler, TX\"],[\"Tyler, TX\"],[\"Tyler, TX\"],[\"Tyler, TX\"],[\"Tyler, TX\"],[\"Tyler, TX\"],[\"Tyler, TX\"],[\"Tyler, TX\"],[\"Tyler, TX\"],[\"Tyler, TX\"],[\"Tyler, TX\"],[\"Tyler, TX\"],[\"Tyler, TX\"],[\"Tyler, TX\"],[\"Tyler, TX\"],[\"Tyler, TX\"],[\"Tyler, TX\"],[\"Tyler, TX\"],[\"Tyler, TX\"],[\"Tyler, TX\"],[\"Tyler, TX\"],[\"Tyler, TX\"],[\"Tyler, TX\"],[\"Tyler, TX\"],[\"Tyler, TX\"],[\"Tyler, TX\"],[\"Tyler, TX\"],[\"Tyler, TX\"],[\"Tyler, TX\"],[\"Tyler, TX\"],[\"Tyler, TX\"],[\"Tyler, TX\"],[\"Tyler, TX\"],[\"Tyler, TX\"],[\"Tyler, TX\"],[\"Tyler, TX\"],[\"Tyler, TX\"],[\"Tyler, TX\"],[\"Tyler, TX\"],[\"Tyler, TX\"],[\"Tyler, TX\"],[\"Tyler, TX\"],[\"Tyler, TX\"],[\"Tyler, TX\"],[\"Tyler, TX\"],[\"Tyler, TX\"],[\"Tyler, TX\"],[\"Tyler, TX\"],[\"Tyler, TX\"],[\"Tyler, TX\"],[\"Tyler, TX\"],[\"Tyler, TX\"],[\"Tyler, TX\"],[\"Tyler, TX\"],[\"Tyler, TX\"],[\"Tyler, TX\"],[\"Tyler, TX\"],[\"Tyler, TX\"],[\"Tyler, TX\"],[\"Tyler, TX\"],[\"Tyler, TX\"],[\"Tyler, TX\"],[\"Tyler, TX\"],[\"Tyler, TX\"],[\"Tyler, TX\"],[\"Tyler, TX\"],[\"Tyler, TX\"],[\"Tyler, TX\"],[\"Tyler, TX\"],[\"Waco, TX\"],[\"Waco, TX\"],[\"Waco, TX\"],[\"Waco, TX\"],[\"Waco, TX\"],[\"Waco, TX\"],[\"Waco, TX\"],[\"Waco, TX\"],[\"Waco, TX\"],[\"Waco, TX\"],[\"Waco, TX\"],[\"Waco, TX\"],[\"Waco, TX\"],[\"Waco, TX\"],[\"Waco, TX\"],[\"Waco, TX\"],[\"Waco, TX\"],[\"Waco, TX\"],[\"Waco, TX\"],[\"Waco, TX\"],[\"Waco, TX\"],[\"Waco, TX\"],[\"Waco, TX\"],[\"Waco, TX\"],[\"Waco, TX\"],[\"Waco, TX\"],[\"Waco, TX\"],[\"Waco, TX\"],[\"Waco, TX\"],[\"Waco, TX\"],[\"Waco, TX\"],[\"Waco, TX\"],[\"Waco, TX\"],[\"Waco, TX\"],[\"Waco, TX\"],[\"Waco, TX\"],[\"Waco, TX\"],[\"Waco, TX\"],[\"Waco, TX\"],[\"Waco, TX\"],[\"Waco, TX\"],[\"Waco, TX\"],[\"Waco, TX\"],[\"Waco, TX\"],[\"Waco, TX\"],[\"Waco, TX\"],[\"Waco, TX\"],[\"Waco, TX\"],[\"Waco, TX\"],[\"Waco, TX\"],[\"Waco, TX\"],[\"Waco, TX\"],[\"Waco, TX\"],[\"Waco, TX\"],[\"Waco, TX\"],[\"Waco, TX\"],[\"Waco, TX\"],[\"Waco, TX\"],[\"Waco, TX\"],[\"Waco, TX\"],[\"Waco, TX\"],[\"Waco, TX\"],[\"Waco, TX\"],[\"Waco, TX\"],[\"Waco, TX\"],[\"Waco, TX\"],[\"Waco, TX\"],[\"Waco, TX\"],[\"Waco, TX\"],[\"Waco, TX\"],[\"Waco, TX\"],[\"Waco, TX\"],[\"Waco, TX\"],[\"Waco, TX\"],[\"Waco, TX\"],[\"Waco, TX\"]],\"hovertemplate\":\"Date=%{x}<br>HomeValue=%{y}<br>Location=%{customdata[0]}<extra></extra>\",\"legendgroup\":\"\",\"marker\":{\"color\":\"#636efa\",\"symbol\":\"circle\"},\"mode\":\"markers\",\"name\":\"\",\"orientation\":\"v\",\"showlegend\":false,\"x\":[\"2018-02-01T00:00:00\",\"2018-03-01T00:00:00\",\"2018-04-01T00:00:00\",\"2018-05-01T00:00:00\",\"2018-06-01T00:00:00\",\"2018-07-01T00:00:00\",\"2018-08-01T00:00:00\",\"2018-09-01T00:00:00\",\"2018-10-01T00:00:00\",\"2018-11-01T00:00:00\",\"2018-12-01T00:00:00\",\"2019-01-01T00:00:00\",\"2019-02-01T00:00:00\",\"2019-03-01T00:00:00\",\"2019-04-01T00:00:00\",\"2019-05-01T00:00:00\",\"2019-06-01T00:00:00\",\"2019-07-01T00:00:00\",\"2019-08-01T00:00:00\",\"2019-09-01T00:00:00\",\"2019-10-01T00:00:00\",\"2019-11-01T00:00:00\",\"2019-12-01T00:00:00\",\"2020-01-01T00:00:00\",\"2020-02-01T00:00:00\",\"2020-03-01T00:00:00\",\"2020-04-01T00:00:00\",\"2020-05-01T00:00:00\",\"2020-06-01T00:00:00\",\"2020-07-01T00:00:00\",\"2020-08-01T00:00:00\",\"2020-09-01T00:00:00\",\"2020-10-01T00:00:00\",\"2020-11-01T00:00:00\",\"2020-12-01T00:00:00\",\"2021-01-01T00:00:00\",\"2021-02-01T00:00:00\",\"2021-03-01T00:00:00\",\"2021-04-01T00:00:00\",\"2021-05-01T00:00:00\",\"2021-06-01T00:00:00\",\"2021-07-01T00:00:00\",\"2021-08-01T00:00:00\",\"2021-09-01T00:00:00\",\"2021-10-01T00:00:00\",\"2021-11-01T00:00:00\",\"2021-12-01T00:00:00\",\"2022-01-01T00:00:00\",\"2022-02-01T00:00:00\",\"2022-03-01T00:00:00\",\"2022-04-01T00:00:00\",\"2022-05-01T00:00:00\",\"2022-06-01T00:00:00\",\"2022-07-01T00:00:00\",\"2022-08-01T00:00:00\",\"2022-09-01T00:00:00\",\"2022-10-01T00:00:00\",\"2022-11-01T00:00:00\",\"2022-12-01T00:00:00\",\"2023-01-01T00:00:00\",\"2023-02-01T00:00:00\",\"2023-03-01T00:00:00\",\"2023-04-01T00:00:00\",\"2023-05-01T00:00:00\",\"2023-06-01T00:00:00\",\"2023-07-01T00:00:00\",\"2023-08-01T00:00:00\",\"2023-09-01T00:00:00\",\"2023-10-01T00:00:00\",\"2023-11-01T00:00:00\",\"2023-12-01T00:00:00\",\"2024-01-01T00:00:00\",\"2024-02-01T00:00:00\",\"2024-03-01T00:00:00\",\"2024-04-01T00:00:00\",\"2024-05-01T00:00:00\",\"2018-02-01T00:00:00\",\"2018-03-01T00:00:00\",\"2018-04-01T00:00:00\",\"2018-05-01T00:00:00\",\"2018-06-01T00:00:00\",\"2018-07-01T00:00:00\",\"2018-08-01T00:00:00\",\"2018-09-01T00:00:00\",\"2018-10-01T00:00:00\",\"2018-11-01T00:00:00\",\"2018-12-01T00:00:00\",\"2019-01-01T00:00:00\",\"2019-02-01T00:00:00\",\"2019-03-01T00:00:00\",\"2019-04-01T00:00:00\",\"2019-05-01T00:00:00\",\"2019-06-01T00:00:00\",\"2019-07-01T00:00:00\",\"2019-08-01T00:00:00\",\"2019-09-01T00:00:00\",\"2019-10-01T00:00:00\",\"2019-11-01T00:00:00\",\"2019-12-01T00:00:00\",\"2020-01-01T00:00:00\",\"2020-02-01T00:00:00\",\"2020-03-01T00:00:00\",\"2020-04-01T00:00:00\",\"2020-05-01T00:00:00\",\"2020-06-01T00:00:00\",\"2020-07-01T00:00:00\",\"2020-08-01T00:00:00\",\"2020-09-01T00:00:00\",\"2020-10-01T00:00:00\",\"2020-11-01T00:00:00\",\"2020-12-01T00:00:00\",\"2021-01-01T00:00:00\",\"2021-02-01T00:00:00\",\"2021-03-01T00:00:00\",\"2021-04-01T00:00:00\",\"2021-05-01T00:00:00\",\"2021-06-01T00:00:00\",\"2021-07-01T00:00:00\",\"2021-08-01T00:00:00\",\"2021-09-01T00:00:00\",\"2021-10-01T00:00:00\",\"2021-11-01T00:00:00\",\"2021-12-01T00:00:00\",\"2022-01-01T00:00:00\",\"2022-02-01T00:00:00\",\"2022-03-01T00:00:00\",\"2022-04-01T00:00:00\",\"2022-05-01T00:00:00\",\"2022-06-01T00:00:00\",\"2022-07-01T00:00:00\",\"2022-08-01T00:00:00\",\"2022-09-01T00:00:00\",\"2022-10-01T00:00:00\",\"2022-11-01T00:00:00\",\"2022-12-01T00:00:00\",\"2023-01-01T00:00:00\",\"2023-02-01T00:00:00\",\"2023-03-01T00:00:00\",\"2023-04-01T00:00:00\",\"2023-05-01T00:00:00\",\"2023-06-01T00:00:00\",\"2023-07-01T00:00:00\",\"2023-08-01T00:00:00\",\"2023-09-01T00:00:00\",\"2023-10-01T00:00:00\",\"2023-11-01T00:00:00\",\"2023-12-01T00:00:00\",\"2024-01-01T00:00:00\",\"2024-02-01T00:00:00\",\"2024-03-01T00:00:00\",\"2024-04-01T00:00:00\",\"2024-05-01T00:00:00\",\"2018-02-01T00:00:00\",\"2018-03-01T00:00:00\",\"2018-04-01T00:00:00\",\"2018-05-01T00:00:00\",\"2018-06-01T00:00:00\",\"2018-07-01T00:00:00\",\"2018-08-01T00:00:00\",\"2018-09-01T00:00:00\",\"2018-10-01T00:00:00\",\"2018-11-01T00:00:00\",\"2018-12-01T00:00:00\",\"2019-01-01T00:00:00\",\"2019-02-01T00:00:00\",\"2019-03-01T00:00:00\",\"2019-04-01T00:00:00\",\"2019-05-01T00:00:00\",\"2019-06-01T00:00:00\",\"2019-07-01T00:00:00\",\"2019-08-01T00:00:00\",\"2019-09-01T00:00:00\",\"2019-10-01T00:00:00\",\"2019-11-01T00:00:00\",\"2019-12-01T00:00:00\",\"2020-01-01T00:00:00\",\"2020-02-01T00:00:00\",\"2020-03-01T00:00:00\",\"2020-04-01T00:00:00\",\"2020-05-01T00:00:00\",\"2020-06-01T00:00:00\",\"2020-07-01T00:00:00\",\"2020-08-01T00:00:00\",\"2020-09-01T00:00:00\",\"2020-10-01T00:00:00\",\"2020-11-01T00:00:00\",\"2020-12-01T00:00:00\",\"2021-01-01T00:00:00\",\"2021-02-01T00:00:00\",\"2021-03-01T00:00:00\",\"2021-04-01T00:00:00\",\"2021-05-01T00:00:00\",\"2021-06-01T00:00:00\",\"2021-07-01T00:00:00\",\"2021-08-01T00:00:00\",\"2021-09-01T00:00:00\",\"2021-10-01T00:00:00\",\"2021-11-01T00:00:00\",\"2021-12-01T00:00:00\",\"2022-01-01T00:00:00\",\"2022-02-01T00:00:00\",\"2022-03-01T00:00:00\",\"2022-04-01T00:00:00\",\"2022-05-01T00:00:00\",\"2022-06-01T00:00:00\",\"2022-07-01T00:00:00\",\"2022-08-01T00:00:00\",\"2022-09-01T00:00:00\",\"2022-10-01T00:00:00\",\"2022-11-01T00:00:00\",\"2022-12-01T00:00:00\",\"2023-01-01T00:00:00\",\"2023-02-01T00:00:00\",\"2023-03-01T00:00:00\",\"2023-04-01T00:00:00\",\"2023-05-01T00:00:00\",\"2023-06-01T00:00:00\",\"2023-07-01T00:00:00\",\"2023-08-01T00:00:00\",\"2023-09-01T00:00:00\",\"2023-10-01T00:00:00\",\"2023-11-01T00:00:00\",\"2023-12-01T00:00:00\",\"2024-01-01T00:00:00\",\"2024-02-01T00:00:00\",\"2024-03-01T00:00:00\",\"2024-04-01T00:00:00\",\"2024-05-01T00:00:00\",\"2018-02-01T00:00:00\",\"2018-03-01T00:00:00\",\"2018-04-01T00:00:00\",\"2018-05-01T00:00:00\",\"2018-06-01T00:00:00\",\"2018-07-01T00:00:00\",\"2018-08-01T00:00:00\",\"2018-09-01T00:00:00\",\"2018-10-01T00:00:00\",\"2018-11-01T00:00:00\",\"2018-12-01T00:00:00\",\"2019-01-01T00:00:00\",\"2019-02-01T00:00:00\",\"2019-03-01T00:00:00\",\"2019-04-01T00:00:00\",\"2019-05-01T00:00:00\",\"2019-06-01T00:00:00\",\"2019-07-01T00:00:00\",\"2019-08-01T00:00:00\",\"2019-09-01T00:00:00\",\"2019-10-01T00:00:00\",\"2019-11-01T00:00:00\",\"2019-12-01T00:00:00\",\"2020-01-01T00:00:00\",\"2020-02-01T00:00:00\",\"2020-03-01T00:00:00\",\"2020-04-01T00:00:00\",\"2020-05-01T00:00:00\",\"2020-06-01T00:00:00\",\"2020-07-01T00:00:00\",\"2020-08-01T00:00:00\",\"2020-09-01T00:00:00\",\"2020-10-01T00:00:00\",\"2020-11-01T00:00:00\",\"2020-12-01T00:00:00\",\"2021-01-01T00:00:00\",\"2021-02-01T00:00:00\",\"2021-03-01T00:00:00\",\"2021-04-01T00:00:00\",\"2021-05-01T00:00:00\",\"2021-06-01T00:00:00\",\"2021-07-01T00:00:00\",\"2021-08-01T00:00:00\",\"2021-09-01T00:00:00\",\"2021-10-01T00:00:00\",\"2021-11-01T00:00:00\",\"2021-12-01T00:00:00\",\"2022-01-01T00:00:00\",\"2022-02-01T00:00:00\",\"2022-03-01T00:00:00\",\"2022-04-01T00:00:00\",\"2022-05-01T00:00:00\",\"2022-06-01T00:00:00\",\"2022-07-01T00:00:00\",\"2022-08-01T00:00:00\",\"2022-09-01T00:00:00\",\"2022-10-01T00:00:00\",\"2022-11-01T00:00:00\",\"2022-12-01T00:00:00\",\"2023-01-01T00:00:00\",\"2023-02-01T00:00:00\",\"2023-03-01T00:00:00\",\"2023-04-01T00:00:00\",\"2023-05-01T00:00:00\",\"2023-06-01T00:00:00\",\"2023-07-01T00:00:00\",\"2023-08-01T00:00:00\",\"2023-09-01T00:00:00\",\"2023-10-01T00:00:00\",\"2023-11-01T00:00:00\",\"2023-12-01T00:00:00\",\"2024-01-01T00:00:00\",\"2024-02-01T00:00:00\",\"2024-03-01T00:00:00\",\"2024-04-01T00:00:00\",\"2024-05-01T00:00:00\",\"2018-02-01T00:00:00\",\"2018-03-01T00:00:00\",\"2018-04-01T00:00:00\",\"2018-05-01T00:00:00\",\"2018-06-01T00:00:00\",\"2018-07-01T00:00:00\",\"2018-08-01T00:00:00\",\"2018-09-01T00:00:00\",\"2018-10-01T00:00:00\",\"2018-11-01T00:00:00\",\"2018-12-01T00:00:00\",\"2019-01-01T00:00:00\",\"2019-02-01T00:00:00\",\"2019-03-01T00:00:00\",\"2019-04-01T00:00:00\",\"2019-05-01T00:00:00\",\"2019-06-01T00:00:00\",\"2019-07-01T00:00:00\",\"2019-08-01T00:00:00\",\"2019-09-01T00:00:00\",\"2019-10-01T00:00:00\",\"2019-11-01T00:00:00\",\"2019-12-01T00:00:00\",\"2020-01-01T00:00:00\",\"2020-02-01T00:00:00\",\"2020-03-01T00:00:00\",\"2020-04-01T00:00:00\",\"2020-05-01T00:00:00\",\"2020-06-01T00:00:00\",\"2020-07-01T00:00:00\",\"2020-08-01T00:00:00\",\"2020-09-01T00:00:00\",\"2020-10-01T00:00:00\",\"2020-11-01T00:00:00\",\"2020-12-01T00:00:00\",\"2021-01-01T00:00:00\",\"2021-02-01T00:00:00\",\"2021-03-01T00:00:00\",\"2021-04-01T00:00:00\",\"2021-05-01T00:00:00\",\"2021-06-01T00:00:00\",\"2021-07-01T00:00:00\",\"2021-08-01T00:00:00\",\"2021-09-01T00:00:00\",\"2021-10-01T00:00:00\",\"2021-11-01T00:00:00\",\"2021-12-01T00:00:00\",\"2022-01-01T00:00:00\",\"2022-02-01T00:00:00\",\"2022-03-01T00:00:00\",\"2022-04-01T00:00:00\",\"2022-05-01T00:00:00\",\"2022-06-01T00:00:00\",\"2022-07-01T00:00:00\",\"2022-08-01T00:00:00\",\"2022-09-01T00:00:00\",\"2022-10-01T00:00:00\",\"2022-11-01T00:00:00\",\"2022-12-01T00:00:00\",\"2023-01-01T00:00:00\",\"2023-02-01T00:00:00\",\"2023-03-01T00:00:00\",\"2023-04-01T00:00:00\",\"2023-05-01T00:00:00\",\"2023-06-01T00:00:00\",\"2023-07-01T00:00:00\",\"2023-08-01T00:00:00\",\"2023-09-01T00:00:00\",\"2023-10-01T00:00:00\",\"2023-11-01T00:00:00\",\"2023-12-01T00:00:00\",\"2024-01-01T00:00:00\",\"2024-02-01T00:00:00\",\"2024-03-01T00:00:00\",\"2024-04-01T00:00:00\",\"2024-05-01T00:00:00\",\"2018-02-01T00:00:00\",\"2018-03-01T00:00:00\",\"2018-04-01T00:00:00\",\"2018-05-01T00:00:00\",\"2018-06-01T00:00:00\",\"2018-07-01T00:00:00\",\"2018-08-01T00:00:00\",\"2018-09-01T00:00:00\",\"2018-10-01T00:00:00\",\"2018-11-01T00:00:00\",\"2018-12-01T00:00:00\",\"2019-01-01T00:00:00\",\"2019-02-01T00:00:00\",\"2019-03-01T00:00:00\",\"2019-04-01T00:00:00\",\"2019-05-01T00:00:00\",\"2019-06-01T00:00:00\",\"2019-07-01T00:00:00\",\"2019-08-01T00:00:00\",\"2019-09-01T00:00:00\",\"2019-10-01T00:00:00\",\"2019-11-01T00:00:00\",\"2019-12-01T00:00:00\",\"2020-01-01T00:00:00\",\"2020-02-01T00:00:00\",\"2020-03-01T00:00:00\",\"2020-04-01T00:00:00\",\"2020-05-01T00:00:00\",\"2020-06-01T00:00:00\",\"2020-07-01T00:00:00\",\"2020-08-01T00:00:00\",\"2020-09-01T00:00:00\",\"2020-10-01T00:00:00\",\"2020-11-01T00:00:00\",\"2020-12-01T00:00:00\",\"2021-01-01T00:00:00\",\"2021-02-01T00:00:00\",\"2021-03-01T00:00:00\",\"2021-04-01T00:00:00\",\"2021-05-01T00:00:00\",\"2021-06-01T00:00:00\",\"2021-07-01T00:00:00\",\"2021-08-01T00:00:00\",\"2021-09-01T00:00:00\",\"2021-10-01T00:00:00\",\"2021-11-01T00:00:00\",\"2021-12-01T00:00:00\",\"2022-01-01T00:00:00\",\"2022-02-01T00:00:00\",\"2022-03-01T00:00:00\",\"2022-04-01T00:00:00\",\"2022-05-01T00:00:00\",\"2022-06-01T00:00:00\",\"2022-07-01T00:00:00\",\"2022-08-01T00:00:00\",\"2022-09-01T00:00:00\",\"2022-10-01T00:00:00\",\"2022-11-01T00:00:00\",\"2022-12-01T00:00:00\",\"2023-01-01T00:00:00\",\"2023-02-01T00:00:00\",\"2023-03-01T00:00:00\",\"2023-04-01T00:00:00\",\"2023-05-01T00:00:00\",\"2023-06-01T00:00:00\",\"2023-07-01T00:00:00\",\"2023-08-01T00:00:00\",\"2023-09-01T00:00:00\",\"2023-10-01T00:00:00\",\"2023-11-01T00:00:00\",\"2023-12-01T00:00:00\",\"2024-01-01T00:00:00\",\"2024-02-01T00:00:00\",\"2024-03-01T00:00:00\",\"2024-04-01T00:00:00\",\"2024-05-01T00:00:00\",\"2018-02-01T00:00:00\",\"2018-03-01T00:00:00\",\"2018-04-01T00:00:00\",\"2018-05-01T00:00:00\",\"2018-06-01T00:00:00\",\"2018-07-01T00:00:00\",\"2018-08-01T00:00:00\",\"2018-09-01T00:00:00\",\"2018-10-01T00:00:00\",\"2018-11-01T00:00:00\",\"2018-12-01T00:00:00\",\"2019-01-01T00:00:00\",\"2019-02-01T00:00:00\",\"2019-03-01T00:00:00\",\"2019-04-01T00:00:00\",\"2019-05-01T00:00:00\",\"2019-06-01T00:00:00\",\"2019-07-01T00:00:00\",\"2019-08-01T00:00:00\",\"2019-09-01T00:00:00\",\"2019-10-01T00:00:00\",\"2019-11-01T00:00:00\",\"2019-12-01T00:00:00\",\"2020-01-01T00:00:00\",\"2020-02-01T00:00:00\",\"2020-03-01T00:00:00\",\"2020-04-01T00:00:00\",\"2020-05-01T00:00:00\",\"2020-06-01T00:00:00\",\"2020-07-01T00:00:00\",\"2020-08-01T00:00:00\",\"2020-09-01T00:00:00\",\"2020-10-01T00:00:00\",\"2020-11-01T00:00:00\",\"2020-12-01T00:00:00\",\"2021-01-01T00:00:00\",\"2021-02-01T00:00:00\",\"2021-03-01T00:00:00\",\"2021-04-01T00:00:00\",\"2021-05-01T00:00:00\",\"2021-06-01T00:00:00\",\"2021-07-01T00:00:00\",\"2021-08-01T00:00:00\",\"2021-09-01T00:00:00\",\"2021-10-01T00:00:00\",\"2021-11-01T00:00:00\",\"2021-12-01T00:00:00\",\"2022-01-01T00:00:00\",\"2022-02-01T00:00:00\",\"2022-03-01T00:00:00\",\"2022-04-01T00:00:00\",\"2022-05-01T00:00:00\",\"2022-06-01T00:00:00\",\"2022-07-01T00:00:00\",\"2022-08-01T00:00:00\",\"2022-09-01T00:00:00\",\"2022-10-01T00:00:00\",\"2022-11-01T00:00:00\",\"2022-12-01T00:00:00\",\"2023-01-01T00:00:00\",\"2023-02-01T00:00:00\",\"2023-03-01T00:00:00\",\"2023-04-01T00:00:00\",\"2023-05-01T00:00:00\",\"2023-06-01T00:00:00\",\"2023-07-01T00:00:00\",\"2023-08-01T00:00:00\",\"2023-09-01T00:00:00\",\"2023-10-01T00:00:00\",\"2023-11-01T00:00:00\",\"2023-12-01T00:00:00\",\"2024-01-01T00:00:00\",\"2024-02-01T00:00:00\",\"2024-03-01T00:00:00\",\"2024-04-01T00:00:00\",\"2024-05-01T00:00:00\",\"2018-02-01T00:00:00\",\"2018-03-01T00:00:00\",\"2018-04-01T00:00:00\",\"2018-05-01T00:00:00\",\"2018-06-01T00:00:00\",\"2018-07-01T00:00:00\",\"2018-08-01T00:00:00\",\"2018-09-01T00:00:00\",\"2018-10-01T00:00:00\",\"2018-11-01T00:00:00\",\"2018-12-01T00:00:00\",\"2019-01-01T00:00:00\",\"2019-02-01T00:00:00\",\"2019-03-01T00:00:00\",\"2019-04-01T00:00:00\",\"2019-05-01T00:00:00\",\"2019-06-01T00:00:00\",\"2019-07-01T00:00:00\",\"2019-08-01T00:00:00\",\"2019-09-01T00:00:00\",\"2019-10-01T00:00:00\",\"2019-11-01T00:00:00\",\"2019-12-01T00:00:00\",\"2020-01-01T00:00:00\",\"2020-02-01T00:00:00\",\"2020-03-01T00:00:00\",\"2020-04-01T00:00:00\",\"2020-05-01T00:00:00\",\"2020-06-01T00:00:00\",\"2020-07-01T00:00:00\",\"2020-08-01T00:00:00\",\"2020-09-01T00:00:00\",\"2020-10-01T00:00:00\",\"2020-11-01T00:00:00\",\"2020-12-01T00:00:00\",\"2021-01-01T00:00:00\",\"2021-02-01T00:00:00\",\"2021-03-01T00:00:00\",\"2021-04-01T00:00:00\",\"2021-05-01T00:00:00\",\"2021-06-01T00:00:00\",\"2021-07-01T00:00:00\",\"2021-08-01T00:00:00\",\"2021-09-01T00:00:00\",\"2021-10-01T00:00:00\",\"2021-11-01T00:00:00\",\"2021-12-01T00:00:00\",\"2022-01-01T00:00:00\",\"2022-02-01T00:00:00\",\"2022-03-01T00:00:00\",\"2022-04-01T00:00:00\",\"2022-05-01T00:00:00\",\"2022-06-01T00:00:00\",\"2022-07-01T00:00:00\",\"2022-08-01T00:00:00\",\"2022-09-01T00:00:00\",\"2022-10-01T00:00:00\",\"2022-11-01T00:00:00\",\"2022-12-01T00:00:00\",\"2023-01-01T00:00:00\",\"2023-02-01T00:00:00\",\"2023-03-01T00:00:00\",\"2023-04-01T00:00:00\",\"2023-05-01T00:00:00\",\"2023-06-01T00:00:00\",\"2023-07-01T00:00:00\",\"2023-08-01T00:00:00\",\"2023-09-01T00:00:00\",\"2023-10-01T00:00:00\",\"2023-11-01T00:00:00\",\"2023-12-01T00:00:00\",\"2024-01-01T00:00:00\",\"2024-02-01T00:00:00\",\"2024-03-01T00:00:00\",\"2024-04-01T00:00:00\",\"2024-05-01T00:00:00\",\"2018-02-01T00:00:00\",\"2018-03-01T00:00:00\",\"2018-04-01T00:00:00\",\"2018-05-01T00:00:00\",\"2018-06-01T00:00:00\",\"2018-07-01T00:00:00\",\"2018-08-01T00:00:00\",\"2018-09-01T00:00:00\",\"2018-10-01T00:00:00\",\"2018-11-01T00:00:00\",\"2018-12-01T00:00:00\",\"2019-01-01T00:00:00\",\"2019-02-01T00:00:00\",\"2019-03-01T00:00:00\",\"2019-04-01T00:00:00\",\"2019-05-01T00:00:00\",\"2019-06-01T00:00:00\",\"2019-07-01T00:00:00\",\"2019-08-01T00:00:00\",\"2019-09-01T00:00:00\",\"2019-10-01T00:00:00\",\"2019-11-01T00:00:00\",\"2019-12-01T00:00:00\",\"2020-01-01T00:00:00\",\"2020-02-01T00:00:00\",\"2020-03-01T00:00:00\",\"2020-04-01T00:00:00\",\"2020-05-01T00:00:00\",\"2020-06-01T00:00:00\",\"2020-07-01T00:00:00\",\"2020-08-01T00:00:00\",\"2020-09-01T00:00:00\",\"2020-10-01T00:00:00\",\"2020-11-01T00:00:00\",\"2020-12-01T00:00:00\",\"2021-01-01T00:00:00\",\"2021-02-01T00:00:00\",\"2021-03-01T00:00:00\",\"2021-04-01T00:00:00\",\"2021-05-01T00:00:00\",\"2021-06-01T00:00:00\",\"2021-07-01T00:00:00\",\"2021-08-01T00:00:00\",\"2021-09-01T00:00:00\",\"2021-10-01T00:00:00\",\"2021-11-01T00:00:00\",\"2021-12-01T00:00:00\",\"2022-01-01T00:00:00\",\"2022-02-01T00:00:00\",\"2022-03-01T00:00:00\",\"2022-04-01T00:00:00\",\"2022-05-01T00:00:00\",\"2022-06-01T00:00:00\",\"2022-07-01T00:00:00\",\"2022-08-01T00:00:00\",\"2022-09-01T00:00:00\",\"2022-10-01T00:00:00\",\"2022-11-01T00:00:00\",\"2022-12-01T00:00:00\",\"2023-01-01T00:00:00\",\"2023-02-01T00:00:00\",\"2023-03-01T00:00:00\",\"2023-04-01T00:00:00\",\"2023-05-01T00:00:00\",\"2023-06-01T00:00:00\",\"2023-07-01T00:00:00\",\"2023-08-01T00:00:00\",\"2023-09-01T00:00:00\",\"2023-10-01T00:00:00\",\"2023-11-01T00:00:00\",\"2023-12-01T00:00:00\",\"2024-01-01T00:00:00\",\"2024-02-01T00:00:00\",\"2024-03-01T00:00:00\",\"2024-04-01T00:00:00\",\"2024-05-01T00:00:00\"],\"xaxis\":\"x\",\"y\":[130232.82596440928,131259.4637199285,132094.2105850359,132809.1290000485,133046.0930375165,133455.74601581262,134210.25530840122,135241.58974019295,136337.34731700888,137857.98293259306,139173.63382516478,140208.18956835198,140994.0858765582,142121.55428644925,143439.20037086165,144822.10300935002,145944.90748561706,147089.75163044003,148012.73917665635,148827.96968525203,149699.00464402398,150594.47847843796,151746.34806711986,152418.11329887685,152927.30399206342,153342.25724241525,154006.56846303985,154449.9810071976,154596.46497007966,155257.32805961624,156703.8770878027,158705.03543478422,159665.4944269132,159643.6948572995,158776.37452698062,158592.69278508108,159354.75756510985,160549.75334328366,161814.74232479595,162725.99457861955,163817.868992819,164726.2755114952,165408.77127761478,165794.12881332333,166389.1901943639,167456.68448894334,168456.7652368569,169548.9286825565,170182.77916497775,170490.09601382658,170541.88317792237,170721.63314826728,171515.90970756754,172035.61828505847,172187.90715522625,171895.0125009863,171803.69069068055,171515.28960787968,170745.9161243067,170023.23059994975,169203.65830460622,168403.65998527044,167808.12225018803,167382.85779985247,167298.16926335075,166516.7597737076,165561.03915920234,164099.47214842765,162666.78024646093,161594.02302297586,160758.64685520562,160387.0494472546,160619.77201921132,161904.2876672397,163549.5297749846,164604.4184592069,119749.60387266598,119754.73236788716,119642.75843194568,119802.24057282896,119777.93020088224,120062.5898336882,120140.6223565686,120232.897268827,120132.04662250222,120536.41129971674,120977.47305577336,120293.8138402836,118870.91033499122,117245.28748091012,116567.49628905252,116400.8845588272,116497.85259052762,116898.09437335418,117357.03749081092,117843.86042387356,118390.37716633597,118952.72260136517,119532.3829057036,120169.1732432028,121053.9346217537,122177.66136084028,123333.45804609012,124245.12780001924,124984.27460220404,126047.91157811297,127672.25931814934,129775.87699820078,131496.4572431006,133030.40980684746,134148.05717830223,135658.6638124146,137290.4536159092,139372.64720710358,141697.4092247264,144492.82501567373,147926.11984980424,151342.17905799134,154113.88689189358,155446.94043856958,156800.89918993818,158677.47295107236,160990.12179771304,163518.92419611043,165816.43114560537,168128.0869268574,170076.04594967063,171812.11868748785,173755.52082527053,174883.6169932876,175450.57076553183,175414.30319879416,175988.58557069892,176565.81233128975,177116.2082358486,178111.1216095671,179810.5360451,182487.2931575381,184863.3446565204,186198.17866322948,186722.47702798664,186718.79628900543,186873.0660784091,186876.83396762895,186655.6551094041,186444.8124364562,185862.32427758627,186339.91633052845,187803.51854223607,189972.726719482,191397.7695799619,192062.31455058567,220742.8114242305,221878.7676239865,222805.3440713597,223601.31378575,223997.42709157555,224556.73931529265,225320.54886528652,226139.51080385657,226604.327847694,226990.01042900595,227365.52083536136,227323.573284313,226959.01041282385,226329.13777998544,225779.3156502992,225234.10302390112,224564.01416929247,224203.0075985586,224130.6347696045,224230.11677436263,224433.8531823696,224842.8676334672,225470.18596346528,226217.98124813905,226877.27514503975,227551.5375789626,228157.3540104564,228489.24832741695,228716.28231911024,229325.424948904,230587.3561856098,232584.219500708,234670.60236820733,236665.0961774637,238356.19943237255,239960.7281553902,241352.91166699503,242271.33324590372,242902.6607981996,244327.48525944585,246731.9092287733,249934.09315686623,252575.9724014399,254305.59126471748,255904.26204535452,258276.12318934765,261371.2481755196,264733.29088836367,267716.2977755266,270856.5021673611,274140.747241939,277584.2186124097,280638.581519073,282525.1879229806,283213.6846257184,283046.099106799,282941.42162262293,283093.0243009466,283717.64627341536,284594.61561973154,285886.2582209289,287382.8272308247,289248.3147888075,291333.57317672606,293505.9267932459,295053.6520362306,295826.92829602543,295499.3856476574,294582.3816078503,293957.8854484137,293679.8607545275,294405.0676794343,295515.002221864,297338.5618935188,298789.0258093045,299440.0749077239,166118.0015936902,166855.61135901642,167178.0446159639,167304.68886126808,167074.56656716674,167089.65820288254,167229.7019127319,167447.01512690945,167466.0194387644,167745.6351497633,168121.76195075733,168226.94771683082,168230.3212627142,168580.61974040387,169625.21322273143,171054.69693515913,172628.36821299457,174005.20488663993,175242.2599467178,176242.54564190374,177238.30573543083,178262.37946408227,179449.01237071946,180299.18321641177,180785.88362522816,180880.10258123977,181353.6925468011,181724.07840681763,182300.5539304712,183463.6206520712,185368.1279041837,187587.54728696015,188721.9204912393,189129.0038848865,189045.19194459837,190027.7983183806,191945.2209862127,194381.81946784828,196893.64863056815,198875.85499403407,200845.4099889874,202376.39681533695,203786.1928318581,204779.4681021213,205806.852330348,207467.11778120245,209294.85318154105,211458.48981407852,213276.76178545447,215380.4786801189,217334.88486788824,219430.46633795183,221301.48409689023,222403.59343469384,222458.54894811547,221946.23988416785,221766.2000000184,221619.33432596584,221012.67674893184,220078.45220267275,218943.59345696936,218334.10739044205,218429.77476568404,219409.62009732323,220698.3293582957,221530.98198013369,221953.9190046415,221659.59168396765,221102.1541817748,220294.87698300465,219390.66931917684,218974.53003759528,219048.3051854096,219816.882166894,220529.97743082207,221027.2923864607,241533.2317998944,243401.18062163447,245066.6679000393,246632.055246072,247698.530484896,248795.15686098943,249618.96024742303,250369.5333821096,250809.2077771818,251298.01769884207,252006.96087103875,252932.20211666095,253934.7806518794,254797.0753960997,255271.13451549248,255465.9107372434,255526.5290521857,255623.1857022525,255865.89565810663,256249.40705657416,256944.09219659725,257925.33088980225,259140.125874058,260680.2664683239,262243.06768329407,263729.0958530653,264511.3550411114,264501.95772960834,264284.6108692232,264647.39614845737,266082.84441934223,268575.1964415133,271684.785505315,275322.43866438605,278998.01153311384,282885.046983205,286997.3581185272,291580.80811756104,296647.25338210264,302484.63037659554,308595.3634749222,314132.0124939936,318423.0016112922,321780.19828602485,325351.70178570173,329758.5932858408,334817.03563828446,341846.5004815559,350284.2850831554,359859.3476970634,369318.6192154929,377881.3874606388,385221.6058786739,389253.4122202708,389922.8673119975,388206.2572981782,386124.3739924052,384192.7786770056,382182.6784689615,379592.6168153885,377283.6952041017,375717.42928008287,375155.2769509505,375446.6992790301,376280.6714486769,377276.59359260096,378216.3482993771,378639.42740027775,378756.143029818,378614.73156748194,378282.4782840258,378304.5408275651,378794.93540095934,379972.3496666262,380957.3923948121,381103.62585133937,208651.87227200915,209394.15774940996,210193.45882467725,211188.5476963647,212022.6110658584,212965.24787162023,213762.8576806239,214562.25982286345,215225.4105533084,215958.60236936496,216742.2782004479,217559.75302762171,218406.6653163856,219212.48609715712,219813.01799342988,220264.6624501937,220576.5116376398,220893.946390034,221259.98558647756,221728.36466511525,222362.3693830055,223233.28486446143,224177.14631848276,225149.96306974732,226000.0161207904,226814.06308532227,227318.70189625863,227317.16624516796,227275.08658598308,227675.8414386484,228844.42319553692,230620.1537056613,232796.5700230433,235445.82059316317,238110.0782683168,240881.42402539137,243676.48579641816,246778.8024069694,250135.2290261465,254026.4140652574,258288.8800849705,262224.8896335086,265272.5063708288,267559.0755529756,270087.3107528386,273272.80242266954,276862.3485257619,281462.1296988184,286669.26550962194,292740.2948093656,298570.7903601615,303908.2627487078,308460.793862114,311526.8262448658,312850.72328044724,312763.53071146645,312234.3882518885,311599.2754477028,310404.1972824221,308611.2528665503,306908.9265603334,305742.4645551119,305287.1301520963,305444.39915997913,306261.7391084027,307198.9008350301,308087.64291303104,308449.84128639294,308475.8640738434,308187.1962040974,307768.39441865304,307762.3171161316,308143.615241629,309138.2605107803,310167.057071235,310706.91531119635,105348.86443083428,106010.93518785929,106631.44701245852,107354.21581003407,107945.7024540172,108467.14690045384,108768.65933935944,109093.50587796512,109246.0319095044,109532.75632385492,109726.22529657936,109632.83081077693,109429.6981041025,109468.34680968136,110118.50382332016,111045.15795761097,112058.24509627798,113099.78750615576,113861.6103694796,114408.39934169604,114971.02781266964,115739.448817263,116549.40392724868,117200.25225720702,118032.27003958466,118937.13757168164,119863.9847287332,120463.9475474044,121037.840079255,121958.8783353025,123386.90402025744,125125.33348184008,127071.8099012712,129293.55425380517,131484.00833168154,133482.5704647109,135183.85947194658,136780.80814662043,138384.86455272575,140088.11673120531,142115.46852572603,143608.47442381794,144402.38521887502,144284.78949278794,144749.2123975232,145836.37516457494,147481.13782892746,150181.61487398567,153567.09833798787,157563.90532678625,160617.26575329909,163215.6415707299,165651.33882086803,168056.36108141684,169844.95026104402,170910.74967149677,171589.52724138522,172064.79687268205,172159.8791241195,172098.1964547107,172409.42721092282,173287.10149159367,174559.74644122444,175987.25425149428,177248.27600244162,178120.2587915638,178759.37645026765,179729.59340127624,181217.43024567157,182886.13973334595,184154.42054317956,184846.63599344535,185285.42081528905,185919.5645939931,186698.65946572836,187201.08350917615,168485.0061364095,169040.6770988302,169589.61109308712,170693.50363214695,171586.08153160816,172337.0174708957,172910.16569178549,173518.77302707575,173889.0090286981,174205.91160129523,174357.43520165546,174293.05284736407,173953.73065937066,173804.75701808813,173990.4936395732,174567.2835021003,175303.7368539569,176378.3908765189,177395.98050601408,178311.99610744196,179212.58224728398,180452.72076112524,181805.54964863163,183110.07930405543,184046.826888507,184915.8213237541,185727.1877647057,186507.019611658,187320.78092745645,188480.88301658165,190111.22629201144,192369.206645151,194495.7862563208,196700.6399843121,198177.98319803237,199737.3125897471,201469.64147526355,203641.64725679925,205917.06613388905,208644.0432651796,211897.43268268043,215623.3680983331,219019.3250878339,221877.463527136,224402.8659989865,227394.3225260125,230489.7417866077,233998.3970746341,236995.04798994857,239930.42408026173,243061.79351031425,246775.2391713321,250986.7957461444,254122.3439313492,256021.0870015901,256553.7112371244,256927.39981532897,257366.5644863774,258394.63372749407,259721.74567791203,261044.73767388143,262687.9209040738,264370.2825300831,266496.6917480639,268689.63257021963,270491.9623849018,271521.89553558326,271596.9791352114,271591.66073741025,271345.30850672774,270636.4789247042,270135.9233572016,270679.72393441893,272107.38226380403,273168.2106861078,273020.0797830662,147563.29262679044,148772.3597652636,149736.88504088804,150905.80605364367,151842.53017098553,152957.40436307577,153850.1438903759,154801.78861506275,155543.22779627587,156408.2513465427,157071.22962277255,157922.1630217985,158834.1028481848,159875.79989165743,160885.43187662607,161880.61906093478,162873.7083428544,163684.61333876345,164219.7983915475,164645.24429942566,165310.62695176725,166116.06887095506,167032.50949472215,168068.85734387653,169332.24643312022,170737.2815160354,171821.9862672824,172566.19104905284,173202.54072993243,174359.47703704843,176172.71161435742,178641.77668411107,181528.7549575416,184649.88956708755,187429.0253993073,189791.731783482,192235.82748593492,195022.70246926203,198347.94949085545,202076.6105532512,206632.37442584,211063.37849084023,214557.4793422744,216819.81220161528,218708.34700458104,221047.4852935515,223560.5977827392,227545.43938122268,232448.34988101537,238672.73808972372,244474.7378468027,249699.47074591523,253858.03384564733,256476.48252951456,257290.33304799435,256906.28083901523,256354.23653273165,255992.51263585585,255426.054418929,254455.87782892585,253591.2944350057,253196.8438536067,253746.58886819892,254775.0237512045,256192.8614573048,257023.5796062127,257402.47867023965,256730.21109617964,255704.29133200995,254544.1554143941,253853.6396147936,253916.1892387349,254722.52457478276,256018.7604383028,257400.70698226104,258148.87167404915],\"yaxis\":\"y\",\"type\":\"scatter\"}],                        {\"template\":{\"data\":{\"histogram2dcontour\":[{\"type\":\"histogram2dcontour\",\"colorbar\":{\"outlinewidth\":0,\"ticks\":\"\"},\"colorscale\":[[0.0,\"#0d0887\"],[0.1111111111111111,\"#46039f\"],[0.2222222222222222,\"#7201a8\"],[0.3333333333333333,\"#9c179e\"],[0.4444444444444444,\"#bd3786\"],[0.5555555555555556,\"#d8576b\"],[0.6666666666666666,\"#ed7953\"],[0.7777777777777778,\"#fb9f3a\"],[0.8888888888888888,\"#fdca26\"],[1.0,\"#f0f921\"]]}],\"choropleth\":[{\"type\":\"choropleth\",\"colorbar\":{\"outlinewidth\":0,\"ticks\":\"\"}}],\"histogram2d\":[{\"type\":\"histogram2d\",\"colorbar\":{\"outlinewidth\":0,\"ticks\":\"\"},\"colorscale\":[[0.0,\"#0d0887\"],[0.1111111111111111,\"#46039f\"],[0.2222222222222222,\"#7201a8\"],[0.3333333333333333,\"#9c179e\"],[0.4444444444444444,\"#bd3786\"],[0.5555555555555556,\"#d8576b\"],[0.6666666666666666,\"#ed7953\"],[0.7777777777777778,\"#fb9f3a\"],[0.8888888888888888,\"#fdca26\"],[1.0,\"#f0f921\"]]}],\"heatmap\":[{\"type\":\"heatmap\",\"colorbar\":{\"outlinewidth\":0,\"ticks\":\"\"},\"colorscale\":[[0.0,\"#0d0887\"],[0.1111111111111111,\"#46039f\"],[0.2222222222222222,\"#7201a8\"],[0.3333333333333333,\"#9c179e\"],[0.4444444444444444,\"#bd3786\"],[0.5555555555555556,\"#d8576b\"],[0.6666666666666666,\"#ed7953\"],[0.7777777777777778,\"#fb9f3a\"],[0.8888888888888888,\"#fdca26\"],[1.0,\"#f0f921\"]]}],\"heatmapgl\":[{\"type\":\"heatmapgl\",\"colorbar\":{\"outlinewidth\":0,\"ticks\":\"\"},\"colorscale\":[[0.0,\"#0d0887\"],[0.1111111111111111,\"#46039f\"],[0.2222222222222222,\"#7201a8\"],[0.3333333333333333,\"#9c179e\"],[0.4444444444444444,\"#bd3786\"],[0.5555555555555556,\"#d8576b\"],[0.6666666666666666,\"#ed7953\"],[0.7777777777777778,\"#fb9f3a\"],[0.8888888888888888,\"#fdca26\"],[1.0,\"#f0f921\"]]}],\"contourcarpet\":[{\"type\":\"contourcarpet\",\"colorbar\":{\"outlinewidth\":0,\"ticks\":\"\"}}],\"contour\":[{\"type\":\"contour\",\"colorbar\":{\"outlinewidth\":0,\"ticks\":\"\"},\"colorscale\":[[0.0,\"#0d0887\"],[0.1111111111111111,\"#46039f\"],[0.2222222222222222,\"#7201a8\"],[0.3333333333333333,\"#9c179e\"],[0.4444444444444444,\"#bd3786\"],[0.5555555555555556,\"#d8576b\"],[0.6666666666666666,\"#ed7953\"],[0.7777777777777778,\"#fb9f3a\"],[0.8888888888888888,\"#fdca26\"],[1.0,\"#f0f921\"]]}],\"surface\":[{\"type\":\"surface\",\"colorbar\":{\"outlinewidth\":0,\"ticks\":\"\"},\"colorscale\":[[0.0,\"#0d0887\"],[0.1111111111111111,\"#46039f\"],[0.2222222222222222,\"#7201a8\"],[0.3333333333333333,\"#9c179e\"],[0.4444444444444444,\"#bd3786\"],[0.5555555555555556,\"#d8576b\"],[0.6666666666666666,\"#ed7953\"],[0.7777777777777778,\"#fb9f3a\"],[0.8888888888888888,\"#fdca26\"],[1.0,\"#f0f921\"]]}],\"mesh3d\":[{\"type\":\"mesh3d\",\"colorbar\":{\"outlinewidth\":0,\"ticks\":\"\"}}],\"scatter\":[{\"fillpattern\":{\"fillmode\":\"overlay\",\"size\":10,\"solidity\":0.2},\"type\":\"scatter\"}],\"parcoords\":[{\"type\":\"parcoords\",\"line\":{\"colorbar\":{\"outlinewidth\":0,\"ticks\":\"\"}}}],\"scatterpolargl\":[{\"type\":\"scatterpolargl\",\"marker\":{\"colorbar\":{\"outlinewidth\":0,\"ticks\":\"\"}}}],\"bar\":[{\"error_x\":{\"color\":\"#2a3f5f\"},\"error_y\":{\"color\":\"#2a3f5f\"},\"marker\":{\"line\":{\"color\":\"#E5ECF6\",\"width\":0.5},\"pattern\":{\"fillmode\":\"overlay\",\"size\":10,\"solidity\":0.2}},\"type\":\"bar\"}],\"scattergeo\":[{\"type\":\"scattergeo\",\"marker\":{\"colorbar\":{\"outlinewidth\":0,\"ticks\":\"\"}}}],\"scatterpolar\":[{\"type\":\"scatterpolar\",\"marker\":{\"colorbar\":{\"outlinewidth\":0,\"ticks\":\"\"}}}],\"histogram\":[{\"marker\":{\"pattern\":{\"fillmode\":\"overlay\",\"size\":10,\"solidity\":0.2}},\"type\":\"histogram\"}],\"scattergl\":[{\"type\":\"scattergl\",\"marker\":{\"colorbar\":{\"outlinewidth\":0,\"ticks\":\"\"}}}],\"scatter3d\":[{\"type\":\"scatter3d\",\"line\":{\"colorbar\":{\"outlinewidth\":0,\"ticks\":\"\"}},\"marker\":{\"colorbar\":{\"outlinewidth\":0,\"ticks\":\"\"}}}],\"scattermapbox\":[{\"type\":\"scattermapbox\",\"marker\":{\"colorbar\":{\"outlinewidth\":0,\"ticks\":\"\"}}}],\"scatterternary\":[{\"type\":\"scatterternary\",\"marker\":{\"colorbar\":{\"outlinewidth\":0,\"ticks\":\"\"}}}],\"scattercarpet\":[{\"type\":\"scattercarpet\",\"marker\":{\"colorbar\":{\"outlinewidth\":0,\"ticks\":\"\"}}}],\"carpet\":[{\"aaxis\":{\"endlinecolor\":\"#2a3f5f\",\"gridcolor\":\"white\",\"linecolor\":\"white\",\"minorgridcolor\":\"white\",\"startlinecolor\":\"#2a3f5f\"},\"baxis\":{\"endlinecolor\":\"#2a3f5f\",\"gridcolor\":\"white\",\"linecolor\":\"white\",\"minorgridcolor\":\"white\",\"startlinecolor\":\"#2a3f5f\"},\"type\":\"carpet\"}],\"table\":[{\"cells\":{\"fill\":{\"color\":\"#EBF0F8\"},\"line\":{\"color\":\"white\"}},\"header\":{\"fill\":{\"color\":\"#C8D4E3\"},\"line\":{\"color\":\"white\"}},\"type\":\"table\"}],\"barpolar\":[{\"marker\":{\"line\":{\"color\":\"#E5ECF6\",\"width\":0.5},\"pattern\":{\"fillmode\":\"overlay\",\"size\":10,\"solidity\":0.2}},\"type\":\"barpolar\"}],\"pie\":[{\"automargin\":true,\"type\":\"pie\"}]},\"layout\":{\"autotypenumbers\":\"strict\",\"colorway\":[\"#636efa\",\"#EF553B\",\"#00cc96\",\"#ab63fa\",\"#FFA15A\",\"#19d3f3\",\"#FF6692\",\"#B6E880\",\"#FF97FF\",\"#FECB52\"],\"font\":{\"color\":\"#2a3f5f\"},\"hovermode\":\"closest\",\"hoverlabel\":{\"align\":\"left\"},\"paper_bgcolor\":\"white\",\"plot_bgcolor\":\"#E5ECF6\",\"polar\":{\"bgcolor\":\"#E5ECF6\",\"angularaxis\":{\"gridcolor\":\"white\",\"linecolor\":\"white\",\"ticks\":\"\"},\"radialaxis\":{\"gridcolor\":\"white\",\"linecolor\":\"white\",\"ticks\":\"\"}},\"ternary\":{\"bgcolor\":\"#E5ECF6\",\"aaxis\":{\"gridcolor\":\"white\",\"linecolor\":\"white\",\"ticks\":\"\"},\"baxis\":{\"gridcolor\":\"white\",\"linecolor\":\"white\",\"ticks\":\"\"},\"caxis\":{\"gridcolor\":\"white\",\"linecolor\":\"white\",\"ticks\":\"\"}},\"coloraxis\":{\"colorbar\":{\"outlinewidth\":0,\"ticks\":\"\"}},\"colorscale\":{\"sequential\":[[0.0,\"#0d0887\"],[0.1111111111111111,\"#46039f\"],[0.2222222222222222,\"#7201a8\"],[0.3333333333333333,\"#9c179e\"],[0.4444444444444444,\"#bd3786\"],[0.5555555555555556,\"#d8576b\"],[0.6666666666666666,\"#ed7953\"],[0.7777777777777778,\"#fb9f3a\"],[0.8888888888888888,\"#fdca26\"],[1.0,\"#f0f921\"]],\"sequentialminus\":[[0.0,\"#0d0887\"],[0.1111111111111111,\"#46039f\"],[0.2222222222222222,\"#7201a8\"],[0.3333333333333333,\"#9c179e\"],[0.4444444444444444,\"#bd3786\"],[0.5555555555555556,\"#d8576b\"],[0.6666666666666666,\"#ed7953\"],[0.7777777777777778,\"#fb9f3a\"],[0.8888888888888888,\"#fdca26\"],[1.0,\"#f0f921\"]],\"diverging\":[[0,\"#8e0152\"],[0.1,\"#c51b7d\"],[0.2,\"#de77ae\"],[0.3,\"#f1b6da\"],[0.4,\"#fde0ef\"],[0.5,\"#f7f7f7\"],[0.6,\"#e6f5d0\"],[0.7,\"#b8e186\"],[0.8,\"#7fbc41\"],[0.9,\"#4d9221\"],[1,\"#276419\"]]},\"xaxis\":{\"gridcolor\":\"white\",\"linecolor\":\"white\",\"ticks\":\"\",\"title\":{\"standoff\":15},\"zerolinecolor\":\"white\",\"automargin\":true,\"zerolinewidth\":2},\"yaxis\":{\"gridcolor\":\"white\",\"linecolor\":\"white\",\"ticks\":\"\",\"title\":{\"standoff\":15},\"zerolinecolor\":\"white\",\"automargin\":true,\"zerolinewidth\":2},\"scene\":{\"xaxis\":{\"backgroundcolor\":\"#E5ECF6\",\"gridcolor\":\"white\",\"linecolor\":\"white\",\"showbackground\":true,\"ticks\":\"\",\"zerolinecolor\":\"white\",\"gridwidth\":2},\"yaxis\":{\"backgroundcolor\":\"#E5ECF6\",\"gridcolor\":\"white\",\"linecolor\":\"white\",\"showbackground\":true,\"ticks\":\"\",\"zerolinecolor\":\"white\",\"gridwidth\":2},\"zaxis\":{\"backgroundcolor\":\"#E5ECF6\",\"gridcolor\":\"white\",\"linecolor\":\"white\",\"showbackground\":true,\"ticks\":\"\",\"zerolinecolor\":\"white\",\"gridwidth\":2}},\"shapedefaults\":{\"line\":{\"color\":\"#2a3f5f\"}},\"annotationdefaults\":{\"arrowcolor\":\"#2a3f5f\",\"arrowhead\":0,\"arrowwidth\":1},\"geo\":{\"bgcolor\":\"white\",\"landcolor\":\"#E5ECF6\",\"subunitcolor\":\"white\",\"showland\":true,\"showlakes\":true,\"lakecolor\":\"white\"},\"title\":{\"x\":0.05},\"mapbox\":{\"style\":\"light\"}}},\"xaxis\":{\"anchor\":\"y\",\"domain\":[0.0,1.0],\"title\":{\"text\":\"HomeValue\"},\"tickformat\":\"%Y-%m\",\"showgrid\":true},\"yaxis\":{\"anchor\":\"x\",\"domain\":[0.0,1.0],\"title\":{\"text\":\"Date\"},\"showgrid\":true},\"legend\":{\"tracegroupgap\":0},\"title\":{\"text\":\"HomeValue vs. Date\"}},                        {\"responsive\": true}                    ).then(function(){\n",
       "                            \n",
       "var gd = document.getElementById('c826a657-b84f-4ba4-8a9c-521405d5e48c');\n",
       "var x = new MutationObserver(function (mutations, observer) {{\n",
       "        var display = window.getComputedStyle(gd).display;\n",
       "        if (!display || display === 'none') {{\n",
       "            console.log([gd, 'removed!']);\n",
       "            Plotly.purge(gd);\n",
       "            observer.disconnect();\n",
       "        }}\n",
       "}});\n",
       "\n",
       "// Listen for the removal of the full notebook cells\n",
       "var notebookContainer = gd.closest('#notebook-container');\n",
       "if (notebookContainer) {{\n",
       "    x.observe(notebookContainer, {childList: true});\n",
       "}}\n",
       "\n",
       "// Listen for the clearing of the current output cell\n",
       "var outputEl = gd.closest('.output');\n",
       "if (outputEl) {{\n",
       "    x.observe(outputEl, {childList: true});\n",
       "}}\n",
       "\n",
       "                        })                };                });            </script>        </div>"
      ]
     },
     "metadata": {},
     "output_type": "display_data"
    }
   ],
   "source": [
    "fig = px.scatter(\n",
    "    TX_df, \n",
    "    x='Date',\n",
    "    y='HomeValue',\n",
    "    hover_data={'Location':True, 'HomeValue':True},\n",
    "    title='Cost of the Homes in California',\n",
    "    labels={'x': 'Date', 'y': 'HomeValue'}\n",
    ")\n",
    "\n",
    "fig.update_layout(\n",
    "    xaxis_title='HomeValue',\n",
    "    yaxis_title='Date',\n",
    "    title='HomeValue vs. Date',\n",
    "    xaxis=dict(\n",
    "        tickformat='%Y-%m',\n",
    "        showgrid=True\n",
    "    ),\n",
    "    yaxis=dict(\n",
    "        showgrid=True\n",
    "    )\n",
    ")\n",
    "fig.show()"
   ]
  },
  {
   "cell_type": "code",
   "execution_count": null,
   "id": "9a92c11a-5acc-4a14-95e5-a300b103d26e",
   "metadata": {},
   "outputs": [],
   "source": [
    "#Have the Mean of TX 2018"
   ]
  },
  {
   "cell_type": "code",
   "execution_count": null,
   "id": "9e9e8f80-58a0-4e2c-b270-c9a1dfef1868",
   "metadata": {},
   "outputs": [],
   "source": [
    "#Have the Mean of TX 2024"
   ]
  },
  {
   "cell_type": "code",
   "execution_count": null,
   "id": "bb7f6dfb-3b68-40cf-bf04-fddf989499c7",
   "metadata": {},
   "outputs": [],
   "source": [
    "#comparing the two means to see how TX property increased. "
   ]
  },
  {
   "cell_type": "code",
   "execution_count": null,
   "id": "736adbfd-3bc0-4f7a-a99b-d0ee623e26b7",
   "metadata": {},
   "outputs": [],
   "source": [
    "#Outliers in the two states"
   ]
  },
  {
   "cell_type": "code",
   "execution_count": null,
   "id": "3c5b9af7-de35-4a76-8c17-0ccea721ed76",
   "metadata": {},
   "outputs": [],
   "source": []
  }
 ],
 "metadata": {
  "kernelspec": {
   "display_name": "Python 3 (ipykernel)",
   "language": "python",
   "name": "python3"
  },
  "language_info": {
   "codemirror_mode": {
    "name": "ipython",
    "version": 3
   },
   "file_extension": ".py",
   "mimetype": "text/x-python",
   "name": "python",
   "nbconvert_exporter": "python",
   "pygments_lexer": "ipython3",
   "version": "3.11.7"
  }
 },
 "nbformat": 4,
 "nbformat_minor": 5
}
